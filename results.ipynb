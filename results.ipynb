{
 "metadata": {
  "language_info": {
   "codemirror_mode": {
    "name": "ipython",
    "version": 3
   },
   "file_extension": ".py",
   "mimetype": "text/x-python",
   "name": "python",
   "nbconvert_exporter": "python",
   "pygments_lexer": "ipython3",
   "version": "3.8.6"
  },
  "orig_nbformat": 2,
  "kernelspec": {
   "name": "python3",
   "display_name": "Python 3.8.6 64-bit ('3.8.6': pyenv)",
   "metadata": {
    "interpreter": {
     "hash": "c0512568f1f88882f9e52e4bccf05b7b174515bd1f8d9272525f4c4b7146bf6c"
    }
   }
  }
 },
 "nbformat": 4,
 "nbformat_minor": 2,
 "cells": [
  {
   "cell_type": "code",
   "execution_count": 1,
   "metadata": {},
   "outputs": [
    {
     "output_type": "execute_result",
     "data": {
      "text/plain": [
       "                  data_ora durata tipo  \\\n",
       "0      25-03-2018 00:32:18     17    V   \n",
       "1      13-04-2018 20:27:22      4    V   \n",
       "2      18-04-2018 09:18:39     45    V   \n",
       "3      19-04-2018 20:16:21     17    V   \n",
       "4      30-04-2018 06:03:30     10    V   \n",
       "...                    ...    ...  ...   \n",
       "11228  28/12/2017 16:43:27      9    V   \n",
       "11229  28/11/2017 14:19:07      0    S   \n",
       "11230  04/12/2017 17:44:23      0    S   \n",
       "11231  04/12/2017 17:44:23      0    S   \n",
       "11232  04/12/2017 17:44:23      0    S   \n",
       "\n",
       "                                    da_torre_cell_inizio da_torre_cell_fine  \\\n",
       "0                                                    NaN                NaN   \n",
       "1                                                    NaN                NaN   \n",
       "2                                                    NaN                NaN   \n",
       "3                                                    NaN                NaN   \n",
       "4                                                    NaN                NaN   \n",
       "...                                                  ...                ...   \n",
       "11228                                                NaN                NaN   \n",
       "11229  014360065-STADIO COMUNALE S. GIUSTO, VIALE BAG...                NaN   \n",
       "11230                                                NaN                NaN   \n",
       "11231                                                NaN                NaN   \n",
       "11232  22288 2450543084-N/D VIA LAGO SANTO, SNC SNC -...                NaN   \n",
       "\n",
       "      da_cgi_inizio da_cgi_fine  \\\n",
       "0           SZMI11I         NaN   \n",
       "1           SZMI11I         NaN   \n",
       "2           SZMI11I         NaN   \n",
       "3           SZMI11I         NaN   \n",
       "4           VAVI33I         NaN   \n",
       "...             ...         ...   \n",
       "11228           NaN         NaN   \n",
       "11229           NaN         NaN   \n",
       "11230           NaN         NaN   \n",
       "11231           NaN         NaN   \n",
       "11232           NaN         NaN   \n",
       "\n",
       "                                     a_torre_cell_inizio  \\\n",
       "0                                                    NaN   \n",
       "1                                                    NaN   \n",
       "2                                                    NaN   \n",
       "3                                                    NaN   \n",
       "4                                                    NaN   \n",
       "...                                                  ...   \n",
       "11228  561014-PIAZZA STAZIONE 10 - 50100 - FIRENZE (F...   \n",
       "11229                                                NaN   \n",
       "11230                                                NaN   \n",
       "11231                                                NaN   \n",
       "11232                                                NaN   \n",
       "\n",
       "                                       a_torre_cell_fine a_cgi_inizio  \\\n",
       "0                                                    NaN          NaN   \n",
       "1                                                    NaN          NaN   \n",
       "2                                                    NaN          NaN   \n",
       "3                                                    NaN          NaN   \n",
       "4                                                    NaN          NaN   \n",
       "...                                                  ...          ...   \n",
       "11228  561014-PIAZZA STAZIONE 10 - 50100 - FIRENZE (F...          NaN   \n",
       "11229                                                NaN          NaN   \n",
       "11230                                                NaN          NaN   \n",
       "11231                                                NaN          NaN   \n",
       "11232                                                NaN          NaN   \n",
       "\n",
       "      a_cgi_fine  operatore  \\\n",
       "0            NaN  BT Italia   \n",
       "1            NaN  BT Italia   \n",
       "2            NaN  BT Italia   \n",
       "3            NaN  BT Italia   \n",
       "4            NaN  BT Italia   \n",
       "...          ...        ...   \n",
       "11228        NaN    WindTre   \n",
       "11229        NaN    WindTre   \n",
       "11230        NaN    WindTre   \n",
       "11231        NaN    WindTre   \n",
       "11232        NaN    WindTre   \n",
       "\n",
       "                                     nome_file_importato esito_chiamata  \n",
       "0             data/f8_01/f8_01/BT Italia/SD320406560.csv              0  \n",
       "1             data/f8_01/f8_01/BT Italia/SD320406560.csv              0  \n",
       "2             data/f8_01/f8_01/BT Italia/SD320406560.csv              0  \n",
       "3             data/f8_01/f8_01/BT Italia/SD320406560.csv              0  \n",
       "4             data/f8_01/f8_01/BT Italia/SD320406560.csv              0  \n",
       "...                                                  ...            ...  \n",
       "11228  data/14Tab/Files Orig/Files Orig/Wind/LRMS_LAW...              0  \n",
       "11229  data/14Tab/Files Orig/Files Orig/Wind/LRMS_LAW...              0  \n",
       "11230  data/14Tab/Files Orig/Files Orig/Wind/LRMS_LAW...              0  \n",
       "11231  data/14Tab/Files Orig/Files Orig/Wind/LRMS_LAW...              0  \n",
       "11232  data/14Tab/Files Orig/Files Orig/Wind/LRMS_LAW...              0  \n",
       "\n",
       "[417845 rows x 14 columns]"
      ],
      "text/html": "<div>\n<style scoped>\n    .dataframe tbody tr th:only-of-type {\n        vertical-align: middle;\n    }\n\n    .dataframe tbody tr th {\n        vertical-align: top;\n    }\n\n    .dataframe thead th {\n        text-align: right;\n    }\n</style>\n<table border=\"1\" class=\"dataframe\">\n  <thead>\n    <tr style=\"text-align: right;\">\n      <th></th>\n      <th>data_ora</th>\n      <th>durata</th>\n      <th>tipo</th>\n      <th>da_torre_cell_inizio</th>\n      <th>da_torre_cell_fine</th>\n      <th>da_cgi_inizio</th>\n      <th>da_cgi_fine</th>\n      <th>a_torre_cell_inizio</th>\n      <th>a_torre_cell_fine</th>\n      <th>a_cgi_inizio</th>\n      <th>a_cgi_fine</th>\n      <th>operatore</th>\n      <th>nome_file_importato</th>\n      <th>esito_chiamata</th>\n    </tr>\n  </thead>\n  <tbody>\n    <tr>\n      <th>0</th>\n      <td>25-03-2018 00:32:18</td>\n      <td>17</td>\n      <td>V</td>\n      <td>NaN</td>\n      <td>NaN</td>\n      <td>SZMI11I</td>\n      <td>NaN</td>\n      <td>NaN</td>\n      <td>NaN</td>\n      <td>NaN</td>\n      <td>NaN</td>\n      <td>BT Italia</td>\n      <td>data/f8_01/f8_01/BT Italia/SD320406560.csv</td>\n      <td>0</td>\n    </tr>\n    <tr>\n      <th>1</th>\n      <td>13-04-2018 20:27:22</td>\n      <td>4</td>\n      <td>V</td>\n      <td>NaN</td>\n      <td>NaN</td>\n      <td>SZMI11I</td>\n      <td>NaN</td>\n      <td>NaN</td>\n      <td>NaN</td>\n      <td>NaN</td>\n      <td>NaN</td>\n      <td>BT Italia</td>\n      <td>data/f8_01/f8_01/BT Italia/SD320406560.csv</td>\n      <td>0</td>\n    </tr>\n    <tr>\n      <th>2</th>\n      <td>18-04-2018 09:18:39</td>\n      <td>45</td>\n      <td>V</td>\n      <td>NaN</td>\n      <td>NaN</td>\n      <td>SZMI11I</td>\n      <td>NaN</td>\n      <td>NaN</td>\n      <td>NaN</td>\n      <td>NaN</td>\n      <td>NaN</td>\n      <td>BT Italia</td>\n      <td>data/f8_01/f8_01/BT Italia/SD320406560.csv</td>\n      <td>0</td>\n    </tr>\n    <tr>\n      <th>3</th>\n      <td>19-04-2018 20:16:21</td>\n      <td>17</td>\n      <td>V</td>\n      <td>NaN</td>\n      <td>NaN</td>\n      <td>SZMI11I</td>\n      <td>NaN</td>\n      <td>NaN</td>\n      <td>NaN</td>\n      <td>NaN</td>\n      <td>NaN</td>\n      <td>BT Italia</td>\n      <td>data/f8_01/f8_01/BT Italia/SD320406560.csv</td>\n      <td>0</td>\n    </tr>\n    <tr>\n      <th>4</th>\n      <td>30-04-2018 06:03:30</td>\n      <td>10</td>\n      <td>V</td>\n      <td>NaN</td>\n      <td>NaN</td>\n      <td>VAVI33I</td>\n      <td>NaN</td>\n      <td>NaN</td>\n      <td>NaN</td>\n      <td>NaN</td>\n      <td>NaN</td>\n      <td>BT Italia</td>\n      <td>data/f8_01/f8_01/BT Italia/SD320406560.csv</td>\n      <td>0</td>\n    </tr>\n    <tr>\n      <th>...</th>\n      <td>...</td>\n      <td>...</td>\n      <td>...</td>\n      <td>...</td>\n      <td>...</td>\n      <td>...</td>\n      <td>...</td>\n      <td>...</td>\n      <td>...</td>\n      <td>...</td>\n      <td>...</td>\n      <td>...</td>\n      <td>...</td>\n      <td>...</td>\n    </tr>\n    <tr>\n      <th>11228</th>\n      <td>28/12/2017 16:43:27</td>\n      <td>9</td>\n      <td>V</td>\n      <td>NaN</td>\n      <td>NaN</td>\n      <td>NaN</td>\n      <td>NaN</td>\n      <td>561014-PIAZZA STAZIONE 10 - 50100 - FIRENZE (F...</td>\n      <td>561014-PIAZZA STAZIONE 10 - 50100 - FIRENZE (F...</td>\n      <td>NaN</td>\n      <td>NaN</td>\n      <td>WindTre</td>\n      <td>data/14Tab/Files Orig/Files Orig/Wind/LRMS_LAW...</td>\n      <td>0</td>\n    </tr>\n    <tr>\n      <th>11229</th>\n      <td>28/11/2017 14:19:07</td>\n      <td>0</td>\n      <td>S</td>\n      <td>014360065-STADIO COMUNALE S. GIUSTO, VIALE BAG...</td>\n      <td>NaN</td>\n      <td>NaN</td>\n      <td>NaN</td>\n      <td>NaN</td>\n      <td>NaN</td>\n      <td>NaN</td>\n      <td>NaN</td>\n      <td>WindTre</td>\n      <td>data/14Tab/Files Orig/Files Orig/Wind/LRMS_LAW...</td>\n      <td>0</td>\n    </tr>\n    <tr>\n      <th>11230</th>\n      <td>04/12/2017 17:44:23</td>\n      <td>0</td>\n      <td>S</td>\n      <td>NaN</td>\n      <td>NaN</td>\n      <td>NaN</td>\n      <td>NaN</td>\n      <td>NaN</td>\n      <td>NaN</td>\n      <td>NaN</td>\n      <td>NaN</td>\n      <td>WindTre</td>\n      <td>data/14Tab/Files Orig/Files Orig/Wind/LRMS_LAW...</td>\n      <td>0</td>\n    </tr>\n    <tr>\n      <th>11231</th>\n      <td>04/12/2017 17:44:23</td>\n      <td>0</td>\n      <td>S</td>\n      <td>NaN</td>\n      <td>NaN</td>\n      <td>NaN</td>\n      <td>NaN</td>\n      <td>NaN</td>\n      <td>NaN</td>\n      <td>NaN</td>\n      <td>NaN</td>\n      <td>WindTre</td>\n      <td>data/14Tab/Files Orig/Files Orig/Wind/LRMS_LAW...</td>\n      <td>0</td>\n    </tr>\n    <tr>\n      <th>11232</th>\n      <td>04/12/2017 17:44:23</td>\n      <td>0</td>\n      <td>S</td>\n      <td>22288 2450543084-N/D VIA LAGO SANTO, SNC SNC -...</td>\n      <td>NaN</td>\n      <td>NaN</td>\n      <td>NaN</td>\n      <td>NaN</td>\n      <td>NaN</td>\n      <td>NaN</td>\n      <td>NaN</td>\n      <td>WindTre</td>\n      <td>data/14Tab/Files Orig/Files Orig/Wind/LRMS_LAW...</td>\n      <td>0</td>\n    </tr>\n  </tbody>\n</table>\n<p>417845 rows × 14 columns</p>\n</div>"
     },
     "metadata": {},
     "execution_count": 1
    }
   ],
   "source": [
    "# caricamento dei file importati\n",
    "from IPython.display import display\n",
    "\n",
    "safe_cols = ['data_ora', 'durata', 'tipo', 'da_torre_cell_inizio', 'da_torre_cell_fine', 'da_cgi_inizio', 'da_cgi_fine', 'a_torre_cell_inizio', 'a_torre_cell_fine', 'a_cgi_inizio', 'a_cgi_fine', 'operatore', 'nome_file_importato', 'esito_chiamata'] # set di colonne non contenti dati personali\n",
    "\n",
    "import pandas as pd\n",
    "import numpy as np\n",
    "from os import listdir\n",
    "\n",
    "# i dati vengono concatenati in un unico dataframe per comodità\n",
    "dfs = []\n",
    "for file in listdir('extracted_data'):\n",
    "    if not file.endswith('.csv'):\n",
    "        continue\n",
    "    df = pd.read_csv('extracted_data/{}'.format(file), dtype=str, sep=';')\n",
    "    dfs.append(df)\n",
    "df = pd.concat(dfs)\n",
    "\n",
    "df[safe_cols]"
   ]
  },
  {
   "source": [
    "> !! sono stati nascosti i dati personali !!"
   ],
   "cell_type": "markdown",
   "metadata": {}
  },
  {
   "cell_type": "code",
   "execution_count": 2,
   "metadata": {},
   "outputs": [
    {
     "output_type": "stream",
     "name": "stdout",
     "text": [
      "Requirement already satisfied: nest_asyncio in /home/vscode/.pyenv/versions/3.8.6/lib/python3.8/site-packages (1.5.1)\n",
      "\u001b[33mWARNING: You are using pip version 20.2.1; however, version 21.0.1 is available.\n",
      "You should consider upgrading via the '/home/vscode/.pyenv/versions/3.8.6/bin/python3.8 -m pip install --upgrade pip' command.\u001b[0m\n"
     ]
    }
   ],
   "source": [
    "# carico le librerie necesarrie alla connessione con JanusGrpah\n",
    "\n",
    "# workaround per un bug nella libreria async quando si lavora con i notebook notebook\n",
    "!pip install nest_asyncio\n",
    "import nest_asyncio\n",
    "nest_asyncio.apply()\n",
    "\n",
    "from gremlin_python import statics\n",
    "from gremlin_python.process.anonymous_traversal import traversal\n",
    "from gremlin_python.process.graph_traversal import __\n",
    "from gremlin_python.process.strategies import *\n",
    "from gremlin_python.driver.driver_remote_connection import DriverRemoteConnection\n",
    "from gremlin_python.process.traversal import T\n",
    "from gremlin_python.process.traversal import Order\n",
    "from gremlin_python.process.traversal import Cardinality\n",
    "from gremlin_python.process.traversal import Column\n",
    "from gremlin_python.process.traversal import Direction\n",
    "from gremlin_python.process.traversal import Operator\n",
    "from gremlin_python.process.traversal import P\n",
    "from gremlin_python.process.traversal import Pop\n",
    "from gremlin_python.process.traversal import Scope\n",
    "from gremlin_python.process.traversal import Barrier\n",
    "from gremlin_python.process.traversal import Bindings\n",
    "from gremlin_python.process.traversal import WithOptions\n",
    "\n",
    "g = traversal().withRemote(DriverRemoteConnection('ws://jce-janusgraph:8182/gremlin', 'tabulati_traversal'))"
   ]
  },
  {
   "cell_type": "code",
   "execution_count": 3,
   "metadata": {},
   "outputs": [
    {
     "output_type": "execute_result",
     "data": {
      "text/plain": [
       "                 data_ora durata tipo  \\\n",
       "0     2018-03-25 00:32:18     17    V   \n",
       "1     2018-04-13 20:27:22      4    V   \n",
       "2     2018-04-18 09:18:39     45    V   \n",
       "3     2018-04-19 20:16:21     17    V   \n",
       "4     2018-04-30 06:03:30     10    V   \n",
       "...                   ...    ...  ...   \n",
       "11228 2017-12-28 16:43:27      9    V   \n",
       "11229 2017-11-28 14:19:07      0    S   \n",
       "11230 2017-12-04 17:44:23      0    S   \n",
       "11231 2017-12-04 17:44:23      0    S   \n",
       "11232 2017-12-04 17:44:23      0    S   \n",
       "\n",
       "                                    da_torre_cell_inizio da_torre_cell_fine  \\\n",
       "0                                                    NaN                NaN   \n",
       "1                                                    NaN                NaN   \n",
       "2                                                    NaN                NaN   \n",
       "3                                                    NaN                NaN   \n",
       "4                                                    NaN                NaN   \n",
       "...                                                  ...                ...   \n",
       "11228                                                NaN                NaN   \n",
       "11229  014360065-STADIO COMUNALE S. GIUSTO, VIALE BAG...                NaN   \n",
       "11230                                                NaN                NaN   \n",
       "11231                                                NaN                NaN   \n",
       "11232  22288 2450543084-N/D VIA LAGO SANTO, SNC SNC -...                NaN   \n",
       "\n",
       "      da_cgi_inizio da_cgi_fine  \\\n",
       "0           SZMI11I         NaN   \n",
       "1           SZMI11I         NaN   \n",
       "2           SZMI11I         NaN   \n",
       "3           SZMI11I         NaN   \n",
       "4           VAVI33I         NaN   \n",
       "...             ...         ...   \n",
       "11228           NaN         NaN   \n",
       "11229           NaN         NaN   \n",
       "11230           NaN         NaN   \n",
       "11231           NaN         NaN   \n",
       "11232           NaN         NaN   \n",
       "\n",
       "                                     a_torre_cell_inizio  \\\n",
       "0                                                    NaN   \n",
       "1                                                    NaN   \n",
       "2                                                    NaN   \n",
       "3                                                    NaN   \n",
       "4                                                    NaN   \n",
       "...                                                  ...   \n",
       "11228  561014-PIAZZA STAZIONE 10 - 50100 - FIRENZE (F...   \n",
       "11229                                                NaN   \n",
       "11230                                                NaN   \n",
       "11231                                                NaN   \n",
       "11232                                                NaN   \n",
       "\n",
       "                                       a_torre_cell_fine a_cgi_inizio  \\\n",
       "0                                                    NaN          NaN   \n",
       "1                                                    NaN          NaN   \n",
       "2                                                    NaN          NaN   \n",
       "3                                                    NaN          NaN   \n",
       "4                                                    NaN          NaN   \n",
       "...                                                  ...          ...   \n",
       "11228  561014-PIAZZA STAZIONE 10 - 50100 - FIRENZE (F...          NaN   \n",
       "11229                                                NaN          NaN   \n",
       "11230                                                NaN          NaN   \n",
       "11231                                                NaN          NaN   \n",
       "11232                                                NaN          NaN   \n",
       "\n",
       "      a_cgi_fine  operatore  \\\n",
       "0            NaN  BT Italia   \n",
       "1            NaN  BT Italia   \n",
       "2            NaN  BT Italia   \n",
       "3            NaN  BT Italia   \n",
       "4            NaN  BT Italia   \n",
       "...          ...        ...   \n",
       "11228        NaN    WindTre   \n",
       "11229        NaN    WindTre   \n",
       "11230        NaN    WindTre   \n",
       "11231        NaN    WindTre   \n",
       "11232        NaN    WindTre   \n",
       "\n",
       "                                     nome_file_importato esito_chiamata  \n",
       "0             data/f8_01/f8_01/BT Italia/SD320406560.csv              0  \n",
       "1             data/f8_01/f8_01/BT Italia/SD320406560.csv              0  \n",
       "2             data/f8_01/f8_01/BT Italia/SD320406560.csv              0  \n",
       "3             data/f8_01/f8_01/BT Italia/SD320406560.csv              0  \n",
       "4             data/f8_01/f8_01/BT Italia/SD320406560.csv              0  \n",
       "...                                                  ...            ...  \n",
       "11228  data/14Tab/Files Orig/Files Orig/Wind/LRMS_LAW...              0  \n",
       "11229  data/14Tab/Files Orig/Files Orig/Wind/LRMS_LAW...              0  \n",
       "11230  data/14Tab/Files Orig/Files Orig/Wind/LRMS_LAW...              0  \n",
       "11231  data/14Tab/Files Orig/Files Orig/Wind/LRMS_LAW...              0  \n",
       "11232  data/14Tab/Files Orig/Files Orig/Wind/LRMS_LAW...              0  \n",
       "\n",
       "[408314 rows x 14 columns]"
      ],
      "text/html": "<div>\n<style scoped>\n    .dataframe tbody tr th:only-of-type {\n        vertical-align: middle;\n    }\n\n    .dataframe tbody tr th {\n        vertical-align: top;\n    }\n\n    .dataframe thead th {\n        text-align: right;\n    }\n</style>\n<table border=\"1\" class=\"dataframe\">\n  <thead>\n    <tr style=\"text-align: right;\">\n      <th></th>\n      <th>data_ora</th>\n      <th>durata</th>\n      <th>tipo</th>\n      <th>da_torre_cell_inizio</th>\n      <th>da_torre_cell_fine</th>\n      <th>da_cgi_inizio</th>\n      <th>da_cgi_fine</th>\n      <th>a_torre_cell_inizio</th>\n      <th>a_torre_cell_fine</th>\n      <th>a_cgi_inizio</th>\n      <th>a_cgi_fine</th>\n      <th>operatore</th>\n      <th>nome_file_importato</th>\n      <th>esito_chiamata</th>\n    </tr>\n  </thead>\n  <tbody>\n    <tr>\n      <th>0</th>\n      <td>2018-03-25 00:32:18</td>\n      <td>17</td>\n      <td>V</td>\n      <td>NaN</td>\n      <td>NaN</td>\n      <td>SZMI11I</td>\n      <td>NaN</td>\n      <td>NaN</td>\n      <td>NaN</td>\n      <td>NaN</td>\n      <td>NaN</td>\n      <td>BT Italia</td>\n      <td>data/f8_01/f8_01/BT Italia/SD320406560.csv</td>\n      <td>0</td>\n    </tr>\n    <tr>\n      <th>1</th>\n      <td>2018-04-13 20:27:22</td>\n      <td>4</td>\n      <td>V</td>\n      <td>NaN</td>\n      <td>NaN</td>\n      <td>SZMI11I</td>\n      <td>NaN</td>\n      <td>NaN</td>\n      <td>NaN</td>\n      <td>NaN</td>\n      <td>NaN</td>\n      <td>BT Italia</td>\n      <td>data/f8_01/f8_01/BT Italia/SD320406560.csv</td>\n      <td>0</td>\n    </tr>\n    <tr>\n      <th>2</th>\n      <td>2018-04-18 09:18:39</td>\n      <td>45</td>\n      <td>V</td>\n      <td>NaN</td>\n      <td>NaN</td>\n      <td>SZMI11I</td>\n      <td>NaN</td>\n      <td>NaN</td>\n      <td>NaN</td>\n      <td>NaN</td>\n      <td>NaN</td>\n      <td>BT Italia</td>\n      <td>data/f8_01/f8_01/BT Italia/SD320406560.csv</td>\n      <td>0</td>\n    </tr>\n    <tr>\n      <th>3</th>\n      <td>2018-04-19 20:16:21</td>\n      <td>17</td>\n      <td>V</td>\n      <td>NaN</td>\n      <td>NaN</td>\n      <td>SZMI11I</td>\n      <td>NaN</td>\n      <td>NaN</td>\n      <td>NaN</td>\n      <td>NaN</td>\n      <td>NaN</td>\n      <td>BT Italia</td>\n      <td>data/f8_01/f8_01/BT Italia/SD320406560.csv</td>\n      <td>0</td>\n    </tr>\n    <tr>\n      <th>4</th>\n      <td>2018-04-30 06:03:30</td>\n      <td>10</td>\n      <td>V</td>\n      <td>NaN</td>\n      <td>NaN</td>\n      <td>VAVI33I</td>\n      <td>NaN</td>\n      <td>NaN</td>\n      <td>NaN</td>\n      <td>NaN</td>\n      <td>NaN</td>\n      <td>BT Italia</td>\n      <td>data/f8_01/f8_01/BT Italia/SD320406560.csv</td>\n      <td>0</td>\n    </tr>\n    <tr>\n      <th>...</th>\n      <td>...</td>\n      <td>...</td>\n      <td>...</td>\n      <td>...</td>\n      <td>...</td>\n      <td>...</td>\n      <td>...</td>\n      <td>...</td>\n      <td>...</td>\n      <td>...</td>\n      <td>...</td>\n      <td>...</td>\n      <td>...</td>\n      <td>...</td>\n    </tr>\n    <tr>\n      <th>11228</th>\n      <td>2017-12-28 16:43:27</td>\n      <td>9</td>\n      <td>V</td>\n      <td>NaN</td>\n      <td>NaN</td>\n      <td>NaN</td>\n      <td>NaN</td>\n      <td>561014-PIAZZA STAZIONE 10 - 50100 - FIRENZE (F...</td>\n      <td>561014-PIAZZA STAZIONE 10 - 50100 - FIRENZE (F...</td>\n      <td>NaN</td>\n      <td>NaN</td>\n      <td>WindTre</td>\n      <td>data/14Tab/Files Orig/Files Orig/Wind/LRMS_LAW...</td>\n      <td>0</td>\n    </tr>\n    <tr>\n      <th>11229</th>\n      <td>2017-11-28 14:19:07</td>\n      <td>0</td>\n      <td>S</td>\n      <td>014360065-STADIO COMUNALE S. GIUSTO, VIALE BAG...</td>\n      <td>NaN</td>\n      <td>NaN</td>\n      <td>NaN</td>\n      <td>NaN</td>\n      <td>NaN</td>\n      <td>NaN</td>\n      <td>NaN</td>\n      <td>WindTre</td>\n      <td>data/14Tab/Files Orig/Files Orig/Wind/LRMS_LAW...</td>\n      <td>0</td>\n    </tr>\n    <tr>\n      <th>11230</th>\n      <td>2017-12-04 17:44:23</td>\n      <td>0</td>\n      <td>S</td>\n      <td>NaN</td>\n      <td>NaN</td>\n      <td>NaN</td>\n      <td>NaN</td>\n      <td>NaN</td>\n      <td>NaN</td>\n      <td>NaN</td>\n      <td>NaN</td>\n      <td>WindTre</td>\n      <td>data/14Tab/Files Orig/Files Orig/Wind/LRMS_LAW...</td>\n      <td>0</td>\n    </tr>\n    <tr>\n      <th>11231</th>\n      <td>2017-12-04 17:44:23</td>\n      <td>0</td>\n      <td>S</td>\n      <td>NaN</td>\n      <td>NaN</td>\n      <td>NaN</td>\n      <td>NaN</td>\n      <td>NaN</td>\n      <td>NaN</td>\n      <td>NaN</td>\n      <td>NaN</td>\n      <td>WindTre</td>\n      <td>data/14Tab/Files Orig/Files Orig/Wind/LRMS_LAW...</td>\n      <td>0</td>\n    </tr>\n    <tr>\n      <th>11232</th>\n      <td>2017-12-04 17:44:23</td>\n      <td>0</td>\n      <td>S</td>\n      <td>22288 2450543084-N/D VIA LAGO SANTO, SNC SNC -...</td>\n      <td>NaN</td>\n      <td>NaN</td>\n      <td>NaN</td>\n      <td>NaN</td>\n      <td>NaN</td>\n      <td>NaN</td>\n      <td>NaN</td>\n      <td>WindTre</td>\n      <td>data/14Tab/Files Orig/Files Orig/Wind/LRMS_LAW...</td>\n      <td>0</td>\n    </tr>\n  </tbody>\n</table>\n<p>408314 rows × 14 columns</p>\n</div>"
     },
     "metadata": {},
     "execution_count": 3
    }
   ],
   "source": [
    "# molti numeri possono essere stati filtrati dal software perchè non validi e devono essere filtrati\n",
    "\n",
    "import phonenumbers\n",
    "\n",
    "# uso la funzione di filtraggio usata dal programma di mappatura\n",
    "def _map_phone(phone: str) -> str:\n",
    "    try:\n",
    "        n = phonenumbers.parse(\n",
    "            phone, None if phone.startswith('+') else 'IT')\n",
    "        if not phonenumbers.is_possible_number(n):\n",
    "            return ''\n",
    "        return phonenumbers.format_number(n, phonenumbers.PhoneNumberFormat.E164)\n",
    "    except:\n",
    "        return ''\n",
    "\n",
    "df['da_numero'] = df['da_numero'].apply(_map_phone)\n",
    "df = df[df['da_numero'] != '']\n",
    "\n",
    "df['a_numero'] = df['a_numero'].apply(_map_phone)\n",
    "df = df[df['a_numero'] != '']\n",
    "\n",
    "# trasformo le date in oggetti datetime\n",
    "import dateparser\n",
    "\n",
    "ddp = dateparser.DateDataParser(languages=['it'], settings={\n",
    "    'DATE_ORDER': 'DMY'\n",
    "})\n",
    "\n",
    "def parse_date(s: str):\n",
    "    data = ddp.get_date_data(s)\n",
    "    if data:\n",
    "        return data['date_obj']\n",
    "    raise Exception('invalid date')\n",
    "df['data_ora'] = df['data_ora'].apply(parse_date)\n",
    "\n",
    "df[safe_cols]"
   ]
  },
  {
   "cell_type": "code",
   "execution_count": 4,
   "metadata": {},
   "outputs": [],
   "source": [
    "# il primo controllo da fare è che il numero di numeri di telefono unici deve corrispondere al numero di nodi inseriti\n",
    "\n",
    "# concateno le colonne contenti i numeri di telefono e rimuovo i duplicati\n",
    "numeri = pd.concat([df['da_numero'], df['a_numero']])\n",
    "numeri = numeri.drop_duplicates()\n"
   ]
  },
  {
   "cell_type": "code",
   "execution_count": 5,
   "metadata": {},
   "outputs": [
    {
     "output_type": "execute_result",
     "data": {
      "text/plain": [
       "52081"
      ]
     },
     "metadata": {},
     "execution_count": 5
    }
   ],
   "source": [
    "# controllo che i nodi inseriti abbiano lo stesso numero dei numeri unici trovati\n",
    "g.V().count().next()"
   ]
  },
  {
   "cell_type": "code",
   "execution_count": 6,
   "metadata": {},
   "outputs": [
    {
     "output_type": "execute_result",
     "data": {
      "text/plain": [
       "0"
      ]
     },
     "metadata": {},
     "execution_count": 6
    }
   ],
   "source": [
    "# verifico non ci siano nodi duplicati\n",
    "\n",
    "g.V().groupCount().by('numero').unfold().where(__.select(Column.values).is_(P.gt(1))).count().next()"
   ]
  },
  {
   "source": [
    "Il risultato mostra che non sono presenti nodi con numero duplicato"
   ],
   "cell_type": "markdown",
   "metadata": {}
  },
  {
   "cell_type": "code",
   "execution_count": 7,
   "metadata": {},
   "outputs": [
    {
     "output_type": "execute_result",
     "data": {
      "text/plain": [
       "52081"
      ]
     },
     "metadata": {},
     "execution_count": 7
    }
   ],
   "source": [
    "# per scrupolo verifico che i nodi senza duplicati equivalgano al numero totale di nodi\n",
    "\n",
    "g.V().groupCount().by('numero').unfold().where(__.select(Column.values).is_(P.eq(1))).count().next()"
   ]
  },
  {
   "cell_type": "code",
   "execution_count": 8,
   "metadata": {},
   "outputs": [
    {
     "output_type": "execute_result",
     "data": {
      "text/plain": [
       "                 data_ora durata tipo  \\\n",
       "0     2018-03-25 00:32:18     17    V   \n",
       "1     2018-04-13 20:27:22      4    V   \n",
       "2     2018-04-18 09:18:39     45    V   \n",
       "3     2018-04-19 20:16:21     17    V   \n",
       "4     2018-04-30 06:03:30     10    V   \n",
       "...                   ...    ...  ...   \n",
       "11223 2017-12-19 15:31:27      7    V   \n",
       "11225 2017-12-28 13:16:54      1    V   \n",
       "11227 2017-12-28 16:43:27      9    X   \n",
       "11229 2017-11-28 14:19:07      0    S   \n",
       "11230 2017-12-04 17:44:23      0    S   \n",
       "\n",
       "                                    da_torre_cell_inizio  \\\n",
       "0                                                    NaN   \n",
       "1                                                    NaN   \n",
       "2                                                    NaN   \n",
       "3                                                    NaN   \n",
       "4                                                    NaN   \n",
       "...                                                  ...   \n",
       "11223                                                NaN   \n",
       "11225  531806-CIMITERO DI SOFFIANO - 50100 - FIRENZE ...   \n",
       "11227                                                NaN   \n",
       "11229  014360065-STADIO COMUNALE S. GIUSTO, VIALE BAG...   \n",
       "11230                                                NaN   \n",
       "\n",
       "                                      da_torre_cell_fine da_cgi_inizio  \\\n",
       "0                                                    NaN       SZMI11I   \n",
       "1                                                    NaN       SZMI11I   \n",
       "2                                                    NaN       SZMI11I   \n",
       "3                                                    NaN       SZMI11I   \n",
       "4                                                    NaN       VAVI33I   \n",
       "...                                                  ...           ...   \n",
       "11223                                                NaN           NaN   \n",
       "11225  531806-CIMITERO DI SOFFIANO - 50100 - FIRENZE ...           NaN   \n",
       "11227                                                NaN           NaN   \n",
       "11229                                                NaN           NaN   \n",
       "11230                                                NaN           NaN   \n",
       "\n",
       "      da_cgi_fine      da_numero          da_imei          da_imsi  \\\n",
       "0             NaN  +393533630818              NaN              NaN   \n",
       "1             NaN  +393533630818              NaN              NaN   \n",
       "2             NaN  +393533630818              NaN              NaN   \n",
       "3             NaN  +393533630818              NaN              NaN   \n",
       "4             NaN  +393533630818              NaN              NaN   \n",
       "...           ...            ...              ...              ...   \n",
       "11223         NaN  +393317996289              NaN              NaN   \n",
       "11225         NaN  +393913462716  865549031323560  222992312745857   \n",
       "11227         NaN  +393317996289              NaN  222992312745857   \n",
       "11229         NaN  +393286539148  359303063454770  222992401453818   \n",
       "11230         NaN  +393938118426              NaN  222995506695368   \n",
       "\n",
       "                                     a_torre_cell_inizio  \\\n",
       "0                                                    NaN   \n",
       "1                                                    NaN   \n",
       "2                                                    NaN   \n",
       "3                                                    NaN   \n",
       "4                                                    NaN   \n",
       "...                                                  ...   \n",
       "11223  531806-CIMITERO DI SOFFIANO - 50100 - FIRENZE ...   \n",
       "11225                                                NaN   \n",
       "11227                                                NaN   \n",
       "11229                                                NaN   \n",
       "11230                                                NaN   \n",
       "\n",
       "                                       a_torre_cell_fine a_cgi_inizio  \\\n",
       "0                                                    NaN          NaN   \n",
       "1                                                    NaN          NaN   \n",
       "2                                                    NaN          NaN   \n",
       "3                                                    NaN          NaN   \n",
       "4                                                    NaN          NaN   \n",
       "...                                                  ...          ...   \n",
       "11223  560425-CENTRALE TELECOM C/O VIA DEL POLLAIOLO ...          NaN   \n",
       "11225                                                NaN          NaN   \n",
       "11227                                                NaN          NaN   \n",
       "11229                                                NaN          NaN   \n",
       "11230                                                NaN          NaN   \n",
       "\n",
       "      a_cgi_fine       a_numero           a_imei           a_imsi  operatore  \\\n",
       "0            NaN  +393248693409              NaN              NaN  BT Italia   \n",
       "1            NaN  +393248693409              NaN              NaN  BT Italia   \n",
       "2            NaN  +393801252456              NaN              NaN  BT Italia   \n",
       "3            NaN  +393208913049              NaN              NaN  BT Italia   \n",
       "4            NaN  +393801252456              NaN              NaN  BT Italia   \n",
       "...          ...            ...              ...              ...        ...   \n",
       "11223        NaN  +393913462716  865549031323560  222992312745857    WindTre   \n",
       "11225        NaN  +393317996289              NaN              NaN    WindTre   \n",
       "11227        NaN  +393286539148              NaN              NaN    WindTre   \n",
       "11229        NaN  +393317996289              NaN              NaN    WindTre   \n",
       "11230        NaN  +393245489217              NaN              NaN    WindTre   \n",
       "\n",
       "                                     nome_file_importato esito_chiamata  \n",
       "0             data/f8_01/f8_01/BT Italia/SD320406560.csv              0  \n",
       "1             data/f8_01/f8_01/BT Italia/SD320406560.csv              0  \n",
       "2             data/f8_01/f8_01/BT Italia/SD320406560.csv              0  \n",
       "3             data/f8_01/f8_01/BT Italia/SD320406560.csv              0  \n",
       "4             data/f8_01/f8_01/BT Italia/SD320406560.csv              0  \n",
       "...                                                  ...            ...  \n",
       "11223  data/14Tab/Files Orig/Files Orig/Wind/LRMS_LAW...              0  \n",
       "11225  data/14Tab/Files Orig/Files Orig/Wind/LRMS_LAW...              0  \n",
       "11227  data/14Tab/Files Orig/Files Orig/Wind/LRMS_LAW...              0  \n",
       "11229  data/14Tab/Files Orig/Files Orig/Wind/LRMS_LAW...              0  \n",
       "11230  data/14Tab/Files Orig/Files Orig/Wind/LRMS_LAW...              0  \n",
       "\n",
       "[327596 rows x 20 columns]"
      ],
      "text/html": "<div>\n<style scoped>\n    .dataframe tbody tr th:only-of-type {\n        vertical-align: middle;\n    }\n\n    .dataframe tbody tr th {\n        vertical-align: top;\n    }\n\n    .dataframe thead th {\n        text-align: right;\n    }\n</style>\n<table border=\"1\" class=\"dataframe\">\n  <thead>\n    <tr style=\"text-align: right;\">\n      <th></th>\n      <th>data_ora</th>\n      <th>durata</th>\n      <th>tipo</th>\n      <th>da_torre_cell_inizio</th>\n      <th>da_torre_cell_fine</th>\n      <th>da_cgi_inizio</th>\n      <th>da_cgi_fine</th>\n      <th>da_numero</th>\n      <th>da_imei</th>\n      <th>da_imsi</th>\n      <th>a_torre_cell_inizio</th>\n      <th>a_torre_cell_fine</th>\n      <th>a_cgi_inizio</th>\n      <th>a_cgi_fine</th>\n      <th>a_numero</th>\n      <th>a_imei</th>\n      <th>a_imsi</th>\n      <th>operatore</th>\n      <th>nome_file_importato</th>\n      <th>esito_chiamata</th>\n    </tr>\n  </thead>\n  <tbody>\n    <tr>\n      <th>0</th>\n      <td>2018-03-25 00:32:18</td>\n      <td>17</td>\n      <td>V</td>\n      <td>NaN</td>\n      <td>NaN</td>\n      <td>SZMI11I</td>\n      <td>NaN</td>\n      <td>+393533630818</td>\n      <td>NaN</td>\n      <td>NaN</td>\n      <td>NaN</td>\n      <td>NaN</td>\n      <td>NaN</td>\n      <td>NaN</td>\n      <td>+393248693409</td>\n      <td>NaN</td>\n      <td>NaN</td>\n      <td>BT Italia</td>\n      <td>data/f8_01/f8_01/BT Italia/SD320406560.csv</td>\n      <td>0</td>\n    </tr>\n    <tr>\n      <th>1</th>\n      <td>2018-04-13 20:27:22</td>\n      <td>4</td>\n      <td>V</td>\n      <td>NaN</td>\n      <td>NaN</td>\n      <td>SZMI11I</td>\n      <td>NaN</td>\n      <td>+393533630818</td>\n      <td>NaN</td>\n      <td>NaN</td>\n      <td>NaN</td>\n      <td>NaN</td>\n      <td>NaN</td>\n      <td>NaN</td>\n      <td>+393248693409</td>\n      <td>NaN</td>\n      <td>NaN</td>\n      <td>BT Italia</td>\n      <td>data/f8_01/f8_01/BT Italia/SD320406560.csv</td>\n      <td>0</td>\n    </tr>\n    <tr>\n      <th>2</th>\n      <td>2018-04-18 09:18:39</td>\n      <td>45</td>\n      <td>V</td>\n      <td>NaN</td>\n      <td>NaN</td>\n      <td>SZMI11I</td>\n      <td>NaN</td>\n      <td>+393533630818</td>\n      <td>NaN</td>\n      <td>NaN</td>\n      <td>NaN</td>\n      <td>NaN</td>\n      <td>NaN</td>\n      <td>NaN</td>\n      <td>+393801252456</td>\n      <td>NaN</td>\n      <td>NaN</td>\n      <td>BT Italia</td>\n      <td>data/f8_01/f8_01/BT Italia/SD320406560.csv</td>\n      <td>0</td>\n    </tr>\n    <tr>\n      <th>3</th>\n      <td>2018-04-19 20:16:21</td>\n      <td>17</td>\n      <td>V</td>\n      <td>NaN</td>\n      <td>NaN</td>\n      <td>SZMI11I</td>\n      <td>NaN</td>\n      <td>+393533630818</td>\n      <td>NaN</td>\n      <td>NaN</td>\n      <td>NaN</td>\n      <td>NaN</td>\n      <td>NaN</td>\n      <td>NaN</td>\n      <td>+393208913049</td>\n      <td>NaN</td>\n      <td>NaN</td>\n      <td>BT Italia</td>\n      <td>data/f8_01/f8_01/BT Italia/SD320406560.csv</td>\n      <td>0</td>\n    </tr>\n    <tr>\n      <th>4</th>\n      <td>2018-04-30 06:03:30</td>\n      <td>10</td>\n      <td>V</td>\n      <td>NaN</td>\n      <td>NaN</td>\n      <td>VAVI33I</td>\n      <td>NaN</td>\n      <td>+393533630818</td>\n      <td>NaN</td>\n      <td>NaN</td>\n      <td>NaN</td>\n      <td>NaN</td>\n      <td>NaN</td>\n      <td>NaN</td>\n      <td>+393801252456</td>\n      <td>NaN</td>\n      <td>NaN</td>\n      <td>BT Italia</td>\n      <td>data/f8_01/f8_01/BT Italia/SD320406560.csv</td>\n      <td>0</td>\n    </tr>\n    <tr>\n      <th>...</th>\n      <td>...</td>\n      <td>...</td>\n      <td>...</td>\n      <td>...</td>\n      <td>...</td>\n      <td>...</td>\n      <td>...</td>\n      <td>...</td>\n      <td>...</td>\n      <td>...</td>\n      <td>...</td>\n      <td>...</td>\n      <td>...</td>\n      <td>...</td>\n      <td>...</td>\n      <td>...</td>\n      <td>...</td>\n      <td>...</td>\n      <td>...</td>\n      <td>...</td>\n    </tr>\n    <tr>\n      <th>11223</th>\n      <td>2017-12-19 15:31:27</td>\n      <td>7</td>\n      <td>V</td>\n      <td>NaN</td>\n      <td>NaN</td>\n      <td>NaN</td>\n      <td>NaN</td>\n      <td>+393317996289</td>\n      <td>NaN</td>\n      <td>NaN</td>\n      <td>531806-CIMITERO DI SOFFIANO - 50100 - FIRENZE ...</td>\n      <td>560425-CENTRALE TELECOM C/O VIA DEL POLLAIOLO ...</td>\n      <td>NaN</td>\n      <td>NaN</td>\n      <td>+393913462716</td>\n      <td>865549031323560</td>\n      <td>222992312745857</td>\n      <td>WindTre</td>\n      <td>data/14Tab/Files Orig/Files Orig/Wind/LRMS_LAW...</td>\n      <td>0</td>\n    </tr>\n    <tr>\n      <th>11225</th>\n      <td>2017-12-28 13:16:54</td>\n      <td>1</td>\n      <td>V</td>\n      <td>531806-CIMITERO DI SOFFIANO - 50100 - FIRENZE ...</td>\n      <td>531806-CIMITERO DI SOFFIANO - 50100 - FIRENZE ...</td>\n      <td>NaN</td>\n      <td>NaN</td>\n      <td>+393913462716</td>\n      <td>865549031323560</td>\n      <td>222992312745857</td>\n      <td>NaN</td>\n      <td>NaN</td>\n      <td>NaN</td>\n      <td>NaN</td>\n      <td>+393317996289</td>\n      <td>NaN</td>\n      <td>NaN</td>\n      <td>WindTre</td>\n      <td>data/14Tab/Files Orig/Files Orig/Wind/LRMS_LAW...</td>\n      <td>0</td>\n    </tr>\n    <tr>\n      <th>11227</th>\n      <td>2017-12-28 16:43:27</td>\n      <td>9</td>\n      <td>X</td>\n      <td>NaN</td>\n      <td>NaN</td>\n      <td>NaN</td>\n      <td>NaN</td>\n      <td>+393317996289</td>\n      <td>NaN</td>\n      <td>222992312745857</td>\n      <td>NaN</td>\n      <td>NaN</td>\n      <td>NaN</td>\n      <td>NaN</td>\n      <td>+393286539148</td>\n      <td>NaN</td>\n      <td>NaN</td>\n      <td>WindTre</td>\n      <td>data/14Tab/Files Orig/Files Orig/Wind/LRMS_LAW...</td>\n      <td>0</td>\n    </tr>\n    <tr>\n      <th>11229</th>\n      <td>2017-11-28 14:19:07</td>\n      <td>0</td>\n      <td>S</td>\n      <td>014360065-STADIO COMUNALE S. GIUSTO, VIALE BAG...</td>\n      <td>NaN</td>\n      <td>NaN</td>\n      <td>NaN</td>\n      <td>+393286539148</td>\n      <td>359303063454770</td>\n      <td>222992401453818</td>\n      <td>NaN</td>\n      <td>NaN</td>\n      <td>NaN</td>\n      <td>NaN</td>\n      <td>+393317996289</td>\n      <td>NaN</td>\n      <td>NaN</td>\n      <td>WindTre</td>\n      <td>data/14Tab/Files Orig/Files Orig/Wind/LRMS_LAW...</td>\n      <td>0</td>\n    </tr>\n    <tr>\n      <th>11230</th>\n      <td>2017-12-04 17:44:23</td>\n      <td>0</td>\n      <td>S</td>\n      <td>NaN</td>\n      <td>NaN</td>\n      <td>NaN</td>\n      <td>NaN</td>\n      <td>+393938118426</td>\n      <td>NaN</td>\n      <td>222995506695368</td>\n      <td>NaN</td>\n      <td>NaN</td>\n      <td>NaN</td>\n      <td>NaN</td>\n      <td>+393245489217</td>\n      <td>NaN</td>\n      <td>NaN</td>\n      <td>WindTre</td>\n      <td>data/14Tab/Files Orig/Files Orig/Wind/LRMS_LAW...</td>\n      <td>0</td>\n    </tr>\n  </tbody>\n</table>\n<p>327596 rows × 20 columns</p>\n</div>"
     },
     "metadata": {},
     "execution_count": 8
    }
   ],
   "source": [
    "# il secondo controllo è verificare il numero di archi inseriti, che devono essere uguali al numero di chiamate uniche\n",
    "# le chiamate sono considerate non duplicate se almeno uno tra da_numero, a_numero, data_ora, durata\n",
    "\n",
    "dfc = df.drop_duplicates(subset=['da_numero', 'a_numero', 'data_ora', 'durata'], inplace=False)\n",
    "dfc"
   ]
  },
  {
   "cell_type": "code",
   "execution_count": 9,
   "metadata": {},
   "outputs": [
    {
     "output_type": "execute_result",
     "data": {
      "text/plain": [
       "327596"
      ]
     },
     "metadata": {},
     "execution_count": 9
    }
   ],
   "source": [
    "# controllo che gli archi inseriti abbiano lo stesso numero delle chiamate uniche trovate\n",
    "edges_count = g.E().count().next()\n",
    "\n",
    "edges_count"
   ]
  },
  {
   "cell_type": "code",
   "execution_count": 10,
   "metadata": {},
   "outputs": [
    {
     "output_type": "execute_result",
     "data": {
      "text/plain": [
       "0"
      ]
     },
     "metadata": {},
     "execution_count": 10
    }
   ],
   "source": [
    "# Verifico non ci siano archi duplicati\n",
    "# Come nel caso dei nodi faccio ricorso a groupCount()\n",
    "# Dato che le informazioni relative al numero di telefono sono contenute nei nodi devo prima visitare i nodi\n",
    "# su cui l'arco è incidente\n",
    "\n",
    "g.E().as_('e') \\\n",
    "    .outV().properties('numero').as_('da_numero') \\\n",
    "    .select('e').inV().properties('numero').as_('a_numero') \\\n",
    "    .select('e').properties('dataOra').as_('dataOra') \\\n",
    "    .select('e').properties('durata').as_('durata') \\\n",
    "    .select('da_numero', 'a_numero', 'dataOra', 'durata') \\\n",
    "    .groupCount().by(__.select('da_numero', 'a_numero', 'dataOra', 'durata')) \\\n",
    "    .unfold().where(__.select(Column.values).is_(P.gt(1))).count().next()"
   ]
  },
  {
   "cell_type": "code",
   "execution_count": 11,
   "metadata": {},
   "outputs": [
    {
     "output_type": "execute_result",
     "data": {
      "text/plain": [
       "327596"
      ]
     },
     "metadata": {},
     "execution_count": 11
    }
   ],
   "source": [
    "# verifico che gli archi senza duplicati equivalgano al numero di chiamate\n",
    "\n",
    "g.E().as_('e') \\\n",
    "    .outV().properties('numero').as_('da_numero') \\\n",
    "    .select('e').inV().properties('numero').as_('a_numero') \\\n",
    "    .select('e').properties('dataOra').as_('dataOra') \\\n",
    "    .select('e').properties('durata').as_('durata') \\\n",
    "    .select('da_numero', 'a_numero', 'dataOra', 'durata') \\\n",
    "    .groupCount().by(__.select('da_numero', 'a_numero', 'dataOra', 'durata')) \\\n",
    "    .unfold().where(__.select(Column.values).is_(P.eq(1))).count().next()"
   ]
  },
  {
   "source": [
    "# Analisi\n",
    "### !! NOTA !!\n",
    "Dato che è stato dimostrato che i numeri di telefono sono unici e dato che lo sono anche gli id dei nodi, d'ora in avanti saranno utilizzati al posto dei numeri di telefono, nel rispetto della privacy delle persone coinvolte nell'indagine. \n",
    "\n",
    "## Centralità\n",
    "Uno dei concetti più importanti in un grafo è sicuramente quello della centralità.\n",
    "Permette di misurare l'importanza dei nodi all'interno del grafo.\n",
    "Ci sono vari tipi di centralità, ed ognuno prende in esame un diverso aspetto.\n",
    "\n",
    "### Grado\n",
    "Per grafi non orientati il grado di un nodo è definito dal numero di grafi incidenti in esso.  \n",
    "Nonostante il grafo sia orientato è sicuramente utile per individuare i nodi con il traffico più significativo."
   ],
   "cell_type": "markdown",
   "metadata": {}
  },
  {
   "cell_type": "code",
   "execution_count": 12,
   "metadata": {},
   "outputs": [],
   "source": [
    "# configurazione libreria per i grafici\n",
    "# colgo l'occasione per ringraziare il professor Malchiodi la parte di laboratorio di statistica è stata molto utile per la parte di analisi\n",
    "\n",
    "import matplotlib.pyplot as plt\n",
    "from scipy.constants import golden\n",
    "from scipy import stats\n",
    "\n",
    "plt.style.use('fivethirtyeight')\n",
    "size = 10.0\n",
    "plt.rc('figure', figsize=(size, size/golden))"
   ]
  },
  {
   "cell_type": "code",
   "execution_count": 13,
   "metadata": {},
   "outputs": [
    {
     "output_type": "execute_result",
     "data": {
      "text/plain": [
       "          dc\n",
       "id          \n",
       "15728880  15\n",
       "5767256    3\n",
       "6291552    2\n",
       "6815848    3\n",
       "11010216   1\n",
       "...       ..\n",
       "43380832   5\n",
       "43511904   2\n",
       "43642976   2\n",
       "43774048   1\n",
       "43905120  10\n",
       "\n",
       "[52081 rows x 1 columns]"
      ],
      "text/html": "<div>\n<style scoped>\n    .dataframe tbody tr th:only-of-type {\n        vertical-align: middle;\n    }\n\n    .dataframe tbody tr th {\n        vertical-align: top;\n    }\n\n    .dataframe thead th {\n        text-align: right;\n    }\n</style>\n<table border=\"1\" class=\"dataframe\">\n  <thead>\n    <tr style=\"text-align: right;\">\n      <th></th>\n      <th>dc</th>\n    </tr>\n    <tr>\n      <th>id</th>\n      <th></th>\n    </tr>\n  </thead>\n  <tbody>\n    <tr>\n      <th>15728880</th>\n      <td>15</td>\n    </tr>\n    <tr>\n      <th>5767256</th>\n      <td>3</td>\n    </tr>\n    <tr>\n      <th>6291552</th>\n      <td>2</td>\n    </tr>\n    <tr>\n      <th>6815848</th>\n      <td>3</td>\n    </tr>\n    <tr>\n      <th>11010216</th>\n      <td>1</td>\n    </tr>\n    <tr>\n      <th>...</th>\n      <td>...</td>\n    </tr>\n    <tr>\n      <th>43380832</th>\n      <td>5</td>\n    </tr>\n    <tr>\n      <th>43511904</th>\n      <td>2</td>\n    </tr>\n    <tr>\n      <th>43642976</th>\n      <td>2</td>\n    </tr>\n    <tr>\n      <th>43774048</th>\n      <td>1</td>\n    </tr>\n    <tr>\n      <th>43905120</th>\n      <td>10</td>\n    </tr>\n  </tbody>\n</table>\n<p>52081 rows × 1 columns</p>\n</div>"
     },
     "metadata": {},
     "execution_count": 13
    }
   ],
   "source": [
    "dc = g.V().group().by().by(__.bothE().count()).next()\n",
    "\n",
    "d = []\n",
    "for v in dc.keys():\n",
    "    d.append({\n",
    "        'id': v.id,\n",
    "        'dc': dc[v]\n",
    "    })\n",
    "dfdc = pd.json_normalize(d).set_index('id')\n",
    "dfdc"
   ]
  },
  {
   "cell_type": "code",
   "execution_count": 14,
   "metadata": {},
   "outputs": [
    {
     "output_type": "execute_result",
     "data": {
      "text/plain": [
       "1         18739\n",
       "2         14522\n",
       "3          4680\n",
       "4          4359\n",
       "5          1938\n",
       "          ...  \n",
       "19696         1\n",
       "20854         1\n",
       "21377         1\n",
       "31119         1\n",
       "133613        1\n",
       "Name: dc, Length: 362, dtype: int64"
      ]
     },
     "metadata": {},
     "execution_count": 14
    }
   ],
   "source": [
    "degree_centrality = dfdc['dc'].value_counts().sort_index()\n",
    "degree_centrality"
   ]
  },
  {
   "cell_type": "code",
   "execution_count": 15,
   "metadata": {},
   "outputs": [
    {
     "output_type": "display_data",
     "data": {
      "text/plain": "<Figure size 720x444.984 with 1 Axes>",
      "image/svg+xml": "<?xml version=\"1.0\" encoding=\"utf-8\" standalone=\"no\"?>\n<!DOCTYPE svg PUBLIC \"-//W3C//DTD SVG 1.1//EN\"\n  \"http://www.w3.org/Graphics/SVG/1.1/DTD/svg11.dtd\">\n<svg height=\"412.146047pt\" version=\"1.1\" viewBox=\"0 0 691.28175 412.146047\" width=\"691.28175pt\" xmlns=\"http://www.w3.org/2000/svg\" xmlns:xlink=\"http://www.w3.org/1999/xlink\">\n <metadata>\n  <rdf:RDF xmlns:cc=\"http://creativecommons.org/ns#\" xmlns:dc=\"http://purl.org/dc/elements/1.1/\" xmlns:rdf=\"http://www.w3.org/1999/02/22-rdf-syntax-ns#\">\n   <cc:Work>\n    <dc:type rdf:resource=\"http://purl.org/dc/dcmitype/StillImage\"/>\n    <dc:date>2021-04-10T23:26:52.219497</dc:date>\n    <dc:format>image/svg+xml</dc:format>\n    <dc:creator>\n     <cc:Agent>\n      <dc:title>Matplotlib v3.4.1, https://matplotlib.org/</dc:title>\n     </cc:Agent>\n    </dc:creator>\n   </cc:Work>\n  </rdf:RDF>\n </metadata>\n <defs>\n  <style type=\"text/css\">*{stroke-linecap:butt;stroke-linejoin:round;}</style>\n </defs>\n <g id=\"figure_1\">\n  <g id=\"patch_1\">\n   <path d=\"M 0 412.146047 \nL 691.28175 412.146047 \nL 691.28175 0 \nL 0 0 \nz\n\" style=\"fill:#f0f0f0;\"/>\n  </g>\n  <g id=\"axes_1\">\n   <g id=\"patch_2\">\n    <path d=\"M 57.68175 367.637422 \nL 684.08175 367.637422 \nL 684.08175 7.2 \nL 57.68175 7.2 \nz\n\" style=\"fill:#f0f0f0;\"/>\n   </g>\n   <g id=\"matplotlib.axis_1\">\n    <g id=\"xtick_1\">\n     <g id=\"line2d_1\">\n      <path clip-path=\"url(#pcba3b6f94a)\" d=\"M 86.154477 367.637422 \nL 86.154477 7.2 \n\" style=\"fill:none;stroke:#cbcbcb;\"/>\n     </g>\n     <g id=\"line2d_2\"/>\n     <g id=\"text_1\">\n      <!-- $\\mathdefault{2^{0}}$ -->\n      <g transform=\"translate(78.314477 381.775235)scale(0.14 -0.14)\">\n       <defs>\n        <path d=\"M 1228 531 \nL 3431 531 \nL 3431 0 \nL 469 0 \nL 469 531 \nQ 828 903 1448 1529 \nQ 2069 2156 2228 2338 \nQ 2531 2678 2651 2914 \nQ 2772 3150 2772 3378 \nQ 2772 3750 2511 3984 \nQ 2250 4219 1831 4219 \nQ 1534 4219 1204 4116 \nQ 875 4013 500 3803 \nL 500 4441 \nQ 881 4594 1212 4672 \nQ 1544 4750 1819 4750 \nQ 2544 4750 2975 4387 \nQ 3406 4025 3406 3419 \nQ 3406 3131 3298 2873 \nQ 3191 2616 2906 2266 \nQ 2828 2175 2409 1742 \nQ 1991 1309 1228 531 \nz\n\" id=\"DejaVuSans-32\" transform=\"scale(0.015625)\"/>\n        <path d=\"M 2034 4250 \nQ 1547 4250 1301 3770 \nQ 1056 3291 1056 2328 \nQ 1056 1369 1301 889 \nQ 1547 409 2034 409 \nQ 2525 409 2770 889 \nQ 3016 1369 3016 2328 \nQ 3016 3291 2770 3770 \nQ 2525 4250 2034 4250 \nz\nM 2034 4750 \nQ 2819 4750 3233 4129 \nQ 3647 3509 3647 2328 \nQ 3647 1150 3233 529 \nQ 2819 -91 2034 -91 \nQ 1250 -91 836 529 \nQ 422 1150 422 2328 \nQ 422 3509 836 4129 \nQ 1250 4750 2034 4750 \nz\n\" id=\"DejaVuSans-30\" transform=\"scale(0.015625)\"/>\n       </defs>\n       <use transform=\"translate(0 0.765625)\" xlink:href=\"#DejaVuSans-32\"/>\n       <use transform=\"translate(64.580078 39.046875)scale(0.7)\" xlink:href=\"#DejaVuSans-30\"/>\n      </g>\n     </g>\n    </g>\n    <g id=\"xtick_2\">\n     <g id=\"line2d_3\">\n      <path clip-path=\"url(#pcba3b6f94a)\" d=\"M 124.118114 367.637422 \nL 124.118114 7.2 \n\" style=\"fill:none;stroke:#cbcbcb;\"/>\n     </g>\n     <g id=\"line2d_4\"/>\n     <g id=\"text_2\">\n      <!-- $\\mathdefault{2^{1}}$ -->\n      <g transform=\"translate(116.278114 381.775235)scale(0.14 -0.14)\">\n       <defs>\n        <path d=\"M 794 531 \nL 1825 531 \nL 1825 4091 \nL 703 3866 \nL 703 4441 \nL 1819 4666 \nL 2450 4666 \nL 2450 531 \nL 3481 531 \nL 3481 0 \nL 794 0 \nL 794 531 \nz\n\" id=\"DejaVuSans-31\" transform=\"scale(0.015625)\"/>\n       </defs>\n       <use transform=\"translate(0 0.684375)\" xlink:href=\"#DejaVuSans-32\"/>\n       <use transform=\"translate(64.580078 38.965625)scale(0.7)\" xlink:href=\"#DejaVuSans-31\"/>\n      </g>\n     </g>\n    </g>\n    <g id=\"xtick_3\">\n     <g id=\"line2d_5\">\n      <path clip-path=\"url(#pcba3b6f94a)\" d=\"M 162.08175 367.637422 \nL 162.08175 7.2 \n\" style=\"fill:none;stroke:#cbcbcb;\"/>\n     </g>\n     <g id=\"line2d_6\"/>\n     <g id=\"text_3\">\n      <!-- $\\mathdefault{2^{2}}$ -->\n      <g transform=\"translate(154.24175 381.775235)scale(0.14 -0.14)\">\n       <use transform=\"translate(0 0.765625)\" xlink:href=\"#DejaVuSans-32\"/>\n       <use transform=\"translate(64.580078 39.046875)scale(0.7)\" xlink:href=\"#DejaVuSans-32\"/>\n      </g>\n     </g>\n    </g>\n    <g id=\"xtick_4\">\n     <g id=\"line2d_7\">\n      <path clip-path=\"url(#pcba3b6f94a)\" d=\"M 200.045386 367.637422 \nL 200.045386 7.2 \n\" style=\"fill:none;stroke:#cbcbcb;\"/>\n     </g>\n     <g id=\"line2d_8\"/>\n     <g id=\"text_4\">\n      <!-- $\\mathdefault{2^{3}}$ -->\n      <g transform=\"translate(192.205386 381.775235)scale(0.14 -0.14)\">\n       <defs>\n        <path d=\"M 2597 2516 \nQ 3050 2419 3304 2112 \nQ 3559 1806 3559 1356 \nQ 3559 666 3084 287 \nQ 2609 -91 1734 -91 \nQ 1441 -91 1130 -33 \nQ 819 25 488 141 \nL 488 750 \nQ 750 597 1062 519 \nQ 1375 441 1716 441 \nQ 2309 441 2620 675 \nQ 2931 909 2931 1356 \nQ 2931 1769 2642 2001 \nQ 2353 2234 1838 2234 \nL 1294 2234 \nL 1294 2753 \nL 1863 2753 \nQ 2328 2753 2575 2939 \nQ 2822 3125 2822 3475 \nQ 2822 3834 2567 4026 \nQ 2313 4219 1838 4219 \nQ 1578 4219 1281 4162 \nQ 984 4106 628 3988 \nL 628 4550 \nQ 988 4650 1302 4700 \nQ 1616 4750 1894 4750 \nQ 2613 4750 3031 4423 \nQ 3450 4097 3450 3541 \nQ 3450 3153 3228 2886 \nQ 3006 2619 2597 2516 \nz\n\" id=\"DejaVuSans-33\" transform=\"scale(0.015625)\"/>\n       </defs>\n       <use transform=\"translate(0 0.765625)\" xlink:href=\"#DejaVuSans-32\"/>\n       <use transform=\"translate(64.580078 39.046875)scale(0.7)\" xlink:href=\"#DejaVuSans-33\"/>\n      </g>\n     </g>\n    </g>\n    <g id=\"xtick_5\">\n     <g id=\"line2d_9\">\n      <path clip-path=\"url(#pcba3b6f94a)\" d=\"M 238.009023 367.637422 \nL 238.009023 7.2 \n\" style=\"fill:none;stroke:#cbcbcb;\"/>\n     </g>\n     <g id=\"line2d_10\"/>\n     <g id=\"text_5\">\n      <!-- $\\mathdefault{2^{4}}$ -->\n      <g transform=\"translate(230.169023 381.775235)scale(0.14 -0.14)\">\n       <defs>\n        <path d=\"M 2419 4116 \nL 825 1625 \nL 2419 1625 \nL 2419 4116 \nz\nM 2253 4666 \nL 3047 4666 \nL 3047 1625 \nL 3713 1625 \nL 3713 1100 \nL 3047 1100 \nL 3047 0 \nL 2419 0 \nL 2419 1100 \nL 313 1100 \nL 313 1709 \nL 2253 4666 \nz\n\" id=\"DejaVuSans-34\" transform=\"scale(0.015625)\"/>\n       </defs>\n       <use transform=\"translate(0 0.684375)\" xlink:href=\"#DejaVuSans-32\"/>\n       <use transform=\"translate(64.580078 38.965625)scale(0.7)\" xlink:href=\"#DejaVuSans-34\"/>\n      </g>\n     </g>\n    </g>\n    <g id=\"xtick_6\">\n     <g id=\"line2d_11\">\n      <path clip-path=\"url(#pcba3b6f94a)\" d=\"M 275.972659 367.637422 \nL 275.972659 7.2 \n\" style=\"fill:none;stroke:#cbcbcb;\"/>\n     </g>\n     <g id=\"line2d_12\"/>\n     <g id=\"text_6\">\n      <!-- $\\mathdefault{2^{5}}$ -->\n      <g transform=\"translate(268.132659 381.775235)scale(0.14 -0.14)\">\n       <defs>\n        <path d=\"M 691 4666 \nL 3169 4666 \nL 3169 4134 \nL 1269 4134 \nL 1269 2991 \nQ 1406 3038 1543 3061 \nQ 1681 3084 1819 3084 \nQ 2600 3084 3056 2656 \nQ 3513 2228 3513 1497 \nQ 3513 744 3044 326 \nQ 2575 -91 1722 -91 \nQ 1428 -91 1123 -41 \nQ 819 9 494 109 \nL 494 744 \nQ 775 591 1075 516 \nQ 1375 441 1709 441 \nQ 2250 441 2565 725 \nQ 2881 1009 2881 1497 \nQ 2881 1984 2565 2268 \nQ 2250 2553 1709 2553 \nQ 1456 2553 1204 2497 \nQ 953 2441 691 2322 \nL 691 4666 \nz\n\" id=\"DejaVuSans-35\" transform=\"scale(0.015625)\"/>\n       </defs>\n       <use transform=\"translate(0 0.684375)\" xlink:href=\"#DejaVuSans-32\"/>\n       <use transform=\"translate(64.580078 38.965625)scale(0.7)\" xlink:href=\"#DejaVuSans-35\"/>\n      </g>\n     </g>\n    </g>\n    <g id=\"xtick_7\">\n     <g id=\"line2d_13\">\n      <path clip-path=\"url(#pcba3b6f94a)\" d=\"M 313.936295 367.637422 \nL 313.936295 7.2 \n\" style=\"fill:none;stroke:#cbcbcb;\"/>\n     </g>\n     <g id=\"line2d_14\"/>\n     <g id=\"text_7\">\n      <!-- $\\mathdefault{2^{6}}$ -->\n      <g transform=\"translate(306.096295 381.775235)scale(0.14 -0.14)\">\n       <defs>\n        <path d=\"M 2113 2584 \nQ 1688 2584 1439 2293 \nQ 1191 2003 1191 1497 \nQ 1191 994 1439 701 \nQ 1688 409 2113 409 \nQ 2538 409 2786 701 \nQ 3034 994 3034 1497 \nQ 3034 2003 2786 2293 \nQ 2538 2584 2113 2584 \nz\nM 3366 4563 \nL 3366 3988 \nQ 3128 4100 2886 4159 \nQ 2644 4219 2406 4219 \nQ 1781 4219 1451 3797 \nQ 1122 3375 1075 2522 \nQ 1259 2794 1537 2939 \nQ 1816 3084 2150 3084 \nQ 2853 3084 3261 2657 \nQ 3669 2231 3669 1497 \nQ 3669 778 3244 343 \nQ 2819 -91 2113 -91 \nQ 1303 -91 875 529 \nQ 447 1150 447 2328 \nQ 447 3434 972 4092 \nQ 1497 4750 2381 4750 \nQ 2619 4750 2861 4703 \nQ 3103 4656 3366 4563 \nz\n\" id=\"DejaVuSans-36\" transform=\"scale(0.015625)\"/>\n       </defs>\n       <use transform=\"translate(0 0.765625)\" xlink:href=\"#DejaVuSans-32\"/>\n       <use transform=\"translate(64.580078 39.046875)scale(0.7)\" xlink:href=\"#DejaVuSans-36\"/>\n      </g>\n     </g>\n    </g>\n    <g id=\"xtick_8\">\n     <g id=\"line2d_15\">\n      <path clip-path=\"url(#pcba3b6f94a)\" d=\"M 351.899932 367.637422 \nL 351.899932 7.2 \n\" style=\"fill:none;stroke:#cbcbcb;\"/>\n     </g>\n     <g id=\"line2d_16\"/>\n     <g id=\"text_8\">\n      <!-- $\\mathdefault{2^{7}}$ -->\n      <g transform=\"translate(344.059932 381.775235)scale(0.14 -0.14)\">\n       <defs>\n        <path d=\"M 525 4666 \nL 3525 4666 \nL 3525 4397 \nL 1831 0 \nL 1172 0 \nL 2766 4134 \nL 525 4134 \nL 525 4666 \nz\n\" id=\"DejaVuSans-37\" transform=\"scale(0.015625)\"/>\n       </defs>\n       <use transform=\"translate(0 0.684375)\" xlink:href=\"#DejaVuSans-32\"/>\n       <use transform=\"translate(64.580078 38.965625)scale(0.7)\" xlink:href=\"#DejaVuSans-37\"/>\n      </g>\n     </g>\n    </g>\n    <g id=\"xtick_9\">\n     <g id=\"line2d_17\">\n      <path clip-path=\"url(#pcba3b6f94a)\" d=\"M 389.863568 367.637422 \nL 389.863568 7.2 \n\" style=\"fill:none;stroke:#cbcbcb;\"/>\n     </g>\n     <g id=\"line2d_18\"/>\n     <g id=\"text_9\">\n      <!-- $\\mathdefault{2^{8}}$ -->\n      <g transform=\"translate(382.023568 381.775235)scale(0.14 -0.14)\">\n       <defs>\n        <path d=\"M 2034 2216 \nQ 1584 2216 1326 1975 \nQ 1069 1734 1069 1313 \nQ 1069 891 1326 650 \nQ 1584 409 2034 409 \nQ 2484 409 2743 651 \nQ 3003 894 3003 1313 \nQ 3003 1734 2745 1975 \nQ 2488 2216 2034 2216 \nz\nM 1403 2484 \nQ 997 2584 770 2862 \nQ 544 3141 544 3541 \nQ 544 4100 942 4425 \nQ 1341 4750 2034 4750 \nQ 2731 4750 3128 4425 \nQ 3525 4100 3525 3541 \nQ 3525 3141 3298 2862 \nQ 3072 2584 2669 2484 \nQ 3125 2378 3379 2068 \nQ 3634 1759 3634 1313 \nQ 3634 634 3220 271 \nQ 2806 -91 2034 -91 \nQ 1263 -91 848 271 \nQ 434 634 434 1313 \nQ 434 1759 690 2068 \nQ 947 2378 1403 2484 \nz\nM 1172 3481 \nQ 1172 3119 1398 2916 \nQ 1625 2713 2034 2713 \nQ 2441 2713 2670 2916 \nQ 2900 3119 2900 3481 \nQ 2900 3844 2670 4047 \nQ 2441 4250 2034 4250 \nQ 1625 4250 1398 4047 \nQ 1172 3844 1172 3481 \nz\n\" id=\"DejaVuSans-38\" transform=\"scale(0.015625)\"/>\n       </defs>\n       <use transform=\"translate(0 0.765625)\" xlink:href=\"#DejaVuSans-32\"/>\n       <use transform=\"translate(64.580078 39.046875)scale(0.7)\" xlink:href=\"#DejaVuSans-38\"/>\n      </g>\n     </g>\n    </g>\n    <g id=\"xtick_10\">\n     <g id=\"line2d_19\">\n      <path clip-path=\"url(#pcba3b6f94a)\" d=\"M 427.827205 367.637422 \nL 427.827205 7.2 \n\" style=\"fill:none;stroke:#cbcbcb;\"/>\n     </g>\n     <g id=\"line2d_20\"/>\n     <g id=\"text_10\">\n      <!-- $\\mathdefault{2^{9}}$ -->\n      <g transform=\"translate(419.987205 381.775235)scale(0.14 -0.14)\">\n       <defs>\n        <path d=\"M 703 97 \nL 703 672 \nQ 941 559 1184 500 \nQ 1428 441 1663 441 \nQ 2288 441 2617 861 \nQ 2947 1281 2994 2138 \nQ 2813 1869 2534 1725 \nQ 2256 1581 1919 1581 \nQ 1219 1581 811 2004 \nQ 403 2428 403 3163 \nQ 403 3881 828 4315 \nQ 1253 4750 1959 4750 \nQ 2769 4750 3195 4129 \nQ 3622 3509 3622 2328 \nQ 3622 1225 3098 567 \nQ 2575 -91 1691 -91 \nQ 1453 -91 1209 -44 \nQ 966 3 703 97 \nz\nM 1959 2075 \nQ 2384 2075 2632 2365 \nQ 2881 2656 2881 3163 \nQ 2881 3666 2632 3958 \nQ 2384 4250 1959 4250 \nQ 1534 4250 1286 3958 \nQ 1038 3666 1038 3163 \nQ 1038 2656 1286 2365 \nQ 1534 2075 1959 2075 \nz\n\" id=\"DejaVuSans-39\" transform=\"scale(0.015625)\"/>\n       </defs>\n       <use transform=\"translate(0 0.765625)\" xlink:href=\"#DejaVuSans-32\"/>\n       <use transform=\"translate(64.580078 39.046875)scale(0.7)\" xlink:href=\"#DejaVuSans-39\"/>\n      </g>\n     </g>\n    </g>\n    <g id=\"xtick_11\">\n     <g id=\"line2d_21\">\n      <path clip-path=\"url(#pcba3b6f94a)\" d=\"M 465.790841 367.637422 \nL 465.790841 7.2 \n\" style=\"fill:none;stroke:#cbcbcb;\"/>\n     </g>\n     <g id=\"line2d_22\"/>\n     <g id=\"text_11\">\n      <!-- $\\mathdefault{2^{10}}$ -->\n      <g transform=\"translate(454.800841 381.775235)scale(0.14 -0.14)\">\n       <use transform=\"translate(0 0.765625)\" xlink:href=\"#DejaVuSans-32\"/>\n       <use transform=\"translate(64.580078 39.046875)scale(0.7)\" xlink:href=\"#DejaVuSans-31\"/>\n       <use transform=\"translate(109.116211 39.046875)scale(0.7)\" xlink:href=\"#DejaVuSans-30\"/>\n      </g>\n     </g>\n    </g>\n    <g id=\"xtick_12\">\n     <g id=\"line2d_23\">\n      <path clip-path=\"url(#pcba3b6f94a)\" d=\"M 503.754477 367.637422 \nL 503.754477 7.2 \n\" style=\"fill:none;stroke:#cbcbcb;\"/>\n     </g>\n     <g id=\"line2d_24\"/>\n     <g id=\"text_12\">\n      <!-- $\\mathdefault{2^{11}}$ -->\n      <g transform=\"translate(492.764477 381.775235)scale(0.14 -0.14)\">\n       <use transform=\"translate(0 0.684375)\" xlink:href=\"#DejaVuSans-32\"/>\n       <use transform=\"translate(64.580078 38.965625)scale(0.7)\" xlink:href=\"#DejaVuSans-31\"/>\n       <use transform=\"translate(109.116211 38.965625)scale(0.7)\" xlink:href=\"#DejaVuSans-31\"/>\n      </g>\n     </g>\n    </g>\n    <g id=\"xtick_13\">\n     <g id=\"line2d_25\">\n      <path clip-path=\"url(#pcba3b6f94a)\" d=\"M 541.718114 367.637422 \nL 541.718114 7.2 \n\" style=\"fill:none;stroke:#cbcbcb;\"/>\n     </g>\n     <g id=\"line2d_26\"/>\n     <g id=\"text_13\">\n      <!-- $\\mathdefault{2^{12}}$ -->\n      <g transform=\"translate(530.728114 381.775235)scale(0.14 -0.14)\">\n       <use transform=\"translate(0 0.765625)\" xlink:href=\"#DejaVuSans-32\"/>\n       <use transform=\"translate(64.580078 39.046875)scale(0.7)\" xlink:href=\"#DejaVuSans-31\"/>\n       <use transform=\"translate(109.116211 39.046875)scale(0.7)\" xlink:href=\"#DejaVuSans-32\"/>\n      </g>\n     </g>\n    </g>\n    <g id=\"xtick_14\">\n     <g id=\"line2d_27\">\n      <path clip-path=\"url(#pcba3b6f94a)\" d=\"M 579.68175 367.637422 \nL 579.68175 7.2 \n\" style=\"fill:none;stroke:#cbcbcb;\"/>\n     </g>\n     <g id=\"line2d_28\"/>\n     <g id=\"text_14\">\n      <!-- $\\mathdefault{2^{13}}$ -->\n      <g transform=\"translate(568.69175 381.775235)scale(0.14 -0.14)\">\n       <use transform=\"translate(0 0.765625)\" xlink:href=\"#DejaVuSans-32\"/>\n       <use transform=\"translate(64.580078 39.046875)scale(0.7)\" xlink:href=\"#DejaVuSans-31\"/>\n       <use transform=\"translate(109.116211 39.046875)scale(0.7)\" xlink:href=\"#DejaVuSans-33\"/>\n      </g>\n     </g>\n    </g>\n    <g id=\"xtick_15\">\n     <g id=\"line2d_29\">\n      <path clip-path=\"url(#pcba3b6f94a)\" d=\"M 617.645386 367.637422 \nL 617.645386 7.2 \n\" style=\"fill:none;stroke:#cbcbcb;\"/>\n     </g>\n     <g id=\"line2d_30\"/>\n     <g id=\"text_15\">\n      <!-- $\\mathdefault{2^{14}}$ -->\n      <g transform=\"translate(606.655386 381.775235)scale(0.14 -0.14)\">\n       <use transform=\"translate(0 0.684375)\" xlink:href=\"#DejaVuSans-32\"/>\n       <use transform=\"translate(64.580078 38.965625)scale(0.7)\" xlink:href=\"#DejaVuSans-31\"/>\n       <use transform=\"translate(109.116211 38.965625)scale(0.7)\" xlink:href=\"#DejaVuSans-34\"/>\n      </g>\n     </g>\n    </g>\n    <g id=\"xtick_16\">\n     <g id=\"line2d_31\">\n      <path clip-path=\"url(#pcba3b6f94a)\" d=\"M 655.609023 367.637422 \nL 655.609023 7.2 \n\" style=\"fill:none;stroke:#cbcbcb;\"/>\n     </g>\n     <g id=\"line2d_32\"/>\n     <g id=\"text_16\">\n      <!-- $\\mathdefault{2^{15}}$ -->\n      <g transform=\"translate(644.619023 381.775235)scale(0.14 -0.14)\">\n       <use transform=\"translate(0 0.684375)\" xlink:href=\"#DejaVuSans-32\"/>\n       <use transform=\"translate(64.580078 38.965625)scale(0.7)\" xlink:href=\"#DejaVuSans-31\"/>\n       <use transform=\"translate(109.116211 38.965625)scale(0.7)\" xlink:href=\"#DejaVuSans-35\"/>\n      </g>\n     </g>\n    </g>\n    <g id=\"text_17\">\n     <!-- Degree Centrality -->\n     <g transform=\"translate(296.45775 401.452172)scale(0.168 -0.168)\">\n      <defs>\n       <path d=\"M 1259 4147 \nL 1259 519 \nL 2022 519 \nQ 2988 519 3436 956 \nQ 3884 1394 3884 2338 \nQ 3884 3275 3436 3711 \nQ 2988 4147 2022 4147 \nL 1259 4147 \nz\nM 628 4666 \nL 1925 4666 \nQ 3281 4666 3915 4102 \nQ 4550 3538 4550 2338 \nQ 4550 1131 3912 565 \nQ 3275 0 1925 0 \nL 628 0 \nL 628 4666 \nz\n\" id=\"DejaVuSans-44\" transform=\"scale(0.015625)\"/>\n       <path d=\"M 3597 1894 \nL 3597 1613 \nL 953 1613 \nQ 991 1019 1311 708 \nQ 1631 397 2203 397 \nQ 2534 397 2845 478 \nQ 3156 559 3463 722 \nL 3463 178 \nQ 3153 47 2828 -22 \nQ 2503 -91 2169 -91 \nQ 1331 -91 842 396 \nQ 353 884 353 1716 \nQ 353 2575 817 3079 \nQ 1281 3584 2069 3584 \nQ 2775 3584 3186 3129 \nQ 3597 2675 3597 1894 \nz\nM 3022 2063 \nQ 3016 2534 2758 2815 \nQ 2500 3097 2075 3097 \nQ 1594 3097 1305 2825 \nQ 1016 2553 972 2059 \nL 3022 2063 \nz\n\" id=\"DejaVuSans-65\" transform=\"scale(0.015625)\"/>\n       <path d=\"M 2906 1791 \nQ 2906 2416 2648 2759 \nQ 2391 3103 1925 3103 \nQ 1463 3103 1205 2759 \nQ 947 2416 947 1791 \nQ 947 1169 1205 825 \nQ 1463 481 1925 481 \nQ 2391 481 2648 825 \nQ 2906 1169 2906 1791 \nz\nM 3481 434 \nQ 3481 -459 3084 -895 \nQ 2688 -1331 1869 -1331 \nQ 1566 -1331 1297 -1286 \nQ 1028 -1241 775 -1147 \nL 775 -588 \nQ 1028 -725 1275 -790 \nQ 1522 -856 1778 -856 \nQ 2344 -856 2625 -561 \nQ 2906 -266 2906 331 \nL 2906 616 \nQ 2728 306 2450 153 \nQ 2172 0 1784 0 \nQ 1141 0 747 490 \nQ 353 981 353 1791 \nQ 353 2603 747 3093 \nQ 1141 3584 1784 3584 \nQ 2172 3584 2450 3431 \nQ 2728 3278 2906 2969 \nL 2906 3500 \nL 3481 3500 \nL 3481 434 \nz\n\" id=\"DejaVuSans-67\" transform=\"scale(0.015625)\"/>\n       <path d=\"M 2631 2963 \nQ 2534 3019 2420 3045 \nQ 2306 3072 2169 3072 \nQ 1681 3072 1420 2755 \nQ 1159 2438 1159 1844 \nL 1159 0 \nL 581 0 \nL 581 3500 \nL 1159 3500 \nL 1159 2956 \nQ 1341 3275 1631 3429 \nQ 1922 3584 2338 3584 \nQ 2397 3584 2469 3576 \nQ 2541 3569 2628 3553 \nL 2631 2963 \nz\n\" id=\"DejaVuSans-72\" transform=\"scale(0.015625)\"/>\n       <path id=\"DejaVuSans-20\" transform=\"scale(0.015625)\"/>\n       <path d=\"M 4122 4306 \nL 4122 3641 \nQ 3803 3938 3442 4084 \nQ 3081 4231 2675 4231 \nQ 1875 4231 1450 3742 \nQ 1025 3253 1025 2328 \nQ 1025 1406 1450 917 \nQ 1875 428 2675 428 \nQ 3081 428 3442 575 \nQ 3803 722 4122 1019 \nL 4122 359 \nQ 3791 134 3420 21 \nQ 3050 -91 2638 -91 \nQ 1578 -91 968 557 \nQ 359 1206 359 2328 \nQ 359 3453 968 4101 \nQ 1578 4750 2638 4750 \nQ 3056 4750 3426 4639 \nQ 3797 4528 4122 4306 \nz\n\" id=\"DejaVuSans-43\" transform=\"scale(0.015625)\"/>\n       <path d=\"M 3513 2113 \nL 3513 0 \nL 2938 0 \nL 2938 2094 \nQ 2938 2591 2744 2837 \nQ 2550 3084 2163 3084 \nQ 1697 3084 1428 2787 \nQ 1159 2491 1159 1978 \nL 1159 0 \nL 581 0 \nL 581 3500 \nL 1159 3500 \nL 1159 2956 \nQ 1366 3272 1645 3428 \nQ 1925 3584 2291 3584 \nQ 2894 3584 3203 3211 \nQ 3513 2838 3513 2113 \nz\n\" id=\"DejaVuSans-6e\" transform=\"scale(0.015625)\"/>\n       <path d=\"M 1172 4494 \nL 1172 3500 \nL 2356 3500 \nL 2356 3053 \nL 1172 3053 \nL 1172 1153 \nQ 1172 725 1289 603 \nQ 1406 481 1766 481 \nL 2356 481 \nL 2356 0 \nL 1766 0 \nQ 1100 0 847 248 \nQ 594 497 594 1153 \nL 594 3053 \nL 172 3053 \nL 172 3500 \nL 594 3500 \nL 594 4494 \nL 1172 4494 \nz\n\" id=\"DejaVuSans-74\" transform=\"scale(0.015625)\"/>\n       <path d=\"M 2194 1759 \nQ 1497 1759 1228 1600 \nQ 959 1441 959 1056 \nQ 959 750 1161 570 \nQ 1363 391 1709 391 \nQ 2188 391 2477 730 \nQ 2766 1069 2766 1631 \nL 2766 1759 \nL 2194 1759 \nz\nM 3341 1997 \nL 3341 0 \nL 2766 0 \nL 2766 531 \nQ 2569 213 2275 61 \nQ 1981 -91 1556 -91 \nQ 1019 -91 701 211 \nQ 384 513 384 1019 \nQ 384 1609 779 1909 \nQ 1175 2209 1959 2209 \nL 2766 2209 \nL 2766 2266 \nQ 2766 2663 2505 2880 \nQ 2244 3097 1772 3097 \nQ 1472 3097 1187 3025 \nQ 903 2953 641 2809 \nL 641 3341 \nQ 956 3463 1253 3523 \nQ 1550 3584 1831 3584 \nQ 2591 3584 2966 3190 \nQ 3341 2797 3341 1997 \nz\n\" id=\"DejaVuSans-61\" transform=\"scale(0.015625)\"/>\n       <path d=\"M 603 4863 \nL 1178 4863 \nL 1178 0 \nL 603 0 \nL 603 4863 \nz\n\" id=\"DejaVuSans-6c\" transform=\"scale(0.015625)\"/>\n       <path d=\"M 603 3500 \nL 1178 3500 \nL 1178 0 \nL 603 0 \nL 603 3500 \nz\nM 603 4863 \nL 1178 4863 \nL 1178 4134 \nL 603 4134 \nL 603 4863 \nz\n\" id=\"DejaVuSans-69\" transform=\"scale(0.015625)\"/>\n       <path d=\"M 2059 -325 \nQ 1816 -950 1584 -1140 \nQ 1353 -1331 966 -1331 \nL 506 -1331 \nL 506 -850 \nL 844 -850 \nQ 1081 -850 1212 -737 \nQ 1344 -625 1503 -206 \nL 1606 56 \nL 191 3500 \nL 800 3500 \nL 1894 763 \nL 2988 3500 \nL 3597 3500 \nL 2059 -325 \nz\n\" id=\"DejaVuSans-79\" transform=\"scale(0.015625)\"/>\n      </defs>\n      <use xlink:href=\"#DejaVuSans-44\"/>\n      <use x=\"77.001953\" xlink:href=\"#DejaVuSans-65\"/>\n      <use x=\"138.525391\" xlink:href=\"#DejaVuSans-67\"/>\n      <use x=\"202.001953\" xlink:href=\"#DejaVuSans-72\"/>\n      <use x=\"240.865234\" xlink:href=\"#DejaVuSans-65\"/>\n      <use x=\"302.388672\" xlink:href=\"#DejaVuSans-65\"/>\n      <use x=\"363.912109\" xlink:href=\"#DejaVuSans-20\"/>\n      <use x=\"395.699219\" xlink:href=\"#DejaVuSans-43\"/>\n      <use x=\"465.523438\" xlink:href=\"#DejaVuSans-65\"/>\n      <use x=\"527.046875\" xlink:href=\"#DejaVuSans-6e\"/>\n      <use x=\"590.425781\" xlink:href=\"#DejaVuSans-74\"/>\n      <use x=\"629.634766\" xlink:href=\"#DejaVuSans-72\"/>\n      <use x=\"670.748047\" xlink:href=\"#DejaVuSans-61\"/>\n      <use x=\"732.027344\" xlink:href=\"#DejaVuSans-6c\"/>\n      <use x=\"759.810547\" xlink:href=\"#DejaVuSans-69\"/>\n      <use x=\"787.59375\" xlink:href=\"#DejaVuSans-74\"/>\n      <use x=\"826.802734\" xlink:href=\"#DejaVuSans-79\"/>\n     </g>\n    </g>\n   </g>\n   <g id=\"matplotlib.axis_2\">\n    <g id=\"ytick_1\">\n     <g id=\"line2d_33\">\n      <path clip-path=\"url(#pcba3b6f94a)\" d=\"M 57.68175 367.637422 \nL 684.08175 367.637422 \n\" style=\"fill:none;stroke:#cbcbcb;\"/>\n     </g>\n     <g id=\"line2d_34\"/>\n     <g id=\"text_18\">\n      <!-- 0 -->\n      <g transform=\"translate(45.27425 372.956328)scale(0.14 -0.14)\">\n       <use xlink:href=\"#DejaVuSans-30\"/>\n      </g>\n     </g>\n    </g>\n    <g id=\"ytick_2\">\n     <g id=\"line2d_35\">\n      <path clip-path=\"url(#pcba3b6f94a)\" d=\"M 57.68175 325.977988 \nL 684.08175 325.977988 \n\" style=\"fill:none;stroke:#cbcbcb;\"/>\n     </g>\n     <g id=\"line2d_36\"/>\n     <g id=\"text_19\">\n      <!-- 25 -->\n      <g transform=\"translate(36.36675 331.296895)scale(0.14 -0.14)\">\n       <use xlink:href=\"#DejaVuSans-32\"/>\n       <use x=\"63.623047\" xlink:href=\"#DejaVuSans-35\"/>\n      </g>\n     </g>\n    </g>\n    <g id=\"ytick_3\">\n     <g id=\"line2d_37\">\n      <path clip-path=\"url(#pcba3b6f94a)\" d=\"M 57.68175 284.318554 \nL 684.08175 284.318554 \n\" style=\"fill:none;stroke:#cbcbcb;\"/>\n     </g>\n     <g id=\"line2d_38\"/>\n     <g id=\"text_20\">\n      <!-- 50 -->\n      <g transform=\"translate(36.36675 289.637461)scale(0.14 -0.14)\">\n       <use xlink:href=\"#DejaVuSans-35\"/>\n       <use x=\"63.623047\" xlink:href=\"#DejaVuSans-30\"/>\n      </g>\n     </g>\n    </g>\n    <g id=\"ytick_4\">\n     <g id=\"line2d_39\">\n      <path clip-path=\"url(#pcba3b6f94a)\" d=\"M 57.68175 242.65912 \nL 684.08175 242.65912 \n\" style=\"fill:none;stroke:#cbcbcb;\"/>\n     </g>\n     <g id=\"line2d_40\"/>\n     <g id=\"text_21\">\n      <!-- 75 -->\n      <g transform=\"translate(36.36675 247.978027)scale(0.14 -0.14)\">\n       <use xlink:href=\"#DejaVuSans-37\"/>\n       <use x=\"63.623047\" xlink:href=\"#DejaVuSans-35\"/>\n      </g>\n     </g>\n    </g>\n    <g id=\"ytick_5\">\n     <g id=\"line2d_41\">\n      <path clip-path=\"url(#pcba3b6f94a)\" d=\"M 57.68175 200.999687 \nL 684.08175 200.999687 \n\" style=\"fill:none;stroke:#cbcbcb;\"/>\n     </g>\n     <g id=\"line2d_42\"/>\n     <g id=\"text_22\">\n      <!-- 100 -->\n      <g transform=\"translate(27.45925 206.318593)scale(0.14 -0.14)\">\n       <use xlink:href=\"#DejaVuSans-31\"/>\n       <use x=\"63.623047\" xlink:href=\"#DejaVuSans-30\"/>\n       <use x=\"127.246094\" xlink:href=\"#DejaVuSans-30\"/>\n      </g>\n     </g>\n    </g>\n    <g id=\"ytick_6\">\n     <g id=\"line2d_43\">\n      <path clip-path=\"url(#pcba3b6f94a)\" d=\"M 57.68175 159.340253 \nL 684.08175 159.340253 \n\" style=\"fill:none;stroke:#cbcbcb;\"/>\n     </g>\n     <g id=\"line2d_44\"/>\n     <g id=\"text_23\">\n      <!-- 125 -->\n      <g transform=\"translate(27.45925 164.659159)scale(0.14 -0.14)\">\n       <use xlink:href=\"#DejaVuSans-31\"/>\n       <use x=\"63.623047\" xlink:href=\"#DejaVuSans-32\"/>\n       <use x=\"127.246094\" xlink:href=\"#DejaVuSans-35\"/>\n      </g>\n     </g>\n    </g>\n    <g id=\"ytick_7\">\n     <g id=\"line2d_45\">\n      <path clip-path=\"url(#pcba3b6f94a)\" d=\"M 57.68175 117.680819 \nL 684.08175 117.680819 \n\" style=\"fill:none;stroke:#cbcbcb;\"/>\n     </g>\n     <g id=\"line2d_46\"/>\n     <g id=\"text_24\">\n      <!-- 150 -->\n      <g transform=\"translate(27.45925 122.999725)scale(0.14 -0.14)\">\n       <use xlink:href=\"#DejaVuSans-31\"/>\n       <use x=\"63.623047\" xlink:href=\"#DejaVuSans-35\"/>\n       <use x=\"127.246094\" xlink:href=\"#DejaVuSans-30\"/>\n      </g>\n     </g>\n    </g>\n    <g id=\"ytick_8\">\n     <g id=\"line2d_47\">\n      <path clip-path=\"url(#pcba3b6f94a)\" d=\"M 57.68175 76.021385 \nL 684.08175 76.021385 \n\" style=\"fill:none;stroke:#cbcbcb;\"/>\n     </g>\n     <g id=\"line2d_48\"/>\n     <g id=\"text_25\">\n      <!-- 175 -->\n      <g transform=\"translate(27.45925 81.340291)scale(0.14 -0.14)\">\n       <use xlink:href=\"#DejaVuSans-31\"/>\n       <use x=\"63.623047\" xlink:href=\"#DejaVuSans-37\"/>\n       <use x=\"127.246094\" xlink:href=\"#DejaVuSans-35\"/>\n      </g>\n     </g>\n    </g>\n    <g id=\"ytick_9\">\n     <g id=\"line2d_49\">\n      <path clip-path=\"url(#pcba3b6f94a)\" d=\"M 57.68175 34.361951 \nL 684.08175 34.361951 \n\" style=\"fill:none;stroke:#cbcbcb;\"/>\n     </g>\n     <g id=\"line2d_50\"/>\n     <g id=\"text_26\">\n      <!-- 200 -->\n      <g transform=\"translate(27.45925 39.680857)scale(0.14 -0.14)\">\n       <use xlink:href=\"#DejaVuSans-32\"/>\n       <use x=\"63.623047\" xlink:href=\"#DejaVuSans-30\"/>\n       <use x=\"127.246094\" xlink:href=\"#DejaVuSans-30\"/>\n      </g>\n     </g>\n    </g>\n    <g id=\"text_27\">\n     <!-- Frequency -->\n     <g transform=\"translate(19.965375 230.812586)rotate(-90)scale(0.168 -0.168)\">\n      <defs>\n       <path d=\"M 628 4666 \nL 3309 4666 \nL 3309 4134 \nL 1259 4134 \nL 1259 2759 \nL 3109 2759 \nL 3109 2228 \nL 1259 2228 \nL 1259 0 \nL 628 0 \nL 628 4666 \nz\n\" id=\"DejaVuSans-46\" transform=\"scale(0.015625)\"/>\n       <path d=\"M 947 1747 \nQ 947 1113 1208 752 \nQ 1469 391 1925 391 \nQ 2381 391 2643 752 \nQ 2906 1113 2906 1747 \nQ 2906 2381 2643 2742 \nQ 2381 3103 1925 3103 \nQ 1469 3103 1208 2742 \nQ 947 2381 947 1747 \nz\nM 2906 525 \nQ 2725 213 2448 61 \nQ 2172 -91 1784 -91 \nQ 1150 -91 751 415 \nQ 353 922 353 1747 \nQ 353 2572 751 3078 \nQ 1150 3584 1784 3584 \nQ 2172 3584 2448 3432 \nQ 2725 3281 2906 2969 \nL 2906 3500 \nL 3481 3500 \nL 3481 -1331 \nL 2906 -1331 \nL 2906 525 \nz\n\" id=\"DejaVuSans-71\" transform=\"scale(0.015625)\"/>\n       <path d=\"M 544 1381 \nL 544 3500 \nL 1119 3500 \nL 1119 1403 \nQ 1119 906 1312 657 \nQ 1506 409 1894 409 \nQ 2359 409 2629 706 \nQ 2900 1003 2900 1516 \nL 2900 3500 \nL 3475 3500 \nL 3475 0 \nL 2900 0 \nL 2900 538 \nQ 2691 219 2414 64 \nQ 2138 -91 1772 -91 \nQ 1169 -91 856 284 \nQ 544 659 544 1381 \nz\nM 1991 3584 \nL 1991 3584 \nz\n\" id=\"DejaVuSans-75\" transform=\"scale(0.015625)\"/>\n       <path d=\"M 3122 3366 \nL 3122 2828 \nQ 2878 2963 2633 3030 \nQ 2388 3097 2138 3097 \nQ 1578 3097 1268 2742 \nQ 959 2388 959 1747 \nQ 959 1106 1268 751 \nQ 1578 397 2138 397 \nQ 2388 397 2633 464 \nQ 2878 531 3122 666 \nL 3122 134 \nQ 2881 22 2623 -34 \nQ 2366 -91 2075 -91 \nQ 1284 -91 818 406 \nQ 353 903 353 1747 \nQ 353 2603 823 3093 \nQ 1294 3584 2113 3584 \nQ 2378 3584 2631 3529 \nQ 2884 3475 3122 3366 \nz\n\" id=\"DejaVuSans-63\" transform=\"scale(0.015625)\"/>\n      </defs>\n      <use xlink:href=\"#DejaVuSans-46\"/>\n      <use x=\"50.269531\" xlink:href=\"#DejaVuSans-72\"/>\n      <use x=\"89.132812\" xlink:href=\"#DejaVuSans-65\"/>\n      <use x=\"150.65625\" xlink:href=\"#DejaVuSans-71\"/>\n      <use x=\"214.132812\" xlink:href=\"#DejaVuSans-75\"/>\n      <use x=\"277.511719\" xlink:href=\"#DejaVuSans-65\"/>\n      <use x=\"339.035156\" xlink:href=\"#DejaVuSans-6e\"/>\n      <use x=\"402.414062\" xlink:href=\"#DejaVuSans-63\"/>\n      <use x=\"457.394531\" xlink:href=\"#DejaVuSans-79\"/>\n     </g>\n    </g>\n   </g>\n   <g id=\"patch_3\">\n    <path clip-path=\"url(#pcba3b6f94a)\" d=\"M 86.154477 367.637422 \nL 124.118114 367.637422 \nL 124.118114 24.363687 \nL 86.154477 24.363687 \nz\n\" style=\"fill:#008fd5;\"/>\n   </g>\n   <g id=\"patch_4\">\n    <path clip-path=\"url(#pcba3b6f94a)\" d=\"M 124.118114 367.637422 \nL 162.08175 367.637422 \nL 162.08175 249.32463 \nL 124.118114 249.32463 \nz\n\" style=\"fill:#008fd5;\"/>\n   </g>\n   <g id=\"patch_5\">\n    <path clip-path=\"url(#pcba3b6f94a)\" d=\"M 162.08175 367.637422 \nL 200.045386 367.637422 \nL 200.045386 320.978856 \nL 162.08175 320.978856 \nz\n\" style=\"fill:#008fd5;\"/>\n   </g>\n   <g id=\"patch_6\">\n    <path clip-path=\"url(#pcba3b6f94a)\" d=\"M 200.045386 367.637422 \nL 238.009023 367.637422 \nL 238.009023 345.974517 \nL 200.045386 345.974517 \nz\n\" style=\"fill:#008fd5;\"/>\n   </g>\n   <g id=\"patch_7\">\n    <path clip-path=\"url(#pcba3b6f94a)\" d=\"M 238.009023 367.637422 \nL 275.972659 367.637422 \nL 275.972659 342.641762 \nL 238.009023 342.641762 \nz\n\" style=\"fill:#008fd5;\"/>\n   </g>\n   <g id=\"patch_8\">\n    <path clip-path=\"url(#pcba3b6f94a)\" d=\"M 275.972659 367.637422 \nL 313.936295 367.637422 \nL 313.936295 354.306403 \nL 275.972659 354.306403 \nz\n\" style=\"fill:#008fd5;\"/>\n   </g>\n   <g id=\"patch_9\">\n    <path clip-path=\"url(#pcba3b6f94a)\" d=\"M 313.936295 367.637422 \nL 351.899932 367.637422 \nL 351.899932 359.305535 \nL 313.936295 359.305535 \nz\n\" style=\"fill:#008fd5;\"/>\n   </g>\n   <g id=\"patch_10\">\n    <path clip-path=\"url(#pcba3b6f94a)\" d=\"M 351.899932 367.637422 \nL 389.863568 367.637422 \nL 389.863568 360.971913 \nL 351.899932 360.971913 \nz\n\" style=\"fill:#008fd5;\"/>\n   </g>\n   <g id=\"patch_11\">\n    <path clip-path=\"url(#pcba3b6f94a)\" d=\"M 389.863568 367.637422 \nL 427.827205 367.637422 \nL 427.827205 362.63829 \nL 389.863568 362.63829 \nz\n\" style=\"fill:#008fd5;\"/>\n   </g>\n   <g id=\"patch_12\">\n    <path clip-path=\"url(#pcba3b6f94a)\" d=\"M 427.827205 367.637422 \nL 465.790841 367.637422 \nL 465.790841 362.63829 \nL 427.827205 362.63829 \nz\n\" style=\"fill:#008fd5;\"/>\n   </g>\n   <g id=\"patch_13\">\n    <path clip-path=\"url(#pcba3b6f94a)\" d=\"M 465.790841 367.637422 \nL 503.754477 367.637422 \nL 503.754477 364.304668 \nL 465.790841 364.304668 \nz\n\" style=\"fill:#008fd5;\"/>\n   </g>\n   <g id=\"patch_14\">\n    <path clip-path=\"url(#pcba3b6f94a)\" d=\"M 503.754477 367.637422 \nL 541.718114 367.637422 \nL 541.718114 367.637422 \nL 503.754477 367.637422 \nz\n\" style=\"fill:#008fd5;\"/>\n   </g>\n   <g id=\"patch_15\">\n    <path clip-path=\"url(#pcba3b6f94a)\" d=\"M 541.718114 367.637422 \nL 579.68175 367.637422 \nL 579.68175 364.304668 \nL 541.718114 364.304668 \nz\n\" style=\"fill:#008fd5;\"/>\n   </g>\n   <g id=\"patch_16\">\n    <path clip-path=\"url(#pcba3b6f94a)\" d=\"M 579.68175 367.637422 \nL 617.645386 367.637422 \nL 617.645386 365.971045 \nL 579.68175 365.971045 \nz\n\" style=\"fill:#008fd5;\"/>\n   </g>\n   <g id=\"patch_17\">\n    <path clip-path=\"url(#pcba3b6f94a)\" d=\"M 617.645386 367.637422 \nL 655.609023 367.637422 \nL 655.609023 365.971045 \nL 617.645386 365.971045 \nz\n\" style=\"fill:#008fd5;\"/>\n   </g>\n   <g id=\"patch_18\">\n    <path d=\"M 57.68175 367.637422 \nL 57.68175 7.2 \n\" style=\"fill:none;stroke:#f0f0f0;stroke-linecap:square;stroke-linejoin:miter;stroke-width:3;\"/>\n   </g>\n   <g id=\"patch_19\">\n    <path d=\"M 684.08175 367.637422 \nL 684.08175 7.2 \n\" style=\"fill:none;stroke:#f0f0f0;stroke-linecap:square;stroke-linejoin:miter;stroke-width:3;\"/>\n   </g>\n   <g id=\"patch_20\">\n    <path d=\"M 57.68175 367.637422 \nL 684.08175 367.637422 \n\" style=\"fill:none;stroke:#f0f0f0;stroke-linecap:square;stroke-linejoin:miter;stroke-width:3;\"/>\n   </g>\n   <g id=\"patch_21\">\n    <path d=\"M 57.68175 7.2 \nL 684.08175 7.2 \n\" style=\"fill:none;stroke:#f0f0f0;stroke-linecap:square;stroke-linejoin:miter;stroke-width:3;\"/>\n   </g>\n  </g>\n </g>\n <defs>\n  <clipPath id=\"pcba3b6f94a\">\n   <rect height=\"360.437422\" width=\"626.4\" x=\"57.68175\" y=\"7.2\"/>\n  </clipPath>\n </defs>\n</svg>\n",
      "image/png": "[encoded data removed]"
     },
     "metadata": {}
    }
   ],
   "source": [
    "bins = [2**i for i in range(0, 16)]\n",
    "ax = degree_centrality.plot.hist(bins=bins)\n",
    "ax.set_xlabel('Degree Centrality')\n",
    "ax.set_xscale('log', base=2)\n",
    "ax.set_xticks(bins)\n",
    "\n",
    "plt.show()"
   ]
  },
  {
   "source": [
    "Dal grafico si evince che la maggior parte dei nodi ha un basso grado, che si traduce in un basso livello di traffico.  \n",
    "La quantità di nodi con grado elevato è decisamente inferiore.  \n",
    "Già da questo grafico si può determinare che i nodi più \"interessanti\" sono in quantità ridotta.\n"
   ],
   "cell_type": "markdown",
   "metadata": {}
  },
  {
   "cell_type": "code",
   "execution_count": 16,
   "metadata": {},
   "outputs": [
    {
     "output_type": "execute_result",
     "data": {
      "text/plain": [
       "              dc\n",
       "id              \n",
       "12976232    6604\n",
       "26607712    2569\n",
       "13635824    1168\n",
       "13373608    2688\n",
       "921840      1466\n",
       "27795552    1638\n",
       "13643864    3640\n",
       "1323232     1474\n",
       "1851488     2475\n",
       "1331368     1563\n",
       "12607688    1370\n",
       "13533240    1113\n",
       "12882008    1387\n",
       "13017288    1048\n",
       "1351776     4054\n",
       "1880160     4904\n",
       "1359960     1610\n",
       "27967584    2303\n",
       "26787936    2068\n",
       "577736     21377\n",
       "319688     20854\n",
       "13426688    1164\n",
       "14348488    2243\n",
       "12513480    1367\n",
       "13168744    1157\n",
       "1110256     3247\n",
       "1241328     8120\n",
       "1372400     3088\n",
       "28373088    2769\n",
       "1245424     1788\n",
       "327920      9267\n",
       "21299256    1102\n",
       "331776    133613\n",
       "987304      1246\n",
       "12918872    1839\n",
       "344120      1870\n",
       "1921024     3214\n",
       "872672      3020\n",
       "876648     31119\n",
       "880728      7806\n",
       "1405024     3298\n",
       "356520     15242\n",
       "13201464    4914\n",
       "21197040    2120\n",
       "26046560    1178\n",
       "12681272    2118\n",
       "21463208    1669\n",
       "888936      2291\n",
       "13733888    4391\n",
       "2732128     1256\n",
       "634976      1915\n",
       "12963944    2452\n",
       "2744416     1115\n",
       "647256      1961\n",
       "13099176    1135\n",
       "1433768     7736\n",
       "913608     19696\n",
       "913648      2241"
      ],
      "text/html": "<div>\n<style scoped>\n    .dataframe tbody tr th:only-of-type {\n        vertical-align: middle;\n    }\n\n    .dataframe tbody tr th {\n        vertical-align: top;\n    }\n\n    .dataframe thead th {\n        text-align: right;\n    }\n</style>\n<table border=\"1\" class=\"dataframe\">\n  <thead>\n    <tr style=\"text-align: right;\">\n      <th></th>\n      <th>dc</th>\n    </tr>\n    <tr>\n      <th>id</th>\n      <th></th>\n    </tr>\n  </thead>\n  <tbody>\n    <tr>\n      <th>12976232</th>\n      <td>6604</td>\n    </tr>\n    <tr>\n      <th>26607712</th>\n      <td>2569</td>\n    </tr>\n    <tr>\n      <th>13635824</th>\n      <td>1168</td>\n    </tr>\n    <tr>\n      <th>13373608</th>\n      <td>2688</td>\n    </tr>\n    <tr>\n      <th>921840</th>\n      <td>1466</td>\n    </tr>\n    <tr>\n      <th>27795552</th>\n      <td>1638</td>\n    </tr>\n    <tr>\n      <th>13643864</th>\n      <td>3640</td>\n    </tr>\n    <tr>\n      <th>1323232</th>\n      <td>1474</td>\n    </tr>\n    <tr>\n      <th>1851488</th>\n      <td>2475</td>\n    </tr>\n    <tr>\n      <th>1331368</th>\n      <td>1563</td>\n    </tr>\n    <tr>\n      <th>12607688</th>\n      <td>1370</td>\n    </tr>\n    <tr>\n      <th>13533240</th>\n      <td>1113</td>\n    </tr>\n    <tr>\n      <th>12882008</th>\n      <td>1387</td>\n    </tr>\n    <tr>\n      <th>13017288</th>\n      <td>1048</td>\n    </tr>\n    <tr>\n      <th>1351776</th>\n      <td>4054</td>\n    </tr>\n    <tr>\n      <th>1880160</th>\n      <td>4904</td>\n    </tr>\n    <tr>\n      <th>1359960</th>\n      <td>1610</td>\n    </tr>\n    <tr>\n      <th>27967584</th>\n      <td>2303</td>\n    </tr>\n    <tr>\n      <th>26787936</th>\n      <td>2068</td>\n    </tr>\n    <tr>\n      <th>577736</th>\n      <td>21377</td>\n    </tr>\n    <tr>\n      <th>319688</th>\n      <td>20854</td>\n    </tr>\n    <tr>\n      <th>13426688</th>\n      <td>1164</td>\n    </tr>\n    <tr>\n      <th>14348488</th>\n      <td>2243</td>\n    </tr>\n    <tr>\n      <th>12513480</th>\n      <td>1367</td>\n    </tr>\n    <tr>\n      <th>13168744</th>\n      <td>1157</td>\n    </tr>\n    <tr>\n      <th>1110256</th>\n      <td>3247</td>\n    </tr>\n    <tr>\n      <th>1241328</th>\n      <td>8120</td>\n    </tr>\n    <tr>\n      <th>1372400</th>\n      <td>3088</td>\n    </tr>\n    <tr>\n      <th>28373088</th>\n      <td>2769</td>\n    </tr>\n    <tr>\n      <th>1245424</th>\n      <td>1788</td>\n    </tr>\n    <tr>\n      <th>327920</th>\n      <td>9267</td>\n    </tr>\n    <tr>\n      <th>21299256</th>\n      <td>1102</td>\n    </tr>\n    <tr>\n      <th>331776</th>\n      <td>133613</td>\n    </tr>\n    <tr>\n      <th>987304</th>\n      <td>1246</td>\n    </tr>\n    <tr>\n      <th>12918872</th>\n      <td>1839</td>\n    </tr>\n    <tr>\n      <th>344120</th>\n      <td>1870</td>\n    </tr>\n    <tr>\n      <th>1921024</th>\n      <td>3214</td>\n    </tr>\n    <tr>\n      <th>872672</th>\n      <td>3020</td>\n    </tr>\n    <tr>\n      <th>876648</th>\n      <td>31119</td>\n    </tr>\n    <tr>\n      <th>880728</th>\n      <td>7806</td>\n    </tr>\n    <tr>\n      <th>1405024</th>\n      <td>3298</td>\n    </tr>\n    <tr>\n      <th>356520</th>\n      <td>15242</td>\n    </tr>\n    <tr>\n      <th>13201464</th>\n      <td>4914</td>\n    </tr>\n    <tr>\n      <th>21197040</th>\n      <td>2120</td>\n    </tr>\n    <tr>\n      <th>26046560</th>\n      <td>1178</td>\n    </tr>\n    <tr>\n      <th>12681272</th>\n      <td>2118</td>\n    </tr>\n    <tr>\n      <th>21463208</th>\n      <td>1669</td>\n    </tr>\n    <tr>\n      <th>888936</th>\n      <td>2291</td>\n    </tr>\n    <tr>\n      <th>13733888</th>\n      <td>4391</td>\n    </tr>\n    <tr>\n      <th>2732128</th>\n      <td>1256</td>\n    </tr>\n    <tr>\n      <th>634976</th>\n      <td>1915</td>\n    </tr>\n    <tr>\n      <th>12963944</th>\n      <td>2452</td>\n    </tr>\n    <tr>\n      <th>2744416</th>\n      <td>1115</td>\n    </tr>\n    <tr>\n      <th>647256</th>\n      <td>1961</td>\n    </tr>\n    <tr>\n      <th>13099176</th>\n      <td>1135</td>\n    </tr>\n    <tr>\n      <th>1433768</th>\n      <td>7736</td>\n    </tr>\n    <tr>\n      <th>913608</th>\n      <td>19696</td>\n    </tr>\n    <tr>\n      <th>913648</th>\n      <td>2241</td>\n    </tr>\n  </tbody>\n</table>\n</div>"
     },
     "metadata": {},
     "execution_count": 16
    }
   ],
   "source": [
    "# isolo i nodi con grado maggiore\n",
    "\n",
    "min_degree = 1024 # 2^10\n",
    "\n",
    "high_degree_centrality = dfdc[dfdc['dc'] >= min_degree]\n",
    "high_degree_centrality\n"
   ]
  },
  {
   "source": [
    "I nodi con grado maggiore a min_degree sono in numero estremamente ridotto"
   ],
   "cell_type": "markdown",
   "metadata": {}
  },
  {
   "cell_type": "code",
   "execution_count": 17,
   "metadata": {},
   "outputs": [
    {
     "output_type": "execute_result",
     "data": {
      "text/plain": [
       "0.11136498915151094"
      ]
     },
     "metadata": {},
     "execution_count": 17
    }
   ],
   "source": [
    "percentile = stats.percentileofscore(dfdc['dc'], min_degree)\n",
    "\n",
    "100-percentile"
   ]
  },
  {
   "source": [
    "Ipotizzando che i nodi di interesse siano quelli ad alto traffico, possiamo già ecludere più del 99% dei nodi.  \n",
    "I nodi più significativi sono difatti circa lo 0.11% del totale.  \n",
    "Questa prima analisi ci permette già di escludere la maggior parte dei nodi, focalizzandoci sui rimanenti."
   ],
   "cell_type": "markdown",
   "metadata": {}
  },
  {
   "cell_type": "code",
   "execution_count": 18,
   "metadata": {},
   "outputs": [
    {
     "output_type": "display_data",
     "data": {
      "text/plain": "<Figure size 720x444.984 with 1 Axes>",
      "image/svg+xml": "<?xml version=\"1.0\" encoding=\"utf-8\" standalone=\"no\"?>\n<!DOCTYPE svg PUBLIC \"-//W3C//DTD SVG 1.1//EN\"\n  \"http://www.w3.org/Graphics/SVG/1.1/DTD/svg11.dtd\">\n<svg height=\"412.146047pt\" version=\"1.1\" viewBox=\"0 0 708.060421 412.146047\" width=\"708.060421pt\" xmlns=\"http://www.w3.org/2000/svg\" xmlns:xlink=\"http://www.w3.org/1999/xlink\">\n <metadata>\n  <rdf:RDF xmlns:cc=\"http://creativecommons.org/ns#\" xmlns:dc=\"http://purl.org/dc/elements/1.1/\" xmlns:rdf=\"http://www.w3.org/1999/02/22-rdf-syntax-ns#\">\n   <cc:Work>\n    <dc:type rdf:resource=\"http://purl.org/dc/dcmitype/StillImage\"/>\n    <dc:date>2021-04-10T23:26:53.162165</dc:date>\n    <dc:format>image/svg+xml</dc:format>\n    <dc:creator>\n     <cc:Agent>\n      <dc:title>Matplotlib v3.4.1, https://matplotlib.org/</dc:title>\n     </cc:Agent>\n    </dc:creator>\n   </cc:Work>\n  </rdf:RDF>\n </metadata>\n <defs>\n  <style type=\"text/css\">*{stroke-linecap:butt;stroke-linejoin:round;}</style>\n </defs>\n <g id=\"figure_1\">\n  <g id=\"patch_1\">\n   <path d=\"M 0 412.146047 \nL 708.060421 412.146047 \nL 708.060421 0 \nL 0 0 \nz\n\" style=\"fill:#f0f0f0;\"/>\n  </g>\n  <g id=\"axes_1\">\n   <g id=\"patch_2\">\n    <path d=\"M 48.77425 367.637422 \nL 675.17425 367.637422 \nL 675.17425 7.2 \nL 48.77425 7.2 \nz\n\" style=\"fill:#f0f0f0;\"/>\n   </g>\n   <g id=\"matplotlib.axis_1\">\n    <g id=\"xtick_1\">\n     <g id=\"line2d_1\">\n      <path clip-path=\"url(#p907bc22880)\" d=\"M 72.745123 367.637422 \nL 72.745123 7.2 \n\" style=\"fill:none;stroke:#cbcbcb;\"/>\n     </g>\n     <g id=\"line2d_2\"/>\n     <g id=\"text_1\">\n      <!-- 0 -->\n      <g transform=\"translate(68.291373 381.775235)scale(0.14 -0.14)\">\n       <defs>\n        <path d=\"M 2034 4250 \nQ 1547 4250 1301 3770 \nQ 1056 3291 1056 2328 \nQ 1056 1369 1301 889 \nQ 1547 409 2034 409 \nQ 2525 409 2770 889 \nQ 3016 1369 3016 2328 \nQ 3016 3291 2770 3770 \nQ 2525 4250 2034 4250 \nz\nM 2034 4750 \nQ 2819 4750 3233 4129 \nQ 3647 3509 3647 2328 \nQ 3647 1150 3233 529 \nQ 2819 -91 2034 -91 \nQ 1250 -91 836 529 \nQ 422 1150 422 2328 \nQ 422 3509 836 4129 \nQ 1250 4750 2034 4750 \nz\n\" id=\"DejaVuSans-30\" transform=\"scale(0.015625)\"/>\n       </defs>\n       <use xlink:href=\"#DejaVuSans-30\"/>\n      </g>\n     </g>\n    </g>\n    <g id=\"xtick_2\">\n     <g id=\"line2d_3\">\n      <path clip-path=\"url(#p907bc22880)\" d=\"M 158.65838 367.637422 \nL 158.65838 7.2 \n\" style=\"fill:none;stroke:#cbcbcb;\"/>\n     </g>\n     <g id=\"line2d_4\"/>\n     <g id=\"text_2\">\n      <!-- 20000 -->\n      <g transform=\"translate(136.38963 381.775235)scale(0.14 -0.14)\">\n       <defs>\n        <path d=\"M 1228 531 \nL 3431 531 \nL 3431 0 \nL 469 0 \nL 469 531 \nQ 828 903 1448 1529 \nQ 2069 2156 2228 2338 \nQ 2531 2678 2651 2914 \nQ 2772 3150 2772 3378 \nQ 2772 3750 2511 3984 \nQ 2250 4219 1831 4219 \nQ 1534 4219 1204 4116 \nQ 875 4013 500 3803 \nL 500 4441 \nQ 881 4594 1212 4672 \nQ 1544 4750 1819 4750 \nQ 2544 4750 2975 4387 \nQ 3406 4025 3406 3419 \nQ 3406 3131 3298 2873 \nQ 3191 2616 2906 2266 \nQ 2828 2175 2409 1742 \nQ 1991 1309 1228 531 \nz\n\" id=\"DejaVuSans-32\" transform=\"scale(0.015625)\"/>\n       </defs>\n       <use xlink:href=\"#DejaVuSans-32\"/>\n       <use x=\"63.623047\" xlink:href=\"#DejaVuSans-30\"/>\n       <use x=\"127.246094\" xlink:href=\"#DejaVuSans-30\"/>\n       <use x=\"190.869141\" xlink:href=\"#DejaVuSans-30\"/>\n       <use x=\"254.492188\" xlink:href=\"#DejaVuSans-30\"/>\n      </g>\n     </g>\n    </g>\n    <g id=\"xtick_3\">\n     <g id=\"line2d_5\">\n      <path clip-path=\"url(#p907bc22880)\" d=\"M 244.571637 367.637422 \nL 244.571637 7.2 \n\" style=\"fill:none;stroke:#cbcbcb;\"/>\n     </g>\n     <g id=\"line2d_6\"/>\n     <g id=\"text_3\">\n      <!-- 40000 -->\n      <g transform=\"translate(222.302887 381.775235)scale(0.14 -0.14)\">\n       <defs>\n        <path d=\"M 2419 4116 \nL 825 1625 \nL 2419 1625 \nL 2419 4116 \nz\nM 2253 4666 \nL 3047 4666 \nL 3047 1625 \nL 3713 1625 \nL 3713 1100 \nL 3047 1100 \nL 3047 0 \nL 2419 0 \nL 2419 1100 \nL 313 1100 \nL 313 1709 \nL 2253 4666 \nz\n\" id=\"DejaVuSans-34\" transform=\"scale(0.015625)\"/>\n       </defs>\n       <use xlink:href=\"#DejaVuSans-34\"/>\n       <use x=\"63.623047\" xlink:href=\"#DejaVuSans-30\"/>\n       <use x=\"127.246094\" xlink:href=\"#DejaVuSans-30\"/>\n       <use x=\"190.869141\" xlink:href=\"#DejaVuSans-30\"/>\n       <use x=\"254.492188\" xlink:href=\"#DejaVuSans-30\"/>\n      </g>\n     </g>\n    </g>\n    <g id=\"xtick_4\">\n     <g id=\"line2d_7\">\n      <path clip-path=\"url(#p907bc22880)\" d=\"M 330.484893 367.637422 \nL 330.484893 7.2 \n\" style=\"fill:none;stroke:#cbcbcb;\"/>\n     </g>\n     <g id=\"line2d_8\"/>\n     <g id=\"text_4\">\n      <!-- 60000 -->\n      <g transform=\"translate(308.216143 381.775235)scale(0.14 -0.14)\">\n       <defs>\n        <path d=\"M 2113 2584 \nQ 1688 2584 1439 2293 \nQ 1191 2003 1191 1497 \nQ 1191 994 1439 701 \nQ 1688 409 2113 409 \nQ 2538 409 2786 701 \nQ 3034 994 3034 1497 \nQ 3034 2003 2786 2293 \nQ 2538 2584 2113 2584 \nz\nM 3366 4563 \nL 3366 3988 \nQ 3128 4100 2886 4159 \nQ 2644 4219 2406 4219 \nQ 1781 4219 1451 3797 \nQ 1122 3375 1075 2522 \nQ 1259 2794 1537 2939 \nQ 1816 3084 2150 3084 \nQ 2853 3084 3261 2657 \nQ 3669 2231 3669 1497 \nQ 3669 778 3244 343 \nQ 2819 -91 2113 -91 \nQ 1303 -91 875 529 \nQ 447 1150 447 2328 \nQ 447 3434 972 4092 \nQ 1497 4750 2381 4750 \nQ 2619 4750 2861 4703 \nQ 3103 4656 3366 4563 \nz\n\" id=\"DejaVuSans-36\" transform=\"scale(0.015625)\"/>\n       </defs>\n       <use xlink:href=\"#DejaVuSans-36\"/>\n       <use x=\"63.623047\" xlink:href=\"#DejaVuSans-30\"/>\n       <use x=\"127.246094\" xlink:href=\"#DejaVuSans-30\"/>\n       <use x=\"190.869141\" xlink:href=\"#DejaVuSans-30\"/>\n       <use x=\"254.492188\" xlink:href=\"#DejaVuSans-30\"/>\n      </g>\n     </g>\n    </g>\n    <g id=\"xtick_5\">\n     <g id=\"line2d_9\">\n      <path clip-path=\"url(#p907bc22880)\" d=\"M 416.39815 367.637422 \nL 416.39815 7.2 \n\" style=\"fill:none;stroke:#cbcbcb;\"/>\n     </g>\n     <g id=\"line2d_10\"/>\n     <g id=\"text_5\">\n      <!-- 80000 -->\n      <g transform=\"translate(394.1294 381.775235)scale(0.14 -0.14)\">\n       <defs>\n        <path d=\"M 2034 2216 \nQ 1584 2216 1326 1975 \nQ 1069 1734 1069 1313 \nQ 1069 891 1326 650 \nQ 1584 409 2034 409 \nQ 2484 409 2743 651 \nQ 3003 894 3003 1313 \nQ 3003 1734 2745 1975 \nQ 2488 2216 2034 2216 \nz\nM 1403 2484 \nQ 997 2584 770 2862 \nQ 544 3141 544 3541 \nQ 544 4100 942 4425 \nQ 1341 4750 2034 4750 \nQ 2731 4750 3128 4425 \nQ 3525 4100 3525 3541 \nQ 3525 3141 3298 2862 \nQ 3072 2584 2669 2484 \nQ 3125 2378 3379 2068 \nQ 3634 1759 3634 1313 \nQ 3634 634 3220 271 \nQ 2806 -91 2034 -91 \nQ 1263 -91 848 271 \nQ 434 634 434 1313 \nQ 434 1759 690 2068 \nQ 947 2378 1403 2484 \nz\nM 1172 3481 \nQ 1172 3119 1398 2916 \nQ 1625 2713 2034 2713 \nQ 2441 2713 2670 2916 \nQ 2900 3119 2900 3481 \nQ 2900 3844 2670 4047 \nQ 2441 4250 2034 4250 \nQ 1625 4250 1398 4047 \nQ 1172 3844 1172 3481 \nz\n\" id=\"DejaVuSans-38\" transform=\"scale(0.015625)\"/>\n       </defs>\n       <use xlink:href=\"#DejaVuSans-38\"/>\n       <use x=\"63.623047\" xlink:href=\"#DejaVuSans-30\"/>\n       <use x=\"127.246094\" xlink:href=\"#DejaVuSans-30\"/>\n       <use x=\"190.869141\" xlink:href=\"#DejaVuSans-30\"/>\n       <use x=\"254.492188\" xlink:href=\"#DejaVuSans-30\"/>\n      </g>\n     </g>\n    </g>\n    <g id=\"xtick_6\">\n     <g id=\"line2d_11\">\n      <path clip-path=\"url(#p907bc22880)\" d=\"M 502.311407 367.637422 \nL 502.311407 7.2 \n\" style=\"fill:none;stroke:#cbcbcb;\"/>\n     </g>\n     <g id=\"line2d_12\"/>\n     <g id=\"text_6\">\n      <!-- 100000 -->\n      <g transform=\"translate(475.588907 381.775235)scale(0.14 -0.14)\">\n       <defs>\n        <path d=\"M 794 531 \nL 1825 531 \nL 1825 4091 \nL 703 3866 \nL 703 4441 \nL 1819 4666 \nL 2450 4666 \nL 2450 531 \nL 3481 531 \nL 3481 0 \nL 794 0 \nL 794 531 \nz\n\" id=\"DejaVuSans-31\" transform=\"scale(0.015625)\"/>\n       </defs>\n       <use xlink:href=\"#DejaVuSans-31\"/>\n       <use x=\"63.623047\" xlink:href=\"#DejaVuSans-30\"/>\n       <use x=\"127.246094\" xlink:href=\"#DejaVuSans-30\"/>\n       <use x=\"190.869141\" xlink:href=\"#DejaVuSans-30\"/>\n       <use x=\"254.492188\" xlink:href=\"#DejaVuSans-30\"/>\n       <use x=\"318.115234\" xlink:href=\"#DejaVuSans-30\"/>\n      </g>\n     </g>\n    </g>\n    <g id=\"xtick_7\">\n     <g id=\"line2d_13\">\n      <path clip-path=\"url(#p907bc22880)\" d=\"M 588.224664 367.637422 \nL 588.224664 7.2 \n\" style=\"fill:none;stroke:#cbcbcb;\"/>\n     </g>\n     <g id=\"line2d_14\"/>\n     <g id=\"text_7\">\n      <!-- 120000 -->\n      <g transform=\"translate(561.502164 381.775235)scale(0.14 -0.14)\">\n       <use xlink:href=\"#DejaVuSans-31\"/>\n       <use x=\"63.623047\" xlink:href=\"#DejaVuSans-32\"/>\n       <use x=\"127.246094\" xlink:href=\"#DejaVuSans-30\"/>\n       <use x=\"190.869141\" xlink:href=\"#DejaVuSans-30\"/>\n       <use x=\"254.492188\" xlink:href=\"#DejaVuSans-30\"/>\n       <use x=\"318.115234\" xlink:href=\"#DejaVuSans-30\"/>\n      </g>\n     </g>\n    </g>\n    <g id=\"xtick_8\">\n     <g id=\"line2d_15\">\n      <path clip-path=\"url(#p907bc22880)\" d=\"M 674.137921 367.637422 \nL 674.137921 7.2 \n\" style=\"fill:none;stroke:#cbcbcb;\"/>\n     </g>\n     <g id=\"line2d_16\"/>\n     <g id=\"text_8\">\n      <!-- 140000 -->\n      <g transform=\"translate(647.415421 381.775235)scale(0.14 -0.14)\">\n       <use xlink:href=\"#DejaVuSans-31\"/>\n       <use x=\"63.623047\" xlink:href=\"#DejaVuSans-34\"/>\n       <use x=\"127.246094\" xlink:href=\"#DejaVuSans-30\"/>\n       <use x=\"190.869141\" xlink:href=\"#DejaVuSans-30\"/>\n       <use x=\"254.492188\" xlink:href=\"#DejaVuSans-30\"/>\n       <use x=\"318.115234\" xlink:href=\"#DejaVuSans-30\"/>\n      </g>\n     </g>\n    </g>\n    <g id=\"text_9\">\n     <!-- Degree Centrality -->\n     <g transform=\"translate(287.55025 401.452172)scale(0.168 -0.168)\">\n      <defs>\n       <path d=\"M 1259 4147 \nL 1259 519 \nL 2022 519 \nQ 2988 519 3436 956 \nQ 3884 1394 3884 2338 \nQ 3884 3275 3436 3711 \nQ 2988 4147 2022 4147 \nL 1259 4147 \nz\nM 628 4666 \nL 1925 4666 \nQ 3281 4666 3915 4102 \nQ 4550 3538 4550 2338 \nQ 4550 1131 3912 565 \nQ 3275 0 1925 0 \nL 628 0 \nL 628 4666 \nz\n\" id=\"DejaVuSans-44\" transform=\"scale(0.015625)\"/>\n       <path d=\"M 3597 1894 \nL 3597 1613 \nL 953 1613 \nQ 991 1019 1311 708 \nQ 1631 397 2203 397 \nQ 2534 397 2845 478 \nQ 3156 559 3463 722 \nL 3463 178 \nQ 3153 47 2828 -22 \nQ 2503 -91 2169 -91 \nQ 1331 -91 842 396 \nQ 353 884 353 1716 \nQ 353 2575 817 3079 \nQ 1281 3584 2069 3584 \nQ 2775 3584 3186 3129 \nQ 3597 2675 3597 1894 \nz\nM 3022 2063 \nQ 3016 2534 2758 2815 \nQ 2500 3097 2075 3097 \nQ 1594 3097 1305 2825 \nQ 1016 2553 972 2059 \nL 3022 2063 \nz\n\" id=\"DejaVuSans-65\" transform=\"scale(0.015625)\"/>\n       <path d=\"M 2906 1791 \nQ 2906 2416 2648 2759 \nQ 2391 3103 1925 3103 \nQ 1463 3103 1205 2759 \nQ 947 2416 947 1791 \nQ 947 1169 1205 825 \nQ 1463 481 1925 481 \nQ 2391 481 2648 825 \nQ 2906 1169 2906 1791 \nz\nM 3481 434 \nQ 3481 -459 3084 -895 \nQ 2688 -1331 1869 -1331 \nQ 1566 -1331 1297 -1286 \nQ 1028 -1241 775 -1147 \nL 775 -588 \nQ 1028 -725 1275 -790 \nQ 1522 -856 1778 -856 \nQ 2344 -856 2625 -561 \nQ 2906 -266 2906 331 \nL 2906 616 \nQ 2728 306 2450 153 \nQ 2172 0 1784 0 \nQ 1141 0 747 490 \nQ 353 981 353 1791 \nQ 353 2603 747 3093 \nQ 1141 3584 1784 3584 \nQ 2172 3584 2450 3431 \nQ 2728 3278 2906 2969 \nL 2906 3500 \nL 3481 3500 \nL 3481 434 \nz\n\" id=\"DejaVuSans-67\" transform=\"scale(0.015625)\"/>\n       <path d=\"M 2631 2963 \nQ 2534 3019 2420 3045 \nQ 2306 3072 2169 3072 \nQ 1681 3072 1420 2755 \nQ 1159 2438 1159 1844 \nL 1159 0 \nL 581 0 \nL 581 3500 \nL 1159 3500 \nL 1159 2956 \nQ 1341 3275 1631 3429 \nQ 1922 3584 2338 3584 \nQ 2397 3584 2469 3576 \nQ 2541 3569 2628 3553 \nL 2631 2963 \nz\n\" id=\"DejaVuSans-72\" transform=\"scale(0.015625)\"/>\n       <path id=\"DejaVuSans-20\" transform=\"scale(0.015625)\"/>\n       <path d=\"M 4122 4306 \nL 4122 3641 \nQ 3803 3938 3442 4084 \nQ 3081 4231 2675 4231 \nQ 1875 4231 1450 3742 \nQ 1025 3253 1025 2328 \nQ 1025 1406 1450 917 \nQ 1875 428 2675 428 \nQ 3081 428 3442 575 \nQ 3803 722 4122 1019 \nL 4122 359 \nQ 3791 134 3420 21 \nQ 3050 -91 2638 -91 \nQ 1578 -91 968 557 \nQ 359 1206 359 2328 \nQ 359 3453 968 4101 \nQ 1578 4750 2638 4750 \nQ 3056 4750 3426 4639 \nQ 3797 4528 4122 4306 \nz\n\" id=\"DejaVuSans-43\" transform=\"scale(0.015625)\"/>\n       <path d=\"M 3513 2113 \nL 3513 0 \nL 2938 0 \nL 2938 2094 \nQ 2938 2591 2744 2837 \nQ 2550 3084 2163 3084 \nQ 1697 3084 1428 2787 \nQ 1159 2491 1159 1978 \nL 1159 0 \nL 581 0 \nL 581 3500 \nL 1159 3500 \nL 1159 2956 \nQ 1366 3272 1645 3428 \nQ 1925 3584 2291 3584 \nQ 2894 3584 3203 3211 \nQ 3513 2838 3513 2113 \nz\n\" id=\"DejaVuSans-6e\" transform=\"scale(0.015625)\"/>\n       <path d=\"M 1172 4494 \nL 1172 3500 \nL 2356 3500 \nL 2356 3053 \nL 1172 3053 \nL 1172 1153 \nQ 1172 725 1289 603 \nQ 1406 481 1766 481 \nL 2356 481 \nL 2356 0 \nL 1766 0 \nQ 1100 0 847 248 \nQ 594 497 594 1153 \nL 594 3053 \nL 172 3053 \nL 172 3500 \nL 594 3500 \nL 594 4494 \nL 1172 4494 \nz\n\" id=\"DejaVuSans-74\" transform=\"scale(0.015625)\"/>\n       <path d=\"M 2194 1759 \nQ 1497 1759 1228 1600 \nQ 959 1441 959 1056 \nQ 959 750 1161 570 \nQ 1363 391 1709 391 \nQ 2188 391 2477 730 \nQ 2766 1069 2766 1631 \nL 2766 1759 \nL 2194 1759 \nz\nM 3341 1997 \nL 3341 0 \nL 2766 0 \nL 2766 531 \nQ 2569 213 2275 61 \nQ 1981 -91 1556 -91 \nQ 1019 -91 701 211 \nQ 384 513 384 1019 \nQ 384 1609 779 1909 \nQ 1175 2209 1959 2209 \nL 2766 2209 \nL 2766 2266 \nQ 2766 2663 2505 2880 \nQ 2244 3097 1772 3097 \nQ 1472 3097 1187 3025 \nQ 903 2953 641 2809 \nL 641 3341 \nQ 956 3463 1253 3523 \nQ 1550 3584 1831 3584 \nQ 2591 3584 2966 3190 \nQ 3341 2797 3341 1997 \nz\n\" id=\"DejaVuSans-61\" transform=\"scale(0.015625)\"/>\n       <path d=\"M 603 4863 \nL 1178 4863 \nL 1178 0 \nL 603 0 \nL 603 4863 \nz\n\" id=\"DejaVuSans-6c\" transform=\"scale(0.015625)\"/>\n       <path d=\"M 603 3500 \nL 1178 3500 \nL 1178 0 \nL 603 0 \nL 603 3500 \nz\nM 603 4863 \nL 1178 4863 \nL 1178 4134 \nL 603 4134 \nL 603 4863 \nz\n\" id=\"DejaVuSans-69\" transform=\"scale(0.015625)\"/>\n       <path d=\"M 2059 -325 \nQ 1816 -950 1584 -1140 \nQ 1353 -1331 966 -1331 \nL 506 -1331 \nL 506 -850 \nL 844 -850 \nQ 1081 -850 1212 -737 \nQ 1344 -625 1503 -206 \nL 1606 56 \nL 191 3500 \nL 800 3500 \nL 1894 763 \nL 2988 3500 \nL 3597 3500 \nL 2059 -325 \nz\n\" id=\"DejaVuSans-79\" transform=\"scale(0.015625)\"/>\n      </defs>\n      <use xlink:href=\"#DejaVuSans-44\"/>\n      <use x=\"77.001953\" xlink:href=\"#DejaVuSans-65\"/>\n      <use x=\"138.525391\" xlink:href=\"#DejaVuSans-67\"/>\n      <use x=\"202.001953\" xlink:href=\"#DejaVuSans-72\"/>\n      <use x=\"240.865234\" xlink:href=\"#DejaVuSans-65\"/>\n      <use x=\"302.388672\" xlink:href=\"#DejaVuSans-65\"/>\n      <use x=\"363.912109\" xlink:href=\"#DejaVuSans-20\"/>\n      <use x=\"395.699219\" xlink:href=\"#DejaVuSans-43\"/>\n      <use x=\"465.523438\" xlink:href=\"#DejaVuSans-65\"/>\n      <use x=\"527.046875\" xlink:href=\"#DejaVuSans-6e\"/>\n      <use x=\"590.425781\" xlink:href=\"#DejaVuSans-74\"/>\n      <use x=\"629.634766\" xlink:href=\"#DejaVuSans-72\"/>\n      <use x=\"670.748047\" xlink:href=\"#DejaVuSans-61\"/>\n      <use x=\"732.027344\" xlink:href=\"#DejaVuSans-6c\"/>\n      <use x=\"759.810547\" xlink:href=\"#DejaVuSans-69\"/>\n      <use x=\"787.59375\" xlink:href=\"#DejaVuSans-74\"/>\n      <use x=\"826.802734\" xlink:href=\"#DejaVuSans-79\"/>\n     </g>\n    </g>\n   </g>\n   <g id=\"matplotlib.axis_2\">\n    <g id=\"ytick_1\">\n     <g id=\"line2d_17\">\n      <path clip-path=\"url(#p907bc22880)\" d=\"M 48.77425 367.637422 \nL 675.17425 367.637422 \n\" style=\"fill:none;stroke:#cbcbcb;\"/>\n     </g>\n     <g id=\"line2d_18\"/>\n     <g id=\"text_10\">\n      <!-- 0 -->\n      <g transform=\"translate(36.36675 372.956328)scale(0.14 -0.14)\">\n       <use xlink:href=\"#DejaVuSans-30\"/>\n      </g>\n     </g>\n    </g>\n    <g id=\"ytick_2\">\n     <g id=\"line2d_19\">\n      <path clip-path=\"url(#p907bc22880)\" d=\"M 48.77425 289.620664 \nL 675.17425 289.620664 \n\" style=\"fill:none;stroke:#cbcbcb;\"/>\n     </g>\n     <g id=\"line2d_20\"/>\n     <g id=\"text_11\">\n      <!-- 10 -->\n      <g transform=\"translate(27.45925 294.93957)scale(0.14 -0.14)\">\n       <use xlink:href=\"#DejaVuSans-31\"/>\n       <use x=\"63.623047\" xlink:href=\"#DejaVuSans-30\"/>\n      </g>\n     </g>\n    </g>\n    <g id=\"ytick_3\">\n     <g id=\"line2d_21\">\n      <path clip-path=\"url(#p907bc22880)\" d=\"M 48.77425 211.603906 \nL 675.17425 211.603906 \n\" style=\"fill:none;stroke:#cbcbcb;\"/>\n     </g>\n     <g id=\"line2d_22\"/>\n     <g id=\"text_12\">\n      <!-- 20 -->\n      <g transform=\"translate(27.45925 216.922812)scale(0.14 -0.14)\">\n       <use xlink:href=\"#DejaVuSans-32\"/>\n       <use x=\"63.623047\" xlink:href=\"#DejaVuSans-30\"/>\n      </g>\n     </g>\n    </g>\n    <g id=\"ytick_4\">\n     <g id=\"line2d_23\">\n      <path clip-path=\"url(#p907bc22880)\" d=\"M 48.77425 133.587148 \nL 675.17425 133.587148 \n\" style=\"fill:none;stroke:#cbcbcb;\"/>\n     </g>\n     <g id=\"line2d_24\"/>\n     <g id=\"text_13\">\n      <!-- 30 -->\n      <g transform=\"translate(27.45925 138.906054)scale(0.14 -0.14)\">\n       <defs>\n        <path d=\"M 2597 2516 \nQ 3050 2419 3304 2112 \nQ 3559 1806 3559 1356 \nQ 3559 666 3084 287 \nQ 2609 -91 1734 -91 \nQ 1441 -91 1130 -33 \nQ 819 25 488 141 \nL 488 750 \nQ 750 597 1062 519 \nQ 1375 441 1716 441 \nQ 2309 441 2620 675 \nQ 2931 909 2931 1356 \nQ 2931 1769 2642 2001 \nQ 2353 2234 1838 2234 \nL 1294 2234 \nL 1294 2753 \nL 1863 2753 \nQ 2328 2753 2575 2939 \nQ 2822 3125 2822 3475 \nQ 2822 3834 2567 4026 \nQ 2313 4219 1838 4219 \nQ 1578 4219 1281 4162 \nQ 984 4106 628 3988 \nL 628 4550 \nQ 988 4650 1302 4700 \nQ 1616 4750 1894 4750 \nQ 2613 4750 3031 4423 \nQ 3450 4097 3450 3541 \nQ 3450 3153 3228 2886 \nQ 3006 2619 2597 2516 \nz\n\" id=\"DejaVuSans-33\" transform=\"scale(0.015625)\"/>\n       </defs>\n       <use xlink:href=\"#DejaVuSans-33\"/>\n       <use x=\"63.623047\" xlink:href=\"#DejaVuSans-30\"/>\n      </g>\n     </g>\n    </g>\n    <g id=\"ytick_5\">\n     <g id=\"line2d_25\">\n      <path clip-path=\"url(#p907bc22880)\" d=\"M 48.77425 55.57039 \nL 675.17425 55.57039 \n\" style=\"fill:none;stroke:#cbcbcb;\"/>\n     </g>\n     <g id=\"line2d_26\"/>\n     <g id=\"text_14\">\n      <!-- 40 -->\n      <g transform=\"translate(27.45925 60.889296)scale(0.14 -0.14)\">\n       <use xlink:href=\"#DejaVuSans-34\"/>\n       <use x=\"63.623047\" xlink:href=\"#DejaVuSans-30\"/>\n      </g>\n     </g>\n    </g>\n    <g id=\"text_15\">\n     <!-- Frequency -->\n     <g transform=\"translate(19.965375 230.812586)rotate(-90)scale(0.168 -0.168)\">\n      <defs>\n       <path d=\"M 628 4666 \nL 3309 4666 \nL 3309 4134 \nL 1259 4134 \nL 1259 2759 \nL 3109 2759 \nL 3109 2228 \nL 1259 2228 \nL 1259 0 \nL 628 0 \nL 628 4666 \nz\n\" id=\"DejaVuSans-46\" transform=\"scale(0.015625)\"/>\n       <path d=\"M 947 1747 \nQ 947 1113 1208 752 \nQ 1469 391 1925 391 \nQ 2381 391 2643 752 \nQ 2906 1113 2906 1747 \nQ 2906 2381 2643 2742 \nQ 2381 3103 1925 3103 \nQ 1469 3103 1208 2742 \nQ 947 2381 947 1747 \nz\nM 2906 525 \nQ 2725 213 2448 61 \nQ 2172 -91 1784 -91 \nQ 1150 -91 751 415 \nQ 353 922 353 1747 \nQ 353 2572 751 3078 \nQ 1150 3584 1784 3584 \nQ 2172 3584 2448 3432 \nQ 2725 3281 2906 2969 \nL 2906 3500 \nL 3481 3500 \nL 3481 -1331 \nL 2906 -1331 \nL 2906 525 \nz\n\" id=\"DejaVuSans-71\" transform=\"scale(0.015625)\"/>\n       <path d=\"M 544 1381 \nL 544 3500 \nL 1119 3500 \nL 1119 1403 \nQ 1119 906 1312 657 \nQ 1506 409 1894 409 \nQ 2359 409 2629 706 \nQ 2900 1003 2900 1516 \nL 2900 3500 \nL 3475 3500 \nL 3475 0 \nL 2900 0 \nL 2900 538 \nQ 2691 219 2414 64 \nQ 2138 -91 1772 -91 \nQ 1169 -91 856 284 \nQ 544 659 544 1381 \nz\nM 1991 3584 \nL 1991 3584 \nz\n\" id=\"DejaVuSans-75\" transform=\"scale(0.015625)\"/>\n       <path d=\"M 3122 3366 \nL 3122 2828 \nQ 2878 2963 2633 3030 \nQ 2388 3097 2138 3097 \nQ 1578 3097 1268 2742 \nQ 959 2388 959 1747 \nQ 959 1106 1268 751 \nQ 1578 397 2138 397 \nQ 2388 397 2633 464 \nQ 2878 531 3122 666 \nL 3122 134 \nQ 2881 22 2623 -34 \nQ 2366 -91 2075 -91 \nQ 1284 -91 818 406 \nQ 353 903 353 1747 \nQ 353 2603 823 3093 \nQ 1294 3584 2113 3584 \nQ 2378 3584 2631 3529 \nQ 2884 3475 3122 3366 \nz\n\" id=\"DejaVuSans-63\" transform=\"scale(0.015625)\"/>\n      </defs>\n      <use xlink:href=\"#DejaVuSans-46\"/>\n      <use x=\"50.269531\" xlink:href=\"#DejaVuSans-72\"/>\n      <use x=\"89.132812\" xlink:href=\"#DejaVuSans-65\"/>\n      <use x=\"150.65625\" xlink:href=\"#DejaVuSans-71\"/>\n      <use x=\"214.132812\" xlink:href=\"#DejaVuSans-75\"/>\n      <use x=\"277.511719\" xlink:href=\"#DejaVuSans-65\"/>\n      <use x=\"339.035156\" xlink:href=\"#DejaVuSans-6e\"/>\n      <use x=\"402.414062\" xlink:href=\"#DejaVuSans-63\"/>\n      <use x=\"457.394531\" xlink:href=\"#DejaVuSans-79\"/>\n     </g>\n    </g>\n   </g>\n   <g id=\"patch_3\">\n    <path clip-path=\"url(#p907bc22880)\" d=\"M 77.246977 367.637422 \nL 90.189126 367.637422 \nL 90.189126 24.363687 \nL 77.246977 24.363687 \nz\n\" style=\"fill:#008fd5;\"/>\n   </g>\n   <g id=\"patch_4\">\n    <path clip-path=\"url(#p907bc22880)\" d=\"M 90.189126 367.637422 \nL 103.131275 367.637422 \nL 103.131275 336.430719 \nL 90.189126 336.430719 \nz\n\" style=\"fill:#008fd5;\"/>\n   </g>\n   <g id=\"patch_5\">\n    <path clip-path=\"url(#p907bc22880)\" d=\"M 103.131275 367.637422 \nL 116.073424 367.637422 \nL 116.073424 336.430719 \nL 103.131275 336.430719 \nz\n\" style=\"fill:#008fd5;\"/>\n   </g>\n   <g id=\"patch_6\">\n    <path clip-path=\"url(#p907bc22880)\" d=\"M 116.073424 367.637422 \nL 129.015572 367.637422 \nL 129.015572 367.637422 \nL 116.073424 367.637422 \nz\n\" style=\"fill:#008fd5;\"/>\n   </g>\n   <g id=\"patch_7\">\n    <path clip-path=\"url(#p907bc22880)\" d=\"M 129.015572 367.637422 \nL 141.957721 367.637422 \nL 141.957721 359.835746 \nL 129.015572 359.835746 \nz\n\" style=\"fill:#008fd5;\"/>\n   </g>\n   <g id=\"patch_8\">\n    <path clip-path=\"url(#p907bc22880)\" d=\"M 141.957721 367.637422 \nL 154.89987 367.637422 \nL 154.89987 367.637422 \nL 141.957721 367.637422 \nz\n\" style=\"fill:#008fd5;\"/>\n   </g>\n   <g id=\"patch_9\">\n    <path clip-path=\"url(#p907bc22880)\" d=\"M 154.89987 367.637422 \nL 167.842019 367.637422 \nL 167.842019 344.232395 \nL 154.89987 344.232395 \nz\n\" style=\"fill:#008fd5;\"/>\n   </g>\n   <g id=\"patch_10\">\n    <path clip-path=\"url(#p907bc22880)\" d=\"M 167.842019 367.637422 \nL 180.784167 367.637422 \nL 180.784167 367.637422 \nL 167.842019 367.637422 \nz\n\" style=\"fill:#008fd5;\"/>\n   </g>\n   <g id=\"patch_11\">\n    <path clip-path=\"url(#p907bc22880)\" d=\"M 180.784167 367.637422 \nL 193.726316 367.637422 \nL 193.726316 367.637422 \nL 180.784167 367.637422 \nz\n\" style=\"fill:#008fd5;\"/>\n   </g>\n   <g id=\"patch_12\">\n    <path clip-path=\"url(#p907bc22880)\" d=\"M 193.726316 367.637422 \nL 206.668465 367.637422 \nL 206.668465 359.835746 \nL 193.726316 359.835746 \nz\n\" style=\"fill:#008fd5;\"/>\n   </g>\n   <g id=\"patch_13\">\n    <path clip-path=\"url(#p907bc22880)\" d=\"M 206.668465 367.637422 \nL 219.610614 367.637422 \nL 219.610614 367.637422 \nL 206.668465 367.637422 \nz\n\" style=\"fill:#008fd5;\"/>\n   </g>\n   <g id=\"patch_14\">\n    <path clip-path=\"url(#p907bc22880)\" d=\"M 219.610614 367.637422 \nL 232.552762 367.637422 \nL 232.552762 367.637422 \nL 219.610614 367.637422 \nz\n\" style=\"fill:#008fd5;\"/>\n   </g>\n   <g id=\"patch_15\">\n    <path clip-path=\"url(#p907bc22880)\" d=\"M 232.552762 367.637422 \nL 245.494911 367.637422 \nL 245.494911 367.637422 \nL 232.552762 367.637422 \nz\n\" style=\"fill:#008fd5;\"/>\n   </g>\n   <g id=\"patch_16\">\n    <path clip-path=\"url(#p907bc22880)\" d=\"M 245.494911 367.637422 \nL 258.43706 367.637422 \nL 258.43706 367.637422 \nL 245.494911 367.637422 \nz\n\" style=\"fill:#008fd5;\"/>\n   </g>\n   <g id=\"patch_17\">\n    <path clip-path=\"url(#p907bc22880)\" d=\"M 258.43706 367.637422 \nL 271.379209 367.637422 \nL 271.379209 367.637422 \nL 258.43706 367.637422 \nz\n\" style=\"fill:#008fd5;\"/>\n   </g>\n   <g id=\"patch_18\">\n    <path clip-path=\"url(#p907bc22880)\" d=\"M 271.379209 367.637422 \nL 284.321357 367.637422 \nL 284.321357 367.637422 \nL 271.379209 367.637422 \nz\n\" style=\"fill:#008fd5;\"/>\n   </g>\n   <g id=\"patch_19\">\n    <path clip-path=\"url(#p907bc22880)\" d=\"M 284.321357 367.637422 \nL 297.263506 367.637422 \nL 297.263506 367.637422 \nL 284.321357 367.637422 \nz\n\" style=\"fill:#008fd5;\"/>\n   </g>\n   <g id=\"patch_20\">\n    <path clip-path=\"url(#p907bc22880)\" d=\"M 297.263506 367.637422 \nL 310.205655 367.637422 \nL 310.205655 367.637422 \nL 297.263506 367.637422 \nz\n\" style=\"fill:#008fd5;\"/>\n   </g>\n   <g id=\"patch_21\">\n    <path clip-path=\"url(#p907bc22880)\" d=\"M 310.205655 367.637422 \nL 323.147804 367.637422 \nL 323.147804 367.637422 \nL 310.205655 367.637422 \nz\n\" style=\"fill:#008fd5;\"/>\n   </g>\n   <g id=\"patch_22\">\n    <path clip-path=\"url(#p907bc22880)\" d=\"M 323.147804 367.637422 \nL 336.089952 367.637422 \nL 336.089952 367.637422 \nL 323.147804 367.637422 \nz\n\" style=\"fill:#008fd5;\"/>\n   </g>\n   <g id=\"patch_23\">\n    <path clip-path=\"url(#p907bc22880)\" d=\"M 336.089952 367.637422 \nL 349.032101 367.637422 \nL 349.032101 367.637422 \nL 336.089952 367.637422 \nz\n\" style=\"fill:#008fd5;\"/>\n   </g>\n   <g id=\"patch_24\">\n    <path clip-path=\"url(#p907bc22880)\" d=\"M 349.032101 367.637422 \nL 361.97425 367.637422 \nL 361.97425 367.637422 \nL 349.032101 367.637422 \nz\n\" style=\"fill:#008fd5;\"/>\n   </g>\n   <g id=\"patch_25\">\n    <path clip-path=\"url(#p907bc22880)\" d=\"M 361.97425 367.637422 \nL 374.916399 367.637422 \nL 374.916399 367.637422 \nL 361.97425 367.637422 \nz\n\" style=\"fill:#008fd5;\"/>\n   </g>\n   <g id=\"patch_26\">\n    <path clip-path=\"url(#p907bc22880)\" d=\"M 374.916399 367.637422 \nL 387.858548 367.637422 \nL 387.858548 367.637422 \nL 374.916399 367.637422 \nz\n\" style=\"fill:#008fd5;\"/>\n   </g>\n   <g id=\"patch_27\">\n    <path clip-path=\"url(#p907bc22880)\" d=\"M 387.858548 367.637422 \nL 400.800696 367.637422 \nL 400.800696 367.637422 \nL 387.858548 367.637422 \nz\n\" style=\"fill:#008fd5;\"/>\n   </g>\n   <g id=\"patch_28\">\n    <path clip-path=\"url(#p907bc22880)\" d=\"M 400.800696 367.637422 \nL 413.742845 367.637422 \nL 413.742845 367.637422 \nL 400.800696 367.637422 \nz\n\" style=\"fill:#008fd5;\"/>\n   </g>\n   <g id=\"patch_29\">\n    <path clip-path=\"url(#p907bc22880)\" d=\"M 413.742845 367.637422 \nL 426.684994 367.637422 \nL 426.684994 367.637422 \nL 413.742845 367.637422 \nz\n\" style=\"fill:#008fd5;\"/>\n   </g>\n   <g id=\"patch_30\">\n    <path clip-path=\"url(#p907bc22880)\" d=\"M 426.684994 367.637422 \nL 439.627143 367.637422 \nL 439.627143 367.637422 \nL 426.684994 367.637422 \nz\n\" style=\"fill:#008fd5;\"/>\n   </g>\n   <g id=\"patch_31\">\n    <path clip-path=\"url(#p907bc22880)\" d=\"M 439.627143 367.637422 \nL 452.569291 367.637422 \nL 452.569291 367.637422 \nL 439.627143 367.637422 \nz\n\" style=\"fill:#008fd5;\"/>\n   </g>\n   <g id=\"patch_32\">\n    <path clip-path=\"url(#p907bc22880)\" d=\"M 452.569291 367.637422 \nL 465.51144 367.637422 \nL 465.51144 367.637422 \nL 452.569291 367.637422 \nz\n\" style=\"fill:#008fd5;\"/>\n   </g>\n   <g id=\"patch_33\">\n    <path clip-path=\"url(#p907bc22880)\" d=\"M 465.51144 367.637422 \nL 478.453589 367.637422 \nL 478.453589 367.637422 \nL 465.51144 367.637422 \nz\n\" style=\"fill:#008fd5;\"/>\n   </g>\n   <g id=\"patch_34\">\n    <path clip-path=\"url(#p907bc22880)\" d=\"M 478.453589 367.637422 \nL 491.395738 367.637422 \nL 491.395738 367.637422 \nL 478.453589 367.637422 \nz\n\" style=\"fill:#008fd5;\"/>\n   </g>\n   <g id=\"patch_35\">\n    <path clip-path=\"url(#p907bc22880)\" d=\"M 491.395738 367.637422 \nL 504.337886 367.637422 \nL 504.337886 367.637422 \nL 491.395738 367.637422 \nz\n\" style=\"fill:#008fd5;\"/>\n   </g>\n   <g id=\"patch_36\">\n    <path clip-path=\"url(#p907bc22880)\" d=\"M 504.337886 367.637422 \nL 517.280035 367.637422 \nL 517.280035 367.637422 \nL 504.337886 367.637422 \nz\n\" style=\"fill:#008fd5;\"/>\n   </g>\n   <g id=\"patch_37\">\n    <path clip-path=\"url(#p907bc22880)\" d=\"M 517.280035 367.637422 \nL 530.222184 367.637422 \nL 530.222184 367.637422 \nL 517.280035 367.637422 \nz\n\" style=\"fill:#008fd5;\"/>\n   </g>\n   <g id=\"patch_38\">\n    <path clip-path=\"url(#p907bc22880)\" d=\"M 530.222184 367.637422 \nL 543.164333 367.637422 \nL 543.164333 367.637422 \nL 530.222184 367.637422 \nz\n\" style=\"fill:#008fd5;\"/>\n   </g>\n   <g id=\"patch_39\">\n    <path clip-path=\"url(#p907bc22880)\" d=\"M 543.164333 367.637422 \nL 556.106481 367.637422 \nL 556.106481 367.637422 \nL 543.164333 367.637422 \nz\n\" style=\"fill:#008fd5;\"/>\n   </g>\n   <g id=\"patch_40\">\n    <path clip-path=\"url(#p907bc22880)\" d=\"M 556.106481 367.637422 \nL 569.04863 367.637422 \nL 569.04863 367.637422 \nL 556.106481 367.637422 \nz\n\" style=\"fill:#008fd5;\"/>\n   </g>\n   <g id=\"patch_41\">\n    <path clip-path=\"url(#p907bc22880)\" d=\"M 569.04863 367.637422 \nL 581.990779 367.637422 \nL 581.990779 367.637422 \nL 569.04863 367.637422 \nz\n\" style=\"fill:#008fd5;\"/>\n   </g>\n   <g id=\"patch_42\">\n    <path clip-path=\"url(#p907bc22880)\" d=\"M 581.990779 367.637422 \nL 594.932928 367.637422 \nL 594.932928 367.637422 \nL 581.990779 367.637422 \nz\n\" style=\"fill:#008fd5;\"/>\n   </g>\n   <g id=\"patch_43\">\n    <path clip-path=\"url(#p907bc22880)\" d=\"M 594.932928 367.637422 \nL 607.875076 367.637422 \nL 607.875076 367.637422 \nL 594.932928 367.637422 \nz\n\" style=\"fill:#008fd5;\"/>\n   </g>\n   <g id=\"patch_44\">\n    <path clip-path=\"url(#p907bc22880)\" d=\"M 607.875076 367.637422 \nL 620.817225 367.637422 \nL 620.817225 367.637422 \nL 607.875076 367.637422 \nz\n\" style=\"fill:#008fd5;\"/>\n   </g>\n   <g id=\"patch_45\">\n    <path clip-path=\"url(#p907bc22880)\" d=\"M 620.817225 367.637422 \nL 633.759374 367.637422 \nL 633.759374 367.637422 \nL 620.817225 367.637422 \nz\n\" style=\"fill:#008fd5;\"/>\n   </g>\n   <g id=\"patch_46\">\n    <path clip-path=\"url(#p907bc22880)\" d=\"M 633.759374 367.637422 \nL 646.701523 367.637422 \nL 646.701523 359.835746 \nL 633.759374 359.835746 \nz\n\" style=\"fill:#008fd5;\"/>\n   </g>\n   <g id=\"patch_47\">\n    <path d=\"M 48.77425 367.637422 \nL 48.77425 7.2 \n\" style=\"fill:none;stroke:#f0f0f0;stroke-linecap:square;stroke-linejoin:miter;stroke-width:3;\"/>\n   </g>\n   <g id=\"patch_48\">\n    <path d=\"M 675.17425 367.637422 \nL 675.17425 7.2 \n\" style=\"fill:none;stroke:#f0f0f0;stroke-linecap:square;stroke-linejoin:miter;stroke-width:3;\"/>\n   </g>\n   <g id=\"patch_49\">\n    <path d=\"M 48.77425 367.637422 \nL 675.17425 367.637422 \n\" style=\"fill:none;stroke:#f0f0f0;stroke-linecap:square;stroke-linejoin:miter;stroke-width:3;\"/>\n   </g>\n   <g id=\"patch_50\">\n    <path d=\"M 48.77425 7.2 \nL 675.17425 7.2 \n\" style=\"fill:none;stroke:#f0f0f0;stroke-linecap:square;stroke-linejoin:miter;stroke-width:3;\"/>\n   </g>\n   <g id=\"legend_1\">\n    <g id=\"patch_51\">\n     <path d=\"M 603.988625 38.949375 \nL 665.37425 38.949375 \nQ 668.17425 38.949375 668.17425 36.149375 \nL 668.17425 17 \nQ 668.17425 14.2 665.37425 14.2 \nL 603.988625 14.2 \nQ 601.188625 14.2 601.188625 17 \nL 601.188625 36.149375 \nQ 601.188625 38.949375 603.988625 38.949375 \nz\n\" style=\"fill:#f0f0f0;opacity:0.8;stroke:#cccccc;stroke-linejoin:miter;stroke-width:0.5;\"/>\n    </g>\n    <g id=\"patch_52\">\n     <path d=\"M 606.788625 30.437812 \nL 634.788625 30.437812 \nL 634.788625 20.637812 \nL 606.788625 20.637812 \nz\n\" style=\"fill:#008fd5;\"/>\n    </g>\n    <g id=\"text_16\">\n     <!-- dc -->\n     <g transform=\"translate(645.988625 30.437812)scale(0.14 -0.14)\">\n      <defs>\n       <path d=\"M 2906 2969 \nL 2906 4863 \nL 3481 4863 \nL 3481 0 \nL 2906 0 \nL 2906 525 \nQ 2725 213 2448 61 \nQ 2172 -91 1784 -91 \nQ 1150 -91 751 415 \nQ 353 922 353 1747 \nQ 353 2572 751 3078 \nQ 1150 3584 1784 3584 \nQ 2172 3584 2448 3432 \nQ 2725 3281 2906 2969 \nz\nM 947 1747 \nQ 947 1113 1208 752 \nQ 1469 391 1925 391 \nQ 2381 391 2643 752 \nQ 2906 1113 2906 1747 \nQ 2906 2381 2643 2742 \nQ 2381 3103 1925 3103 \nQ 1469 3103 1208 2742 \nQ 947 2381 947 1747 \nz\n\" id=\"DejaVuSans-64\" transform=\"scale(0.015625)\"/>\n      </defs>\n      <use xlink:href=\"#DejaVuSans-64\"/>\n      <use x=\"63.476562\" xlink:href=\"#DejaVuSans-63\"/>\n     </g>\n    </g>\n   </g>\n  </g>\n </g>\n <defs>\n  <clipPath id=\"p907bc22880\">\n   <rect height=\"360.437422\" width=\"626.4\" x=\"48.77425\" y=\"7.2\"/>\n  </clipPath>\n </defs>\n</svg>\n",
      "image/png": "[encoded data removed]"
     },
     "metadata": {}
    }
   ],
   "source": [
    "ax = high_degree_centrality.plot.hist(bins=44)\n",
    "ax.set_xlabel('Degree Centrality')\n",
    "plt.show()"
   ]
  },
  {
   "source": [
    "Anche in questo caso osserviamo che i nodi con grado maggiore sono molto pochi rispetto a quelli con grado minore."
   ],
   "cell_type": "markdown",
   "metadata": {}
  },
  {
   "cell_type": "code",
   "execution_count": 19,
   "metadata": {},
   "outputs": [
    {
     "output_type": "execute_result",
     "data": {
      "text/plain": [
       "(133613, 40.78590703183189)"
      ]
     },
     "metadata": {},
     "execution_count": 19
    }
   ],
   "source": [
    "# Vediamo il valore massimo del grado e quanto pesa sul totale\n",
    "max_degree = max(dfdc['dc'])\n",
    "\n",
    "(max_degree, max_degree / edges_count * 100)"
   ]
  },
  {
   "source": [
    "Un nodo unico genera più del 40% del traffico. Sicuramente è un caso interessante."
   ],
   "cell_type": "markdown",
   "metadata": {}
  },
  {
   "cell_type": "code",
   "execution_count": 20,
   "metadata": {},
   "outputs": [
    {
     "output_type": "execute_result",
     "data": {
      "text/plain": [
       "            dc\n",
       "id            \n",
       "331776  133613"
      ],
      "text/html": "<div>\n<style scoped>\n    .dataframe tbody tr th:only-of-type {\n        vertical-align: middle;\n    }\n\n    .dataframe tbody tr th {\n        vertical-align: top;\n    }\n\n    .dataframe thead th {\n        text-align: right;\n    }\n</style>\n<table border=\"1\" class=\"dataframe\">\n  <thead>\n    <tr style=\"text-align: right;\">\n      <th></th>\n      <th>dc</th>\n    </tr>\n    <tr>\n      <th>id</th>\n      <th></th>\n    </tr>\n  </thead>\n  <tbody>\n    <tr>\n      <th>331776</th>\n      <td>133613</td>\n    </tr>\n  </tbody>\n</table>\n</div>"
     },
     "metadata": {},
     "execution_count": 20
    }
   ],
   "source": [
    " dfdc[dfdc['dc'] == max_degree]"
   ]
  },
  {
   "source": [
    "Molto probabilmente 331776 è l'entità su cui è incentrata l'indagine. Sicuramente è un nodo di interesse."
   ],
   "cell_type": "markdown",
   "metadata": {}
  },
  {
   "cell_type": "code",
   "execution_count": 21,
   "metadata": {},
   "outputs": [
    {
     "output_type": "execute_result",
     "data": {
      "text/plain": [
       "311444"
      ]
     },
     "metadata": {},
     "execution_count": 21
    }
   ],
   "source": [
    "# verifichiamo che effettivamente la maggior parte delle conversazioni siano in entrata o in uscita da questi nodi\n",
    "high_degree_centrality_ids = [id for id in high_degree_centrality.index]\n",
    "\n",
    "high_degree_centrality_edge_count = g.V().hasId(high_degree_centrality_ids).bothE().dedup().count().next()\n",
    "high_degree_centrality_edge_count"
   ]
  },
  {
   "source": [
    "high_degree_centrality_edge_count / edges_count"
   ],
   "cell_type": "code",
   "metadata": {},
   "execution_count": 22,
   "outputs": [
    {
     "output_type": "execute_result",
     "data": {
      "text/plain": [
       "0.9506953686858204"
      ]
     },
     "metadata": {},
     "execution_count": 22
    }
   ]
  },
  {
   "source": [
    "Come ci si può aspettare più del 95% delle conversazioni partono o arrivano in questi nodi.  \n",
    "Potrebbe essere interessante sapere se questi nodi hanno interazioni tra loro."
   ],
   "cell_type": "markdown",
   "metadata": {}
  },
  {
   "cell_type": "code",
   "execution_count": 23,
   "metadata": {},
   "outputs": [
    {
     "output_type": "execute_result",
     "data": {
      "text/plain": [
       "       source    target  count\n",
       "0     1880160   1110256      1\n",
       "1      876648  26787936   1165\n",
       "2    13643864  13426688    120\n",
       "3      327920   1880160   1099\n",
       "4    13373608  13373608      1\n",
       "..        ...       ...    ...\n",
       "146    921840   1880160      2\n",
       "147    921840   1851488     17\n",
       "148    888936    921840      4\n",
       "149    634976    913608    606\n",
       "150  13373608    921840      8\n",
       "\n",
       "[151 rows x 3 columns]"
      ],
      "text/html": "<div>\n<style scoped>\n    .dataframe tbody tr th:only-of-type {\n        vertical-align: middle;\n    }\n\n    .dataframe tbody tr th {\n        vertical-align: top;\n    }\n\n    .dataframe thead th {\n        text-align: right;\n    }\n</style>\n<table border=\"1\" class=\"dataframe\">\n  <thead>\n    <tr style=\"text-align: right;\">\n      <th></th>\n      <th>source</th>\n      <th>target</th>\n      <th>count</th>\n    </tr>\n  </thead>\n  <tbody>\n    <tr>\n      <th>0</th>\n      <td>1880160</td>\n      <td>1110256</td>\n      <td>1</td>\n    </tr>\n    <tr>\n      <th>1</th>\n      <td>876648</td>\n      <td>26787936</td>\n      <td>1165</td>\n    </tr>\n    <tr>\n      <th>2</th>\n      <td>13643864</td>\n      <td>13426688</td>\n      <td>120</td>\n    </tr>\n    <tr>\n      <th>3</th>\n      <td>327920</td>\n      <td>1880160</td>\n      <td>1099</td>\n    </tr>\n    <tr>\n      <th>4</th>\n      <td>13373608</td>\n      <td>13373608</td>\n      <td>1</td>\n    </tr>\n    <tr>\n      <th>...</th>\n      <td>...</td>\n      <td>...</td>\n      <td>...</td>\n    </tr>\n    <tr>\n      <th>146</th>\n      <td>921840</td>\n      <td>1880160</td>\n      <td>2</td>\n    </tr>\n    <tr>\n      <th>147</th>\n      <td>921840</td>\n      <td>1851488</td>\n      <td>17</td>\n    </tr>\n    <tr>\n      <th>148</th>\n      <td>888936</td>\n      <td>921840</td>\n      <td>4</td>\n    </tr>\n    <tr>\n      <th>149</th>\n      <td>634976</td>\n      <td>913608</td>\n      <td>606</td>\n    </tr>\n    <tr>\n      <th>150</th>\n      <td>13373608</td>\n      <td>921840</td>\n      <td>8</td>\n    </tr>\n  </tbody>\n</table>\n<p>151 rows × 3 columns</p>\n</div>"
     },
     "metadata": {},
     "execution_count": 23
    }
   ],
   "source": [
    "high_degree_centrality_edges = g.V(high_degree_centrality_ids) \\\n",
    "    .outE().filter(\n",
    "        __.inV().hasId(P.within(high_degree_centrality_ids))\n",
    "    ).project('source', 'target') \\\n",
    "        .by(__.outV().id()) \\\n",
    "        .by(__.inV().id()) \\\n",
    "    .groupCount() \\\n",
    "        .by(__.select('source', 'target').fold()) \\\n",
    "    .unfold().where(\n",
    "        __.select(Column.values).is_(P.gt(0))\n",
    "    ) \\\n",
    "    .project('source', 'target', 'count') \\\n",
    "        .by(__.select(Column.keys).unfold().select('source')) \\\n",
    "        .by(__.select(Column.keys).unfold().select('target')) \\\n",
    "        .by(__.select(Column.values))\n",
    "\n",
    "high_degree_centrality_edges = pd.DataFrame(high_degree_centrality_edges)\n",
    "high_degree_centrality_edges"
   ]
  },
  {
   "cell_type": "code",
   "execution_count": 24,
   "metadata": {},
   "outputs": [
    {
     "output_type": "execute_result",
     "data": {
      "text/plain": [
       "0      1880160\n",
       "1       876648\n",
       "2     13643864\n",
       "3       327920\n",
       "4     13373608\n",
       "5      1851488\n",
       "6     13426688\n",
       "7      1405024\n",
       "8       634976\n",
       "9       913608\n",
       "10      921840\n",
       "11      319688\n",
       "12    27967584\n",
       "13      356520\n",
       "14    27795552\n",
       "15     1433768\n",
       "16    12882008\n",
       "17      987304\n",
       "18    13733888\n",
       "19    21197040\n",
       "20    13168744\n",
       "21    12976232\n",
       "22    12963944\n",
       "23      577736\n",
       "24    13017288\n",
       "25     1241328\n",
       "26    13635824\n",
       "27    28373088\n",
       "28    12681272\n",
       "29      872672\n",
       "30     1359960\n",
       "31      344120\n",
       "32    13099176\n",
       "33    13533240\n",
       "34      913648\n",
       "35    12918872\n",
       "36    14348488\n",
       "37    21463208\n",
       "38     1110256\n",
       "39    12607688\n",
       "40     1921024\n",
       "41     1331368\n",
       "42      888936\n",
       "43     2732128\n",
       "44      880728\n",
       "45     1372400\n",
       "46      331776\n",
       "47     1323232\n",
       "48    26787936\n",
       "49    26607712\n",
       "50     2744416\n",
       "51     1245424\n",
       "52    21299256\n",
       "53      647256\n",
       "54    26046560\n",
       "dtype: int64"
      ]
     },
     "metadata": {},
     "execution_count": 24
    }
   ],
   "source": [
    "high_degree_centrality_connected_nodes = pd.concat([high_degree_centrality_edges['source'], high_degree_centrality_edges['target']]).unique()\n",
    "pd.Series(high_degree_centrality_connected_nodes)"
   ]
  },
  {
   "source": [
    "Dei 58 nodi iniziali solo 3 sono risultati isolati.\n",
    "\n",
    "Andiamo a generare una visualizzazione del grafo per capire in che modo sono collegati."
   ],
   "cell_type": "markdown",
   "metadata": {}
  },
  {
   "cell_type": "code",
   "execution_count": 25,
   "metadata": {},
   "outputs": [
    {
     "output_type": "execute_result",
     "data": {
      "text/plain": [
       "       id.@value.relationId     label    source  target  \\\n",
       "0      g7oy5-7q4iw-4r9-isfc  chiamato  12976232  876648   \n",
       "1      g7pcd-7q4iw-4r9-isfc  chiamato  12976232  876648   \n",
       "2      g7qx9-7q4iw-4r9-isfc  chiamato  12976232  876648   \n",
       "3      g7rbh-7q4iw-4r9-isfc  chiamato  12976232  876648   \n",
       "4      g7rpp-7q4iw-4r9-isfc  chiamato  12976232  876648   \n",
       "...                     ...       ...       ...     ...   \n",
       "71691  1bq80u-jkz4-4r9-jky0  chiamato    913648  913608   \n",
       "71692  1bq8f2-jkz4-4r9-jky0  chiamato    913648  913608   \n",
       "71693  1bq8ta-jkz4-4r9-jky0  chiamato    913648  913608   \n",
       "71694  1bq97i-jkz4-4r9-jky0  chiamato    913648  913608   \n",
       "71695  1bq9lq-jkz4-4r9-jky0  chiamato    913648  913608   \n",
       "\n",
       "                                dataOra  durata  \n",
       "0      2021-04-10T23:27:04.355735+00:00       3  \n",
       "1      2021-04-10T23:27:04.355791+00:00       4  \n",
       "2      2021-04-10T23:27:04.355803+00:00    3077  \n",
       "3      2021-04-10T23:27:04.355812+00:00      39  \n",
       "4      2021-04-10T23:27:04.355821+00:00      40  \n",
       "...                                 ...     ...  \n",
       "71691  2021-04-10T23:27:05.093644+00:00       0  \n",
       "71692  2021-04-10T23:27:05.093652+00:00       0  \n",
       "71693  2021-04-10T23:27:05.093661+00:00     273  \n",
       "71694  2021-04-10T23:27:05.093670+00:00     274  \n",
       "71695  2021-04-10T23:27:05.093679+00:00     333  \n",
       "\n",
       "[71696 rows x 6 columns]"
      ],
      "text/html": "<div>\n<style scoped>\n    .dataframe tbody tr th:only-of-type {\n        vertical-align: middle;\n    }\n\n    .dataframe tbody tr th {\n        vertical-align: top;\n    }\n\n    .dataframe thead th {\n        text-align: right;\n    }\n</style>\n<table border=\"1\" class=\"dataframe\">\n  <thead>\n    <tr style=\"text-align: right;\">\n      <th></th>\n      <th>id.@value.relationId</th>\n      <th>label</th>\n      <th>source</th>\n      <th>target</th>\n      <th>dataOra</th>\n      <th>durata</th>\n    </tr>\n  </thead>\n  <tbody>\n    <tr>\n      <th>0</th>\n      <td>g7oy5-7q4iw-4r9-isfc</td>\n      <td>chiamato</td>\n      <td>12976232</td>\n      <td>876648</td>\n      <td>2021-04-10T23:27:04.355735+00:00</td>\n      <td>3</td>\n    </tr>\n    <tr>\n      <th>1</th>\n      <td>g7pcd-7q4iw-4r9-isfc</td>\n      <td>chiamato</td>\n      <td>12976232</td>\n      <td>876648</td>\n      <td>2021-04-10T23:27:04.355791+00:00</td>\n      <td>4</td>\n    </tr>\n    <tr>\n      <th>2</th>\n      <td>g7qx9-7q4iw-4r9-isfc</td>\n      <td>chiamato</td>\n      <td>12976232</td>\n      <td>876648</td>\n      <td>2021-04-10T23:27:04.355803+00:00</td>\n      <td>3077</td>\n    </tr>\n    <tr>\n      <th>3</th>\n      <td>g7rbh-7q4iw-4r9-isfc</td>\n      <td>chiamato</td>\n      <td>12976232</td>\n      <td>876648</td>\n      <td>2021-04-10T23:27:04.355812+00:00</td>\n      <td>39</td>\n    </tr>\n    <tr>\n      <th>4</th>\n      <td>g7rpp-7q4iw-4r9-isfc</td>\n      <td>chiamato</td>\n      <td>12976232</td>\n      <td>876648</td>\n      <td>2021-04-10T23:27:04.355821+00:00</td>\n      <td>40</td>\n    </tr>\n    <tr>\n      <th>...</th>\n      <td>...</td>\n      <td>...</td>\n      <td>...</td>\n      <td>...</td>\n      <td>...</td>\n      <td>...</td>\n    </tr>\n    <tr>\n      <th>71691</th>\n      <td>1bq80u-jkz4-4r9-jky0</td>\n      <td>chiamato</td>\n      <td>913648</td>\n      <td>913608</td>\n      <td>2021-04-10T23:27:05.093644+00:00</td>\n      <td>0</td>\n    </tr>\n    <tr>\n      <th>71692</th>\n      <td>1bq8f2-jkz4-4r9-jky0</td>\n      <td>chiamato</td>\n      <td>913648</td>\n      <td>913608</td>\n      <td>2021-04-10T23:27:05.093652+00:00</td>\n      <td>0</td>\n    </tr>\n    <tr>\n      <th>71693</th>\n      <td>1bq8ta-jkz4-4r9-jky0</td>\n      <td>chiamato</td>\n      <td>913648</td>\n      <td>913608</td>\n      <td>2021-04-10T23:27:05.093661+00:00</td>\n      <td>273</td>\n    </tr>\n    <tr>\n      <th>71694</th>\n      <td>1bq97i-jkz4-4r9-jky0</td>\n      <td>chiamato</td>\n      <td>913648</td>\n      <td>913608</td>\n      <td>2021-04-10T23:27:05.093670+00:00</td>\n      <td>274</td>\n    </tr>\n    <tr>\n      <th>71695</th>\n      <td>1bq9lq-jkz4-4r9-jky0</td>\n      <td>chiamato</td>\n      <td>913648</td>\n      <td>913608</td>\n      <td>2021-04-10T23:27:05.093679+00:00</td>\n      <td>333</td>\n    </tr>\n  </tbody>\n</table>\n<p>71696 rows × 6 columns</p>\n</div>"
     },
     "metadata": {},
     "execution_count": 25
    }
   ],
   "source": [
    " import jugri\n",
    " \n",
    " q = g.V(high_degree_centrality_ids).outE() \\\n",
    "    .filter(\n",
    "        __.inV().hasId(P.within(high_degree_centrality_ids))\n",
    "    ).project('id', 'label', 'source', 'target', 'dataOra', 'durata') \\\n",
    "        .by(__.id()) \\\n",
    "        .by(__.label()) \\\n",
    "        .by(__.outV().id()) \\\n",
    "        .by(__.inV().id()) \\\n",
    "        .by('dataOra') \\\n",
    "        .by('durata')\n",
    "graph_data = jugri.to_df(q)\n",
    "del graph_data['id.@type']\n",
    "graph_data.rename(columns={'id.@value.relationId': 'id'})\n",
    "graph_data['dataOra'] = graph_data['dataOra'].apply(lambda e: e.utcnow().isoformat())\n",
    "graph_data"
   ]
  },
  {
   "cell_type": "code",
   "execution_count": 26,
   "metadata": {},
   "outputs": [
    {
     "output_type": "display_data",
     "data": {
      "text/plain": "<Figure size 720x444.984 with 1 Axes>",
      "image/svg+xml": "<?xml version=\"1.0\" encoding=\"utf-8\" standalone=\"no\"?>\n<!DOCTYPE svg PUBLIC \"-//W3C//DTD SVG 1.1//EN\"\n  \"http://www.w3.org/Graphics/SVG/1.1/DTD/svg11.dtd\">\n<svg height=\"459.384472pt\" version=\"1.1\" viewBox=\"0 0 734.4 459.384472\" width=\"734.4pt\" xmlns=\"http://www.w3.org/2000/svg\" xmlns:xlink=\"http://www.w3.org/1999/xlink\">\n <metadata>\n  <rdf:RDF xmlns:cc=\"http://creativecommons.org/ns#\" xmlns:dc=\"http://purl.org/dc/elements/1.1/\" xmlns:rdf=\"http://www.w3.org/1999/02/22-rdf-syntax-ns#\">\n   <cc:Work>\n    <dc:type rdf:resource=\"http://purl.org/dc/dcmitype/StillImage\"/>\n    <dc:date>2021-04-10T23:27:05.773754</dc:date>\n    <dc:format>image/svg+xml</dc:format>\n    <dc:creator>\n     <cc:Agent>\n      <dc:title>Matplotlib v3.4.1, https://matplotlib.org/</dc:title>\n     </cc:Agent>\n    </dc:creator>\n   </cc:Work>\n  </rdf:RDF>\n </metadata>\n <defs>\n  <style type=\"text/css\">*{stroke-linecap:butt;stroke-linejoin:round;}</style>\n </defs>\n <g id=\"figure_1\">\n  <g id=\"patch_1\">\n   <path d=\"M 0 459.384472 \nL 734.4 459.384472 \nL 734.4 -0 \nL 0 -0 \nz\n\" style=\"fill:#ffffff;\"/>\n  </g>\n  <g id=\"axes_1\">\n   <g id=\"LineCollection_1\">\n    <path clip-path=\"url(#p415c90123a)\" d=\"M 86.286383 27.426567 \nL 99.324816 49.266248 \n\" style=\"fill:none;stroke:#000000;\"/>\n    <path clip-path=\"url(#p415c90123a)\" d=\"M 99.324816 49.266248 \nL 140.55708 54.810684 \n\" style=\"fill:none;stroke:#000000;\"/>\n    <path clip-path=\"url(#p415c90123a)\" d=\"M 99.324816 49.266248 \nL 139.414681 72.107643 \n\" style=\"fill:none;stroke:#000000;\"/>\n    <path clip-path=\"url(#p415c90123a)\" d=\"M 99.324816 49.266248 \nL 61.389604 34.24418 \n\" style=\"fill:none;stroke:#000000;\"/>\n    <path clip-path=\"url(#p415c90123a)\" d=\"M 99.324816 49.266248 \nL 54.666414 48.244496 \n\" style=\"fill:none;stroke:#000000;\"/>\n    <path clip-path=\"url(#p415c90123a)\" d=\"M 484.930918 147.054905 \nL 550.796118 156.354541 \n\" style=\"fill:none;stroke:#000000;\"/>\n    <path clip-path=\"url(#p415c90123a)\" d=\"M 484.930918 147.054905 \nL 495.702487 158.214515 \n\" style=\"fill:none;stroke:#000000;\"/>\n    <path clip-path=\"url(#p415c90123a)\" d=\"M 484.930918 147.054905 \nL 456.596243 159.479088 \n\" style=\"fill:none;stroke:#000000;\"/>\n    <path clip-path=\"url(#p415c90123a)\" d=\"M 484.930918 147.054905 \nL 443.62887 145.371505 \n\" style=\"fill:none;stroke:#000000;\"/>\n    <path clip-path=\"url(#p415c90123a)\" d=\"M 484.930918 147.054905 \nL 433.088015 135.202502 \n\" style=\"fill:none;stroke:#000000;\"/>\n    <path clip-path=\"url(#p415c90123a)\" d=\"M 550.796118 156.354541 \nL 472.878199 167.233595 \n\" style=\"fill:none;stroke:#000000;\"/>\n    <path clip-path=\"url(#p415c90123a)\" d=\"M 550.796118 156.354541 \nL 598.813218 174.582822 \n\" style=\"fill:none;stroke:#000000;\"/>\n    <path clip-path=\"url(#p415c90123a)\" d=\"M 550.796118 156.354541 \nL 609.413786 154.153013 \n\" style=\"fill:none;stroke:#000000;\"/>\n    <path clip-path=\"url(#p415c90123a)\" d=\"M 550.796118 156.354541 \nL 550.896879 123.891597 \n\" style=\"fill:none;stroke:#000000;\"/>\n    <path clip-path=\"url(#p415c90123a)\" d=\"M 550.796118 156.354541 \nL 608.566818 165.316354 \n\" style=\"fill:none;stroke:#000000;\"/>\n    <path clip-path=\"url(#p415c90123a)\" d=\"M 550.796118 156.354541 \nL 524.191311 134.533291 \n\" style=\"fill:none;stroke:#000000;\"/>\n    <path clip-path=\"url(#p415c90123a)\" d=\"M 550.796118 156.354541 \nL 534.933352 167.016928 \n\" style=\"fill:none;stroke:#000000;\"/>\n    <path clip-path=\"url(#p415c90123a)\" d=\"M 550.796118 156.354541 \nL 550.796118 156.354541 \n\" style=\"fill:none;stroke:#000000;\"/>\n    <path clip-path=\"url(#p415c90123a)\" d=\"M 550.796118 156.354541 \nL 561.882468 138.22235 \n\" style=\"fill:none;stroke:#000000;\"/>\n    <path clip-path=\"url(#p415c90123a)\" d=\"M 550.796118 156.354541 \nL 581.523149 181.200471 \n\" style=\"fill:none;stroke:#000000;\"/>\n    <path clip-path=\"url(#p415c90123a)\" d=\"M 495.702487 158.214515 \nL 472.878199 167.233595 \n\" style=\"fill:none;stroke:#000000;\"/>\n    <path clip-path=\"url(#p415c90123a)\" d=\"M 495.702487 158.214515 \nL 524.191311 134.533291 \n\" style=\"fill:none;stroke:#000000;\"/>\n    <path clip-path=\"url(#p415c90123a)\" d=\"M 495.702487 158.214515 \nL 534.933352 167.016928 \n\" style=\"fill:none;stroke:#000000;\"/>\n    <path clip-path=\"url(#p415c90123a)\" d=\"M 495.702487 158.214515 \nL 440.469895 167.993343 \n\" style=\"fill:none;stroke:#000000;\"/>\n    <path clip-path=\"url(#p415c90123a)\" d=\"M 456.596243 159.479088 \nL 472.878199 167.233595 \n\" style=\"fill:none;stroke:#000000;\"/>\n    <path clip-path=\"url(#p415c90123a)\" d=\"M 456.596243 159.479088 \nL 456.596243 159.479088 \n\" style=\"fill:none;stroke:#000000;\"/>\n    <path clip-path=\"url(#p415c90123a)\" d=\"M 456.596243 159.479088 \nL 440.469895 167.993343 \n\" style=\"fill:none;stroke:#000000;\"/>\n    <path clip-path=\"url(#p415c90123a)\" d=\"M 443.62887 145.371505 \nL 472.878199 167.233595 \n\" style=\"fill:none;stroke:#000000;\"/>\n    <path clip-path=\"url(#p415c90123a)\" d=\"M 443.62887 145.371505 \nL 440.469895 167.993343 \n\" style=\"fill:none;stroke:#000000;\"/>\n    <path clip-path=\"url(#p415c90123a)\" d=\"M 443.62887 145.371505 \nL 418.737926 118.621787 \n\" style=\"fill:none;stroke:#000000;\"/>\n    <path clip-path=\"url(#p415c90123a)\" d=\"M 433.088015 135.202502 \nL 381.763239 139.065563 \n\" style=\"fill:none;stroke:#000000;\"/>\n    <path clip-path=\"url(#p415c90123a)\" d=\"M 433.088015 135.202502 \nL 433.088015 135.202502 \n\" style=\"fill:none;stroke:#000000;\"/>\n    <path clip-path=\"url(#p415c90123a)\" d=\"M 433.088015 135.202502 \nL 472.001252 144.434392 \n\" style=\"fill:none;stroke:#000000;\"/>\n    <path clip-path=\"url(#p415c90123a)\" d=\"M 472.878199 167.233595 \nL 472.001252 144.434392 \n\" style=\"fill:none;stroke:#000000;\"/>\n    <path clip-path=\"url(#p415c90123a)\" d=\"M 472.878199 167.233595 \nL 398.795611 180.670707 \n\" style=\"fill:none;stroke:#000000;\"/>\n    <path clip-path=\"url(#p415c90123a)\" d=\"M 472.878199 167.233595 \nL 512.976005 184.571807 \n\" style=\"fill:none;stroke:#000000;\"/>\n    <path clip-path=\"url(#p415c90123a)\" d=\"M 472.878199 167.233595 \nL 440.469895 167.993343 \n\" style=\"fill:none;stroke:#000000;\"/>\n    <path clip-path=\"url(#p415c90123a)\" d=\"M 472.878199 167.233595 \nL 486.304141 179.391834 \n\" style=\"fill:none;stroke:#000000;\"/>\n    <path clip-path=\"url(#p415c90123a)\" d=\"M 440.469895 167.993343 \nL 486.304141 179.391834 \n\" style=\"fill:none;stroke:#000000;\"/>\n    <path clip-path=\"url(#p415c90123a)\" d=\"M 440.469895 167.993343 \nL 383.579033 162.836422 \n\" style=\"fill:none;stroke:#000000;\"/>\n    <path clip-path=\"url(#p415c90123a)\" d=\"M 440.469895 167.993343 \nL 398.795611 180.670707 \n\" style=\"fill:none;stroke:#000000;\"/>\n    <path clip-path=\"url(#p415c90123a)\" d=\"M 472.001252 144.434392 \nL 398.55261 173.538785 \n\" style=\"fill:none;stroke:#000000;\"/>\n    <path clip-path=\"url(#p415c90123a)\" d=\"M 472.001252 144.434392 \nL 550.896879 123.891597 \n\" style=\"fill:none;stroke:#000000;\"/>\n    <path clip-path=\"url(#p415c90123a)\" d=\"M 472.001252 144.434392 \nL 524.191311 134.533291 \n\" style=\"fill:none;stroke:#000000;\"/>\n    <path clip-path=\"url(#p415c90123a)\" d=\"M 398.795611 180.670707 \nL 354.431606 193.605749 \n\" style=\"fill:none;stroke:#000000;\"/>\n    <path clip-path=\"url(#p415c90123a)\" d=\"M 398.795611 180.670707 \nL 357.330151 178.475732 \n\" style=\"fill:none;stroke:#000000;\"/>\n    <path clip-path=\"url(#p415c90123a)\" d=\"M 398.795611 180.670707 \nL 375.46491 191.605055 \n\" style=\"fill:none;stroke:#000000;\"/>\n    <path clip-path=\"url(#p415c90123a)\" d=\"M 398.795611 180.670707 \nL 359.004064 185.699467 \n\" style=\"fill:none;stroke:#000000;\"/>\n    <path clip-path=\"url(#p415c90123a)\" d=\"M 398.795611 180.670707 \nL 383.579033 162.836422 \n\" style=\"fill:none;stroke:#000000;\"/>\n    <path clip-path=\"url(#p415c90123a)\" d=\"M 398.795611 180.670707 \nL 398.55261 173.538785 \n\" style=\"fill:none;stroke:#000000;\"/>\n    <path clip-path=\"url(#p415c90123a)\" d=\"M 512.976005 184.571807 \nL 534.933352 167.016928 \n\" style=\"fill:none;stroke:#000000;\"/>\n    <path clip-path=\"url(#p415c90123a)\" d=\"M 486.304141 179.391834 \nL 534.933352 167.016928 \n\" style=\"fill:none;stroke:#000000;\"/>\n    <path clip-path=\"url(#p415c90123a)\" d=\"M 381.763239 139.065563 \nL 383.579033 162.836422 \n\" style=\"fill:none;stroke:#000000;\"/>\n    <path clip-path=\"url(#p415c90123a)\" d=\"M 534.933352 167.016928 \nL 587.575968 143.155946 \n\" style=\"fill:none;stroke:#000000;\"/>\n    <path clip-path=\"url(#p415c90123a)\" d=\"M 554.445808 111.338667 \nL 524.191311 134.533291 \n\" style=\"fill:none;stroke:#000000;\"/>\n    <path clip-path=\"url(#p415c90123a)\" d=\"M 554.445808 111.338667 \nL 550.896879 123.891597 \n\" style=\"fill:none;stroke:#000000;\"/>\n    <path clip-path=\"url(#p415c90123a)\" d=\"M 524.191311 134.533291 \nL 531.240107 110.231829 \n\" style=\"fill:none;stroke:#000000;\"/>\n    <path clip-path=\"url(#p415c90123a)\" d=\"M 524.191311 134.533291 \nL 561.882468 138.22235 \n\" style=\"fill:none;stroke:#000000;\"/>\n    <path clip-path=\"url(#p415c90123a)\" d=\"M 550.896879 123.891597 \nL 531.240107 110.231829 \n\" style=\"fill:none;stroke:#000000;\"/>\n    <path clip-path=\"url(#p415c90123a)\" d=\"M 550.896879 123.891597 \nL 605.934015 86.90922 \n\" style=\"fill:none;stroke:#000000;\"/>\n    <path clip-path=\"url(#p415c90123a)\" d=\"M 550.896879 123.891597 \nL 587.575968 143.155946 \n\" style=\"fill:none;stroke:#000000;\"/>\n    <path clip-path=\"url(#p415c90123a)\" d=\"M 354.022305 410.382866 \nL 354.683921 381.693288 \n\" style=\"fill:none;stroke:#000000;\"/>\n    <path clip-path=\"url(#p415c90123a)\" d=\"M 354.022305 410.382866 \nL 353.543547 431.957905 \n\" style=\"fill:none;stroke:#000000;\"/>\n    <path clip-path=\"url(#p415c90123a)\" d=\"M 354.683921 381.693288 \nL 368.353007 371.112019 \n\" style=\"fill:none;stroke:#000000;\"/>\n    <path clip-path=\"url(#p415c90123a)\" d=\"M 354.683921 381.693288 \nL 387.390177 373.214887 \n\" style=\"fill:none;stroke:#000000;\"/>\n    <path clip-path=\"url(#p415c90123a)\" d=\"M 354.683921 381.693288 \nL 354.683921 381.693288 \n\" style=\"fill:none;stroke:#000000;\"/>\n    <path clip-path=\"url(#p415c90123a)\" d=\"M 354.683921 381.693288 \nL 321.400106 376.23582 \n\" style=\"fill:none;stroke:#000000;\"/>\n    <path clip-path=\"url(#p415c90123a)\" d=\"M 383.579033 162.836422 \nL 357.330151 178.475732 \n\" style=\"fill:none;stroke:#000000;\"/>\n    <path clip-path=\"url(#p415c90123a)\" d=\"M 126.410477 306.458174 \nL 153.483496 315.677823 \n\" style=\"fill:none;stroke:#000000;\"/>\n    <path clip-path=\"url(#p415c90123a)\" d=\"M 126.410477 306.458174 \nL 80.280746 309.735058 \n\" style=\"fill:none;stroke:#000000;\"/>\n    <path clip-path=\"url(#p415c90123a)\" d=\"M 153.483496 315.677823 \nL 153.483496 315.677823 \n\" style=\"fill:none;stroke:#000000;\"/>\n    <path clip-path=\"url(#p415c90123a)\" d=\"M 80.280746 309.735058 \nL 80.280746 309.735058 \n\" style=\"fill:none;stroke:#000000;\"/>\n    <path clip-path=\"url(#p415c90123a)\" d=\"M 80.280746 309.735058 \nL 39.927273 321.273742 \n\" style=\"fill:none;stroke:#000000;\"/>\n    <path clip-path=\"url(#p415c90123a)\" d=\"M 80.280746 309.735058 \nL 53.306322 297.617262 \n\" style=\"fill:none;stroke:#000000;\"/>\n    <path clip-path=\"url(#p415c90123a)\" d=\"M 80.280746 309.735058 \nL 88.985762 324.416066 \n\" style=\"fill:none;stroke:#000000;\"/>\n    <path clip-path=\"url(#p415c90123a)\" d=\"M 644.735589 136.768879 \nL 587.575968 143.155946 \n\" style=\"fill:none;stroke:#000000;\"/>\n    <path clip-path=\"url(#p415c90123a)\" d=\"M 354.431606 193.605749 \nL 398.55261 173.538785 \n\" style=\"fill:none;stroke:#000000;\"/>\n    <path clip-path=\"url(#p415c90123a)\" d=\"M 354.431606 193.605749 \nL 357.330151 178.475732 \n\" style=\"fill:none;stroke:#000000;\"/>\n    <path clip-path=\"url(#p415c90123a)\" d=\"M 354.431606 193.605749 \nL 375.46491 191.605055 \n\" style=\"fill:none;stroke:#000000;\"/>\n    <path clip-path=\"url(#p415c90123a)\" d=\"M 354.431606 193.605749 \nL 311.926721 209.408737 \n\" style=\"fill:none;stroke:#000000;\"/>\n    <path clip-path=\"url(#p415c90123a)\" d=\"M 354.431606 193.605749 \nL 359.004064 185.699467 \n\" style=\"fill:none;stroke:#000000;\"/>\n    <path clip-path=\"url(#p415c90123a)\" d=\"M 357.330151 178.475732 \nL 375.46491 191.605055 \n\" style=\"fill:none;stroke:#000000;\"/>\n    <path clip-path=\"url(#p415c90123a)\" d=\"M 357.330151 178.475732 \nL 359.004064 185.699467 \n\" style=\"fill:none;stroke:#000000;\"/>\n    <path clip-path=\"url(#p415c90123a)\" d=\"M 375.46491 191.605055 \nL 398.55261 173.538785 \n\" style=\"fill:none;stroke:#000000;\"/>\n    <path clip-path=\"url(#p415c90123a)\" d=\"M 359.004064 185.699467 \nL 398.55261 173.538785 \n\" style=\"fill:none;stroke:#000000;\"/>\n    <path clip-path=\"url(#p415c90123a)\" d=\"M 605.934015 86.90922 \nL 653.645625 56.046671 \n\" style=\"fill:none;stroke:#000000;\"/>\n    <path clip-path=\"url(#p415c90123a)\" d=\"M 653.645625 56.046671 \nL 671.104306 33.094064 \n\" style=\"fill:none;stroke:#000000;\"/>\n    <path clip-path=\"url(#p415c90123a)\" d=\"M 653.645625 56.046671 \nL 694.472727 42.473059 \n\" style=\"fill:none;stroke:#000000;\"/>\n    <path clip-path=\"url(#p415c90123a)\" d=\"M 368.353007 371.112019 \nL 387.390177 373.214887 \n\" style=\"fill:none;stroke:#000000;\"/>\n   </g>\n   <g id=\"PathCollection_1\">\n    <defs>\n     <path d=\"M 0 8.660254 \nC 2.296726 8.660254 4.499694 7.747755 6.123724 6.123724 \nC 7.747755 4.499694 8.660254 2.296726 8.660254 0 \nC 8.660254 -2.296726 7.747755 -4.499694 6.123724 -6.123724 \nC 4.499694 -7.747755 2.296726 -8.660254 0 -8.660254 \nC -2.296726 -8.660254 -4.499694 -7.747755 -6.123724 -6.123724 \nC -7.747755 -4.499694 -8.660254 -2.296726 -8.660254 0 \nC -8.660254 2.296726 -7.747755 4.499694 -6.123724 6.123724 \nC -4.499694 7.747755 -2.296726 8.660254 0 8.660254 \nz\n\" id=\"m980d826c37\" style=\"stroke:#1f78b4;stroke-width:0.5;\"/>\n    </defs>\n    <g clip-path=\"url(#p415c90123a)\">\n     <use style=\"fill:#1f78b4;stroke:#1f78b4;stroke-width:0.5;\" x=\"86.286383\" xlink:href=\"#m980d826c37\" y=\"27.426567\"/>\n     <use style=\"fill:#1f78b4;stroke:#1f78b4;stroke-width:0.5;\" x=\"99.324816\" xlink:href=\"#m980d826c37\" y=\"49.266248\"/>\n     <use style=\"fill:#1f78b4;stroke:#1f78b4;stroke-width:0.5;\" x=\"140.55708\" xlink:href=\"#m980d826c37\" y=\"54.810684\"/>\n     <use style=\"fill:#1f78b4;stroke:#1f78b4;stroke-width:0.5;\" x=\"484.930918\" xlink:href=\"#m980d826c37\" y=\"147.054905\"/>\n     <use style=\"fill:#1f78b4;stroke:#1f78b4;stroke-width:0.5;\" x=\"550.796118\" xlink:href=\"#m980d826c37\" y=\"156.354541\"/>\n     <use style=\"fill:#1f78b4;stroke:#1f78b4;stroke-width:0.5;\" x=\"495.702487\" xlink:href=\"#m980d826c37\" y=\"158.214515\"/>\n     <use style=\"fill:#1f78b4;stroke:#1f78b4;stroke-width:0.5;\" x=\"456.596243\" xlink:href=\"#m980d826c37\" y=\"159.479088\"/>\n     <use style=\"fill:#1f78b4;stroke:#1f78b4;stroke-width:0.5;\" x=\"443.62887\" xlink:href=\"#m980d826c37\" y=\"145.371505\"/>\n     <use style=\"fill:#1f78b4;stroke:#1f78b4;stroke-width:0.5;\" x=\"433.088015\" xlink:href=\"#m980d826c37\" y=\"135.202502\"/>\n     <use style=\"fill:#1f78b4;stroke:#1f78b4;stroke-width:0.5;\" x=\"472.878199\" xlink:href=\"#m980d826c37\" y=\"167.233595\"/>\n     <use style=\"fill:#1f78b4;stroke:#1f78b4;stroke-width:0.5;\" x=\"440.469895\" xlink:href=\"#m980d826c37\" y=\"167.993343\"/>\n     <use style=\"fill:#1f78b4;stroke:#1f78b4;stroke-width:0.5;\" x=\"472.001252\" xlink:href=\"#m980d826c37\" y=\"144.434392\"/>\n     <use style=\"fill:#1f78b4;stroke:#1f78b4;stroke-width:0.5;\" x=\"398.795611\" xlink:href=\"#m980d826c37\" y=\"180.670707\"/>\n     <use style=\"fill:#1f78b4;stroke:#1f78b4;stroke-width:0.5;\" x=\"512.976005\" xlink:href=\"#m980d826c37\" y=\"184.571807\"/>\n     <use style=\"fill:#1f78b4;stroke:#1f78b4;stroke-width:0.5;\" x=\"486.304141\" xlink:href=\"#m980d826c37\" y=\"179.391834\"/>\n     <use style=\"fill:#1f78b4;stroke:#1f78b4;stroke-width:0.5;\" x=\"381.763239\" xlink:href=\"#m980d826c37\" y=\"139.065563\"/>\n     <use style=\"fill:#1f78b4;stroke:#1f78b4;stroke-width:0.5;\" x=\"534.933352\" xlink:href=\"#m980d826c37\" y=\"167.016928\"/>\n     <use style=\"fill:#1f78b4;stroke:#1f78b4;stroke-width:0.5;\" x=\"554.445808\" xlink:href=\"#m980d826c37\" y=\"111.338667\"/>\n     <use style=\"fill:#1f78b4;stroke:#1f78b4;stroke-width:0.5;\" x=\"524.191311\" xlink:href=\"#m980d826c37\" y=\"134.533291\"/>\n     <use style=\"fill:#1f78b4;stroke:#1f78b4;stroke-width:0.5;\" x=\"550.896879\" xlink:href=\"#m980d826c37\" y=\"123.891597\"/>\n     <use style=\"fill:#1f78b4;stroke:#1f78b4;stroke-width:0.5;\" x=\"354.022305\" xlink:href=\"#m980d826c37\" y=\"410.382866\"/>\n     <use style=\"fill:#1f78b4;stroke:#1f78b4;stroke-width:0.5;\" x=\"354.683921\" xlink:href=\"#m980d826c37\" y=\"381.693288\"/>\n     <use style=\"fill:#1f78b4;stroke:#1f78b4;stroke-width:0.5;\" x=\"353.543547\" xlink:href=\"#m980d826c37\" y=\"431.957905\"/>\n     <use style=\"fill:#1f78b4;stroke:#1f78b4;stroke-width:0.5;\" x=\"598.813218\" xlink:href=\"#m980d826c37\" y=\"174.582822\"/>\n     <use style=\"fill:#1f78b4;stroke:#1f78b4;stroke-width:0.5;\" x=\"383.579033\" xlink:href=\"#m980d826c37\" y=\"162.836422\"/>\n     <use style=\"fill:#1f78b4;stroke:#1f78b4;stroke-width:0.5;\" x=\"126.410477\" xlink:href=\"#m980d826c37\" y=\"306.458174\"/>\n     <use style=\"fill:#1f78b4;stroke:#1f78b4;stroke-width:0.5;\" x=\"153.483496\" xlink:href=\"#m980d826c37\" y=\"315.677823\"/>\n     <use style=\"fill:#1f78b4;stroke:#1f78b4;stroke-width:0.5;\" x=\"80.280746\" xlink:href=\"#m980d826c37\" y=\"309.735058\"/>\n     <use style=\"fill:#1f78b4;stroke:#1f78b4;stroke-width:0.5;\" x=\"644.735589\" xlink:href=\"#m980d826c37\" y=\"136.768879\"/>\n     <use style=\"fill:#1f78b4;stroke:#1f78b4;stroke-width:0.5;\" x=\"587.575968\" xlink:href=\"#m980d826c37\" y=\"143.155946\"/>\n     <use style=\"fill:#1f78b4;stroke:#1f78b4;stroke-width:0.5;\" x=\"354.431606\" xlink:href=\"#m980d826c37\" y=\"193.605749\"/>\n     <use style=\"fill:#1f78b4;stroke:#1f78b4;stroke-width:0.5;\" x=\"357.330151\" xlink:href=\"#m980d826c37\" y=\"178.475732\"/>\n     <use style=\"fill:#1f78b4;stroke:#1f78b4;stroke-width:0.5;\" x=\"375.46491\" xlink:href=\"#m980d826c37\" y=\"191.605055\"/>\n     <use style=\"fill:#1f78b4;stroke:#1f78b4;stroke-width:0.5;\" x=\"359.004064\" xlink:href=\"#m980d826c37\" y=\"185.699467\"/>\n     <use style=\"fill:#1f78b4;stroke:#1f78b4;stroke-width:0.5;\" x=\"398.55261\" xlink:href=\"#m980d826c37\" y=\"173.538785\"/>\n     <use style=\"fill:#1f78b4;stroke:#1f78b4;stroke-width:0.5;\" x=\"605.934015\" xlink:href=\"#m980d826c37\" y=\"86.90922\"/>\n     <use style=\"fill:#1f78b4;stroke:#1f78b4;stroke-width:0.5;\" x=\"653.645625\" xlink:href=\"#m980d826c37\" y=\"56.046671\"/>\n     <use style=\"fill:#1f78b4;stroke:#1f78b4;stroke-width:0.5;\" x=\"139.414681\" xlink:href=\"#m980d826c37\" y=\"72.107643\"/>\n     <use style=\"fill:#1f78b4;stroke:#1f78b4;stroke-width:0.5;\" x=\"39.927273\" xlink:href=\"#m980d826c37\" y=\"321.273742\"/>\n     <use style=\"fill:#1f78b4;stroke:#1f78b4;stroke-width:0.5;\" x=\"53.306322\" xlink:href=\"#m980d826c37\" y=\"297.617262\"/>\n     <use style=\"fill:#1f78b4;stroke:#1f78b4;stroke-width:0.5;\" x=\"88.985762\" xlink:href=\"#m980d826c37\" y=\"324.416066\"/>\n     <use style=\"fill:#1f78b4;stroke:#1f78b4;stroke-width:0.5;\" x=\"311.926721\" xlink:href=\"#m980d826c37\" y=\"209.408737\"/>\n     <use style=\"fill:#1f78b4;stroke:#1f78b4;stroke-width:0.5;\" x=\"418.737926\" xlink:href=\"#m980d826c37\" y=\"118.621787\"/>\n     <use style=\"fill:#1f78b4;stroke:#1f78b4;stroke-width:0.5;\" x=\"368.353007\" xlink:href=\"#m980d826c37\" y=\"371.112019\"/>\n     <use style=\"fill:#1f78b4;stroke:#1f78b4;stroke-width:0.5;\" x=\"387.390177\" xlink:href=\"#m980d826c37\" y=\"373.214887\"/>\n     <use style=\"fill:#1f78b4;stroke:#1f78b4;stroke-width:0.5;\" x=\"671.104306\" xlink:href=\"#m980d826c37\" y=\"33.094064\"/>\n     <use style=\"fill:#1f78b4;stroke:#1f78b4;stroke-width:0.5;\" x=\"609.413786\" xlink:href=\"#m980d826c37\" y=\"154.153013\"/>\n     <use style=\"fill:#1f78b4;stroke:#1f78b4;stroke-width:0.5;\" x=\"61.389604\" xlink:href=\"#m980d826c37\" y=\"34.24418\"/>\n     <use style=\"fill:#1f78b4;stroke:#1f78b4;stroke-width:0.5;\" x=\"54.666414\" xlink:href=\"#m980d826c37\" y=\"48.244496\"/>\n     <use style=\"fill:#1f78b4;stroke:#1f78b4;stroke-width:0.5;\" x=\"531.240107\" xlink:href=\"#m980d826c37\" y=\"110.231829\"/>\n     <use style=\"fill:#1f78b4;stroke:#1f78b4;stroke-width:0.5;\" x=\"321.400106\" xlink:href=\"#m980d826c37\" y=\"376.23582\"/>\n     <use style=\"fill:#1f78b4;stroke:#1f78b4;stroke-width:0.5;\" x=\"608.566818\" xlink:href=\"#m980d826c37\" y=\"165.316354\"/>\n     <use style=\"fill:#1f78b4;stroke:#1f78b4;stroke-width:0.5;\" x=\"561.882468\" xlink:href=\"#m980d826c37\" y=\"138.22235\"/>\n     <use style=\"fill:#1f78b4;stroke:#1f78b4;stroke-width:0.5;\" x=\"694.472727\" xlink:href=\"#m980d826c37\" y=\"42.473059\"/>\n     <use style=\"fill:#1f78b4;stroke:#1f78b4;stroke-width:0.5;\" x=\"581.523149\" xlink:href=\"#m980d826c37\" y=\"181.200471\"/>\n    </g>\n   </g>\n  </g>\n </g>\n <defs>\n  <clipPath id=\"p415c90123a\">\n   <rect height=\"444.984472\" width=\"720\" x=\"7.2\" y=\"7.2\"/>\n  </clipPath>\n </defs>\n</svg>\n",
      "image/png": "[encoded data removed]"
     },
     "metadata": {}
    }
   ],
   "source": [
    "# visualizzazione statica in caso quella dinamica non funzioni\n",
    "\n",
    "import networkx as nx\n",
    "\n",
    "G = nx.from_pandas_edgelist(graph_data, edge_attr=['dataOra', 'durata'])\n",
    "nx.draw(G)\n",
    "plt.show()"
   ]
  },
  {
   "cell_type": "code",
   "execution_count": 27,
   "metadata": {},
   "outputs": [
    {
     "output_type": "execute_result",
     "data": {
      "text/plain": [
       "<IPython.lib.display.IFrame at 0x7f671785bb80>"
      ],
      "text/html": "\n        <iframe\n            width=\"1024px\"\n            height=\"768px\"\n            src=\"nx.html\"\n            frameborder=\"0\"\n            allowfullscreen\n        ></iframe>\n        "
     },
     "metadata": {},
     "execution_count": 27
    }
   ],
   "source": [
    "# renderizzo il grafo interattivo\n",
    "from pyvis.network import Network\n",
    "\n",
    "nt = Network(width='1024px', height='768px', notebook=True)\n",
    "nt.from_nx(G)\n",
    "nt.show('nx.html')"
   ]
  },
  {
   "source": [
    "Dal rendering si individuano diverse foreste, una di grandi dimensioni 3 di dimensioni più ridotte.  \n",
    "Dalla visualizzazione è immediato individuare le probabili reti di conoscenze tra gli individui."
   ],
   "cell_type": "markdown",
   "metadata": {}
  }
 ]
}